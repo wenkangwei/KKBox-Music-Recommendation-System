{
  "nbformat": 4,
  "nbformat_minor": 0,
  "metadata": {
    "kernelspec": {
      "name": "python3",
      "display_name": "Python 3",
      "language": "python"
    },
    "language_info": {
      "name": "python",
      "version": "3.7.6",
      "mimetype": "text/x-python",
      "codemirror_mode": {
        "name": "ipython",
        "version": 3
      },
      "pygments_lexer": "ipython3",
      "nbconvert_exporter": "python",
      "file_extension": ".py"
    },
    "colab": {
      "name": "kkboxmusicrecommendation-notebook-v7.ipynb",
      "provenance": [],
      "collapsed_sections": []
    }
  },
  "cells": [
    {
      "cell_type": "markdown",
      "metadata": {
        "id": "m0qKfG_4xpaB"
      },
      "source": [
        "# CPSC6300 - Final Project: KKBox-Music Recommendation System\n",
        "# Author: Wenkang Wei, ShuLe Zhu"
      ]
    },
    {
      "cell_type": "markdown",
      "metadata": {
        "id": "-q-yc2oiiWEl"
      },
      "source": [
        "# Outline of KKBox-Music Recommendation System \n",
        "Here is an outline of the project, the project will discuss following sections\n",
        "## Motivation\n",
        "A recommendation system is a subclass of an information filtering system that seeks to predict the \"rating\" or \"preference\" a user would give to an item.\n",
        "In Music Recommendation System, due to the fact that there are millions of musics, composers, artist and other information, it is hard for users to pick the musics they like from millions of songs and remember which songs they like and want to re-play. Hence it is necessary to build a music recommendation system to recommend musics, which users prefer and are likely to repeat listening to.\n",
        "\n",
        "## Goal of this project\n",
        "In this project, we are going to build a recommendation system to predict the chances of a user listening to a song repetitively after the first observable listening event within a time window was triggered. If there are recurring listening event(s) triggered within a month after the user’s very first observable listening event, its target is marked 1, and 0 otherwise in the training set. The same rule applies to the testing set.\n",
        "\n",
        "## Platform\n",
        "We run this notebook in Google Colab. Please read this reference to see how to download kaggle data to google colab https://www.kaggle.com/general/74235\n",
        "\n",
        "You can run the codes with some modifications, like changing root path in Kaggle platform as well\n",
        "\n",
        "## 0. Data Collection and Description\n",
        "**Two Ways to download dataset:** Google Drive, Kaggle resource\n",
        "\n",
        "**Descriptions of dataset:**\n",
        "\n",
        "1. train.csv\n",
        "    + msno: user id\n",
        "    + song_id: song id\n",
        "    + source_system_tab: the name of the tab where the event was triggered. System tabs are used to categorize KKBOX mobile apps functions. For example, tab my library contains functions to manipulate the local storage, and tab search contains functions relating to search.\n",
        "    + source_screen_name: name of the layout a user sees.\n",
        "    + source_type: an entry point a user first plays music on mobile apps. An entry point could be album, online-playlist, song .. etc.\n",
        "    + target: this is the target variable. target=1 means there are recurring listening event(s) triggered within a month after the user’s very first observable listening event, target=0 otherwise .\n",
        "    \n",
        " \n",
        "2. test.csv\n",
        "    + id: row id (will be used for submission)\n",
        "    + msno: user id\n",
        "    + song_id: song id\n",
        "    + source_system_tab: the name of the tab where the event was triggered. System tabs are used to categorize KKBOX mobile apps functions. For example, tab my library contains functions to manipulate the local storage, and tab search contains functions relating to search.\n",
        "    + source_screen_name: name of the layout a user sees.\n",
        "    + source_type: an entry point a user first plays music on mobile apps. An entry point could be album, online-playlist, song .. etc.\n",
        "\n",
        "3. sample_submission.csv\n",
        "    + sample submission file in the format that we expect you to submit\n",
        "    + id: same as id in test.csv\n",
        "    + target: this is the target variable. target=1 means there are recurring listening event(s) triggered within a month after the user’s very first observable listening event, target=0 otherwise .\n",
        "    \n",
        "    \n",
        "4. songs.csv\n",
        "    The songs. Note that data is in unicode.\n",
        "\n",
        "    + song_id\n",
        "    + song_length: in ms\n",
        "    + genre_ids: genre category. Some songs have multiple genres and they are separated by |\n",
        "    + artist_name\n",
        "    + composer\n",
        "    + lyricist\n",
        "    + language\n",
        "    \n",
        "    \n",
        "5. members.csv\n",
        "    user information.\n",
        "    + msno\n",
        "    + city\n",
        "    + bd: age. Note: this column has outlier values, please use your judgement.\n",
        "    + gender\n",
        "    + registered_via: registration method\n",
        "    + registration_init_time: format %Y%m%d\n",
        "    + expiration_date: format %Y%m%d\n",
        "\n",
        "6. song_extra_info.csv\n",
        "    + song_id\n",
        "    + song name - the name of the song.\n",
        "    + isrc - International Standard Recording Code, theoretically can be used as an identity of a song. However, what worth to note is, ISRCs generated from providers have not been officially verified; therefore the information in ISRC, such as country code and reference year, can be misleading/incorrect. Multiple songs could share one ISRC since a single recording could be re-published several times.\n",
        "\n",
        "## 1. Exploratory Data Analysis (EDA)\n",
        "In data exploratory data analysis, we will do the following visualization and analysis to exploret the relationship between attributes:\n",
        "\n",
        "+ Find the Description and summary of each CSV file and determine Null object, categorical attributes, numerical attributes\n",
        "+ Analyze Song information\n",
        "  - Plot and visualize the count of song genres, composers, artists\n",
        "  - Plot and visualize the count of source types, source screen names, system tabs with target as hue axis\n",
        "   \n",
        "+ Analyze Member information\n",
        "  - visualize the count of bd/age attribute\n",
        "\n",
        "+ Analyze correlation between different attributes using heatmap plot\n",
        "\n",
        "+ Plot bivariate plots to visualize and analyze relationship between attributes, like city and age/bd, expiration date and target.\n",
        "\n",
        "\n",
        "## 2. Data Preprocessing \n",
        "**Note that** This section is to give some examples to preprocess data like filling missing values and removing outliers. \n",
        "\n",
        "**To train models directly, we start from step 3 data ETL to extract and transform data directly using integrated functions**\n",
        "\n",
        "+ Convert String datetime data to datetime format and separate year, month, day as new features\n",
        "\n",
        "+ Remove the outliers\n",
        "\n",
        "+ Filling missing values\n",
        "\n",
        "+ Transform and add new features\n",
        "\n",
        "+ Convert features from object type into categorical type.\n",
        "\n",
        "## 3. Data Pipeline: Extract, Transformation, Load (ETL) \n",
        "**Please Note that since RAM memory is small (only 12GB), to avoid the program crashes, You may need to directly start from Step 3 (ETL) to clean and transform data and train model later.**\n",
        "\n",
        "\n",
        "## 4. Machine Learning Modeling\n",
        "+ **Task**\n",
        "\n",
        "+ **Loss Function**\n",
        "\n",
        "+ **Evaluation Metric**  \n",
        "\n",
        "+ **Light Gradient Boosting machines (LGBM) model**\n",
        "\n",
        "+ **Wide and Deep Neural network model**\n",
        "\n",
        "## 5. Model Training and validation\n",
        "\n",
        "## 6. Model Evaluation\n",
        "\n",
        "## 7. Report and Conclusion\n"
      ]
    },
    {
      "cell_type": "markdown",
      "metadata": {
        "id": "fprJ_L9M23-p"
      },
      "source": [
        "."
      ]
    },
    {
      "cell_type": "markdown",
      "metadata": {
        "id": "TrYTVMQy26Ds"
      },
      "source": [
        "."
      ]
    },
    {
      "cell_type": "markdown",
      "metadata": {
        "id": "dz-5GcsZ2xb0"
      },
      "source": [
        "# 0. Data Collection"
      ]
    },
    {
      "cell_type": "code",
      "metadata": {
        "id": "j73sgzPZ9NaY"
      },
      "source": [
        "# create directory to store data\n",
        "!mkdir -p ./kaggle/"
      ],
      "execution_count": 1,
      "outputs": []
    },
    {
      "cell_type": "markdown",
      "metadata": {
        "id": "IMnjUaIO5mg6"
      },
      "source": [
        "## Method 1: Download data from my Google Drive directly (Recommended)\n",
        "This method requires we use a tool called. **gdown**\n",
        "If you have not install it, please install it first by command line:  \n",
        "\n",
        "**pip install gdown**"
      ]
    },
    {
      "cell_type": "code",
      "metadata": {
        "colab": {
          "base_uri": "https://localhost:8080/"
        },
        "id": "74m5PVk20GWz",
        "outputId": "3f255d3d-3d47-462f-ac30-4e742cb354a5"
      },
      "source": [
        "# url to dataset in Google Drive: https://drive.google.com/file/d/1-WJHZUWFtz9ksfvFoX-dc-ZKjZ6fTk0D/view?usp=sharing\n",
        "! gdown --id 1-WJHZUWFtz9ksfvFoX-dc-ZKjZ6fTk0D\n",
        "! unzip kkbox-dataset.zip"
      ],
      "execution_count": 4,
      "outputs": [
        {
          "output_type": "stream",
          "text": [
            "Downloading...\n",
            "From: https://drive.google.com/uc?id=1-WJHZUWFtz9ksfvFoX-dc-ZKjZ6fTk0D\n",
            "To: /content/kkbox-dataset.zip\n",
            "362MB [00:03, 101MB/s]\n",
            "Archive:  kkbox-dataset.zip\n",
            "replace members.csv.7z? [y]es, [n]o, [A]ll, [N]one, [r]ename: n\n",
            "replace sample_submission.csv.7z? [y]es, [n]o, [A]ll, [N]one, [r]ename: N\n"
          ],
          "name": "stdout"
        }
      ]
    },
    {
      "cell_type": "markdown",
      "metadata": {
        "id": "IR1ccyuwxLuB"
      },
      "source": [
        "## Method 2: Dowload data from kaggle website. **(Please Skip this, if you choose Method 1)**\n",
        "This method requires you to download and upload API token, a file called kaggle.json from your kaggle account first.\n",
        "\n",
        "Please refer to this tutorial https://www.kaggle.com/general/74235\n"
      ]
    },
    {
      "cell_type": "code",
      "metadata": {
        "colab": {
          "base_uri": "https://localhost:8080/"
        },
        "id": "Ck43n8ej3TFz",
        "outputId": "204ab904-f225-431a-a472-c4a263fecd57"
      },
      "source": [
        "from google.colab import drive\n",
        "drive.mount('/content/drive')"
      ],
      "execution_count": 1,
      "outputs": [
        {
          "output_type": "stream",
          "text": [
            "Mounted at /content/drive\n"
          ],
          "name": "stdout"
        }
      ]
    },
    {
      "cell_type": "code",
      "metadata": {
        "colab": {
          "base_uri": "https://localhost:8080/"
        },
        "id": "A73LBuMm26L_",
        "outputId": "5a80c909-8a53-45e3-97ff-0a538ff80fa9"
      },
      "source": [
        "!pip install kaggle"
      ],
      "execution_count": 2,
      "outputs": [
        {
          "output_type": "stream",
          "text": [
            "Requirement already satisfied: kaggle in /usr/local/lib/python3.6/dist-packages (1.5.9)\n",
            "Requirement already satisfied: python-slugify in /usr/local/lib/python3.6/dist-packages (from kaggle) (4.0.1)\n",
            "Requirement already satisfied: slugify in /usr/local/lib/python3.6/dist-packages (from kaggle) (0.0.1)\n",
            "Requirement already satisfied: tqdm in /usr/local/lib/python3.6/dist-packages (from kaggle) (4.41.1)\n",
            "Requirement already satisfied: requests in /usr/local/lib/python3.6/dist-packages (from kaggle) (2.23.0)\n",
            "Requirement already satisfied: certifi in /usr/local/lib/python3.6/dist-packages (from kaggle) (2020.11.8)\n",
            "Requirement already satisfied: python-dateutil in /usr/local/lib/python3.6/dist-packages (from kaggle) (2.8.1)\n",
            "Requirement already satisfied: urllib3 in /usr/local/lib/python3.6/dist-packages (from kaggle) (1.24.3)\n",
            "Requirement already satisfied: six>=1.10 in /usr/local/lib/python3.6/dist-packages (from kaggle) (1.15.0)\n",
            "Requirement already satisfied: text-unidecode>=1.3 in /usr/local/lib/python3.6/dist-packages (from python-slugify->kaggle) (1.3)\n",
            "Requirement already satisfied: chardet<4,>=3.0.2 in /usr/local/lib/python3.6/dist-packages (from requests->kaggle) (3.0.4)\n",
            "Requirement already satisfied: idna<3,>=2.5 in /usr/local/lib/python3.6/dist-packages (from requests->kaggle) (2.10)\n"
          ],
          "name": "stdout"
        }
      ]
    },
    {
      "cell_type": "markdown",
      "metadata": {
        "id": "shiZuj8d_kGe"
      },
      "source": [
        "If using Method2 to download dataset, please make sure you download kaggle.json API token from your kaggle account to current directory."
      ]
    },
    {
      "cell_type": "code",
      "metadata": {
        "id": "f2rUAOmW3fMj",
        "colab": {
          "base_uri": "https://localhost:8080/"
        },
        "outputId": "825daca5-c895-4799-a67a-73b436468d66"
      },
      "source": [
        "# Copy kaggle.json file to current directory\n",
        "\n",
        "# Note: Please modify this command to upload your own kaggle.json file !\n",
        "\n",
        "!cp /content/drive/My\\ Drive/Colab\\ Notebooks/KKBox-MusicRecommendationSystem/kaggle.json .\n",
        "\n",
        "\n",
        "# !!chmod 600 kaggle.json\n",
        "!mkdir -p ~/.kaggle\n",
        "!cp kaggle.json ~/.kaggle/\n",
        "!ls ~/.kaggle\n",
        "!mkdir -p ./kaggle/\n",
        "!chmod 600 /root/.kaggle/kaggle.json\n",
        "!kaggle  competitions download kkbox-music-recommendation-challenge\n",
        "\n",
        "\n",
        "!du -h *.csv.7z"
      ],
      "execution_count": 3,
      "outputs": [
        {
          "output_type": "stream",
          "text": [
            "kaggle.json\n",
            "Warning: Looks like you're using an outdated API Version, please consider updating (server 1.5.10 / client 1.5.4)\n",
            "Downloading song_extra_info.csv.7z to /content\n",
            " 93% 92.0M/98.8M [00:03<00:00, 16.9MB/s]\n",
            "100% 98.8M/98.8M [00:03<00:00, 27.8MB/s]\n",
            "Downloading songs.csv.7z to /content\n",
            " 96% 97.0M/101M [00:05<00:00, 10.3MB/s]\n",
            "100% 101M/101M [00:05<00:00, 20.0MB/s] \n",
            "Downloading train.csv.7z to /content\n",
            " 96% 97.0M/101M [00:03<00:00, 11.0MB/s]\n",
            "100% 101M/101M [00:03<00:00, 28.2MB/s] \n",
            "Downloading test.csv.7z to /content\n",
            " 79% 33.0M/41.9M [00:02<00:01, 6.29MB/s]\n",
            "100% 41.9M/41.9M [00:02<00:00, 15.3MB/s]\n",
            "Downloading sample_submission.csv.7z to /content\n",
            "  0% 0.00/453k [00:00<?, ?B/s]\n",
            "100% 453k/453k [00:00<00:00, 63.1MB/s]\n",
            "Downloading members.csv.7z to /content\n",
            "  0% 0.00/1.29M [00:00<?, ?B/s]\n",
            "100% 1.29M/1.29M [00:00<00:00, 86.2MB/s]\n",
            "1.3M\tmembers.csv.7z\n",
            "456K\tsample_submission.csv.7z\n",
            "99M\tsong_extra_info.csv.7z\n",
            "101M\tsongs.csv.7z\n",
            "42M\ttest.csv.7z\n",
            "102M\ttrain.csv.7z\n"
          ],
          "name": "stdout"
        }
      ]
    },
    {
      "cell_type": "code",
      "metadata": {
        "id": "64hlurf5zhNq"
      },
      "source": [
        ""
      ],
      "execution_count": 8,
      "outputs": []
    },
    {
      "cell_type": "markdown",
      "metadata": {
        "id": "2DNrLNp82xXC"
      },
      "source": [
        "## Use 7z to uncompress the csv data files"
      ]
    },
    {
      "cell_type": "code",
      "metadata": {
        "colab": {
          "base_uri": "https://localhost:8080/"
        },
        "id": "DMZ7SNfq28sI",
        "outputId": "fd30a99a-ce3f-4199-d3fd-a18aec54dc82"
      },
      "source": [
        "!mkdir kaggle/working\n",
        "!mkdir kaggle/working/train\n",
        "!mkdir kaggle/working/train/data\n",
        "!apt-get install p7zip\n",
        "!apt-get install p7zip-full \n",
        "!7za e members.csv.7z \n",
        "!7za e songs.csv.7z \n",
        "!7za e song_extra_info.csv.7z \n",
        "!7za e train.csv.7z \n",
        "!7za e sample_submission.csv.7z \n",
        "!7za e test.csv.7z \n",
        "!mv *.csv kaggle/working/train/data"
      ],
      "execution_count": 3,
      "outputs": [
        {
          "output_type": "stream",
          "text": [
            "Reading package lists... Done\n",
            "Building dependency tree       \n",
            "Reading state information... Done\n",
            "p7zip is already the newest version (16.02+dfsg-6).\n",
            "p7zip set to manually installed.\n",
            "0 upgraded, 0 newly installed, 0 to remove and 14 not upgraded.\n",
            "Reading package lists... Done\n",
            "Building dependency tree       \n",
            "Reading state information... Done\n",
            "p7zip-full is already the newest version (16.02+dfsg-6).\n",
            "0 upgraded, 0 newly installed, 0 to remove and 14 not upgraded.\n",
            "\n",
            "7-Zip (a) [64] 16.02 : Copyright (c) 1999-2016 Igor Pavlov : 2016-05-21\n",
            "p7zip Version 16.02 (locale=en_US.UTF-8,Utf16=on,HugeFiles=on,64 bits,2 CPUs Intel(R) Xeon(R) CPU @ 2.30GHz (306F0),ASM,AES-NI)\n",
            "\n",
            "Scanning the drive for archives:\n",
            "  0M Scan\b\b\b\b\b\b\b\b\b         \b\b\b\b\b\b\b\b\b1 file, 1349856 bytes (1319 KiB)\n",
            "\n",
            "Extracting archive: members.csv.7z\n",
            "--\n",
            "Path = members.csv.7z\n",
            "Type = 7z\n",
            "Physical Size = 1349856\n",
            "Headers Size = 130\n",
            "Method = LZMA2:3m\n",
            "Solid = -\n",
            "Blocks = 1\n",
            "\n",
            "  0%\b\b\b\b    \b\b\b\bEverything is Ok\n",
            "\n",
            "Size:       2503827\n",
            "Compressed: 1349856\n",
            "\n",
            "7-Zip (a) [64] 16.02 : Copyright (c) 1999-2016 Igor Pavlov : 2016-05-21\n",
            "p7zip Version 16.02 (locale=en_US.UTF-8,Utf16=on,HugeFiles=on,64 bits,2 CPUs Intel(R) Xeon(R) CPU @ 2.30GHz (306F0),ASM,AES-NI)\n",
            "\n",
            "Scanning the drive for archives:\n",
            "  0M Scan\b\b\b\b\b\b\b\b\b         \b\b\b\b\b\b\b\b\b1 file, 105809525 bytes (101 MiB)\n",
            "\n",
            "Extracting archive: songs.csv.7z\n",
            "--\n",
            "Path = songs.csv.7z\n",
            "Type = 7z\n",
            "Physical Size = 105809525\n",
            "Headers Size = 122\n",
            "Method = LZMA2:24\n",
            "Solid = -\n",
            "Blocks = 1\n",
            "\n",
            "  0%\b\b\b\b    \b\b\b\b  2% - songs.csv\b\b\b\b\b\b\b\b\b\b\b\b\b\b\b\b                \b\b\b\b\b\b\b\b\b\b\b\b\b\b\b\b  5% - songs.csv\b\b\b\b\b\b\b\b\b\b\b\b\b\b\b\b                \b\b\b\b\b\b\b\b\b\b\b\b\b\b\b\b  9% - songs.csv\b\b\b\b\b\b\b\b\b\b\b\b\b\b\b\b                \b\b\b\b\b\b\b\b\b\b\b\b\b\b\b\b 12% - songs.csv\b\b\b\b\b\b\b\b\b\b\b\b\b\b\b\b                \b\b\b\b\b\b\b\b\b\b\b\b\b\b\b\b 15% - songs.csv\b\b\b\b\b\b\b\b\b\b\b\b\b\b\b\b                \b\b\b\b\b\b\b\b\b\b\b\b\b\b\b\b 18% - songs.csv\b\b\b\b\b\b\b\b\b\b\b\b\b\b\b\b                \b\b\b\b\b\b\b\b\b\b\b\b\b\b\b\b 20% - songs.csv\b\b\b\b\b\b\b\b\b\b\b\b\b\b\b\b                \b\b\b\b\b\b\b\b\b\b\b\b\b\b\b\b 23% - songs.csv\b\b\b\b\b\b\b\b\b\b\b\b\b\b\b\b                \b\b\b\b\b\b\b\b\b\b\b\b\b\b\b\b 26% - songs.csv\b\b\b\b\b\b\b\b\b\b\b\b\b\b\b\b                \b\b\b\b\b\b\b\b\b\b\b\b\b\b\b\b 29% - songs.csv\b\b\b\b\b\b\b\b\b\b\b\b\b\b\b\b                \b\b\b\b\b\b\b\b\b\b\b\b\b\b\b\b 32% - songs.csv\b\b\b\b\b\b\b\b\b\b\b\b\b\b\b\b                \b\b\b\b\b\b\b\b\b\b\b\b\b\b\b\b 35% - songs.csv\b\b\b\b\b\b\b\b\b\b\b\b\b\b\b\b                \b\b\b\b\b\b\b\b\b\b\b\b\b\b\b\b 37% - songs.csv\b\b\b\b\b\b\b\b\b\b\b\b\b\b\b\b                \b\b\b\b\b\b\b\b\b\b\b\b\b\b\b\b 41% - songs.csv\b\b\b\b\b\b\b\b\b\b\b\b\b\b\b\b                \b\b\b\b\b\b\b\b\b\b\b\b\b\b\b\b 43% - songs.csv\b\b\b\b\b\b\b\b\b\b\b\b\b\b\b\b                \b\b\b\b\b\b\b\b\b\b\b\b\b\b\b\b 46% - songs.csv\b\b\b\b\b\b\b\b\b\b\b\b\b\b\b\b                \b\b\b\b\b\b\b\b\b\b\b\b\b\b\b\b 49% - songs.csv\b\b\b\b\b\b\b\b\b\b\b\b\b\b\b\b                \b\b\b\b\b\b\b\b\b\b\b\b\b\b\b\b 51% - songs.csv\b\b\b\b\b\b\b\b\b\b\b\b\b\b\b\b                \b\b\b\b\b\b\b\b\b\b\b\b\b\b\b\b 54% - songs.csv\b\b\b\b\b\b\b\b\b\b\b\b\b\b\b\b                \b\b\b\b\b\b\b\b\b\b\b\b\b\b\b\b 56% - songs.csv\b\b\b\b\b\b\b\b\b\b\b\b\b\b\b\b                \b\b\b\b\b\b\b\b\b\b\b\b\b\b\b\b 59% - songs.csv\b\b\b\b\b\b\b\b\b\b\b\b\b\b\b\b                \b\b\b\b\b\b\b\b\b\b\b\b\b\b\b\b 62% - songs.csv\b\b\b\b\b\b\b\b\b\b\b\b\b\b\b\b                \b\b\b\b\b\b\b\b\b\b\b\b\b\b\b\b 65% - songs.csv\b\b\b\b\b\b\b\b\b\b\b\b\b\b\b\b                \b\b\b\b\b\b\b\b\b\b\b\b\b\b\b\b 68% - songs.csv\b\b\b\b\b\b\b\b\b\b\b\b\b\b\b\b                \b\b\b\b\b\b\b\b\b\b\b\b\b\b\b\b 70% - songs.csv\b\b\b\b\b\b\b\b\b\b\b\b\b\b\b\b                \b\b\b\b\b\b\b\b\b\b\b\b\b\b\b\b 73% - songs.csv\b\b\b\b\b\b\b\b\b\b\b\b\b\b\b\b                \b\b\b\b\b\b\b\b\b\b\b\b\b\b\b\b 76% - songs.csv\b\b\b\b\b\b\b\b\b\b\b\b\b\b\b\b                \b\b\b\b\b\b\b\b\b\b\b\b\b\b\b\b 79% - songs.csv\b\b\b\b\b\b\b\b\b\b\b\b\b\b\b\b                \b\b\b\b\b\b\b\b\b\b\b\b\b\b\b\b 82% - songs.csv\b\b\b\b\b\b\b\b\b\b\b\b\b\b\b\b                \b\b\b\b\b\b\b\b\b\b\b\b\b\b\b\b 85% - songs.csv\b\b\b\b\b\b\b\b\b\b\b\b\b\b\b\b                \b\b\b\b\b\b\b\b\b\b\b\b\b\b\b\b 87% - songs.csv\b\b\b\b\b\b\b\b\b\b\b\b\b\b\b\b                \b\b\b\b\b\b\b\b\b\b\b\b\b\b\b\b 90% - songs.csv\b\b\b\b\b\b\b\b\b\b\b\b\b\b\b\b                \b\b\b\b\b\b\b\b\b\b\b\b\b\b\b\b 92% - songs.csv\b\b\b\b\b\b\b\b\b\b\b\b\b\b\b\b                \b\b\b\b\b\b\b\b\b\b\b\b\b\b\b\b 95% - songs.csv\b\b\b\b\b\b\b\b\b\b\b\b\b\b\b\b                \b\b\b\b\b\b\b\b\b\b\b\b\b\b\b\b 98% - songs.csv\b\b\b\b\b\b\b\b\b\b\b\b\b\b\b\b                \b\b\b\b\b\b\b\b\b\b\b\b\b\b\b\bEverything is Ok\n",
            "\n",
            "Size:       221828666\n",
            "Compressed: 105809525\n",
            "\n",
            "7-Zip (a) [64] 16.02 : Copyright (c) 1999-2016 Igor Pavlov : 2016-05-21\n",
            "p7zip Version 16.02 (locale=en_US.UTF-8,Utf16=on,HugeFiles=on,64 bits,2 CPUs Intel(R) Xeon(R) CPU @ 2.30GHz (306F0),ASM,AES-NI)\n",
            "\n",
            "Scanning the drive for archives:\n",
            "  0M Scan\b\b\b\b\b\b\b\b\b         \b\b\b\b\b\b\b\b\b1 file, 103608205 bytes (99 MiB)\n",
            "\n",
            "Extracting archive: song_extra_info.csv.7z\n",
            "--\n",
            "Path = song_extra_info.csv.7z\n",
            "Type = 7z\n",
            "Physical Size = 103608205\n",
            "Headers Size = 140\n",
            "Method = LZMA:25\n",
            "Solid = -\n",
            "Blocks = 1\n",
            "\n",
            "  0%\b\b\b\b    \b\b\b\b  1% - song_extra_info.csv\b\b\b\b\b\b\b\b\b\b\b\b\b\b\b\b\b\b\b\b\b\b\b\b\b\b                          \b\b\b\b\b\b\b\b\b\b\b\b\b\b\b\b\b\b\b\b\b\b\b\b\b\b  4% - song_extra_info.csv\b\b\b\b\b\b\b\b\b\b\b\b\b\b\b\b\b\b\b\b\b\b\b\b\b\b                          \b\b\b\b\b\b\b\b\b\b\b\b\b\b\b\b\b\b\b\b\b\b\b\b\b\b  6% - song_extra_info.csv\b\b\b\b\b\b\b\b\b\b\b\b\b\b\b\b\b\b\b\b\b\b\b\b\b\b                          \b\b\b\b\b\b\b\b\b\b\b\b\b\b\b\b\b\b\b\b\b\b\b\b\b\b  9% - song_extra_info.csv\b\b\b\b\b\b\b\b\b\b\b\b\b\b\b\b\b\b\b\b\b\b\b\b\b\b                          \b\b\b\b\b\b\b\b\b\b\b\b\b\b\b\b\b\b\b\b\b\b\b\b\b\b 11% - song_extra_info.csv\b\b\b\b\b\b\b\b\b\b\b\b\b\b\b\b\b\b\b\b\b\b\b\b\b\b                          \b\b\b\b\b\b\b\b\b\b\b\b\b\b\b\b\b\b\b\b\b\b\b\b\b\b 14% - song_extra_info.csv\b\b\b\b\b\b\b\b\b\b\b\b\b\b\b\b\b\b\b\b\b\b\b\b\b\b                          \b\b\b\b\b\b\b\b\b\b\b\b\b\b\b\b\b\b\b\b\b\b\b\b\b\b 17% - song_extra_info.csv\b\b\b\b\b\b\b\b\b\b\b\b\b\b\b\b\b\b\b\b\b\b\b\b\b\b                          \b\b\b\b\b\b\b\b\b\b\b\b\b\b\b\b\b\b\b\b\b\b\b\b\b\b 19% - song_extra_info.csv\b\b\b\b\b\b\b\b\b\b\b\b\b\b\b\b\b\b\b\b\b\b\b\b\b\b                          \b\b\b\b\b\b\b\b\b\b\b\b\b\b\b\b\b\b\b\b\b\b\b\b\b\b 22% - song_extra_info.csv\b\b\b\b\b\b\b\b\b\b\b\b\b\b\b\b\b\b\b\b\b\b\b\b\b\b                          \b\b\b\b\b\b\b\b\b\b\b\b\b\b\b\b\b\b\b\b\b\b\b\b\b\b 25% - song_extra_info.csv\b\b\b\b\b\b\b\b\b\b\b\b\b\b\b\b\b\b\b\b\b\b\b\b\b\b                          \b\b\b\b\b\b\b\b\b\b\b\b\b\b\b\b\b\b\b\b\b\b\b\b\b\b 27% - song_extra_info.csv\b\b\b\b\b\b\b\b\b\b\b\b\b\b\b\b\b\b\b\b\b\b\b\b\b\b                          \b\b\b\b\b\b\b\b\b\b\b\b\b\b\b\b\b\b\b\b\b\b\b\b\b\b 30% - song_extra_info.csv\b\b\b\b\b\b\b\b\b\b\b\b\b\b\b\b\b\b\b\b\b\b\b\b\b\b                          \b\b\b\b\b\b\b\b\b\b\b\b\b\b\b\b\b\b\b\b\b\b\b\b\b\b 33% - song_extra_info.csv\b\b\b\b\b\b\b\b\b\b\b\b\b\b\b\b\b\b\b\b\b\b\b\b\b\b                          \b\b\b\b\b\b\b\b\b\b\b\b\b\b\b\b\b\b\b\b\b\b\b\b\b\b 37% - song_extra_info.csv\b\b\b\b\b\b\b\b\b\b\b\b\b\b\b\b\b\b\b\b\b\b\b\b\b\b                          \b\b\b\b\b\b\b\b\b\b\b\b\b\b\b\b\b\b\b\b\b\b\b\b\b\b 39% - song_extra_info.csv\b\b\b\b\b\b\b\b\b\b\b\b\b\b\b\b\b\b\b\b\b\b\b\b\b\b                          \b\b\b\b\b\b\b\b\b\b\b\b\b\b\b\b\b\b\b\b\b\b\b\b\b\b 41% - song_extra_info.csv\b\b\b\b\b\b\b\b\b\b\b\b\b\b\b\b\b\b\b\b\b\b\b\b\b\b                          \b\b\b\b\b\b\b\b\b\b\b\b\b\b\b\b\b\b\b\b\b\b\b\b\b\b 44% - song_extra_info.csv\b\b\b\b\b\b\b\b\b\b\b\b\b\b\b\b\b\b\b\b\b\b\b\b\b\b                          \b\b\b\b\b\b\b\b\b\b\b\b\b\b\b\b\b\b\b\b\b\b\b\b\b\b 47% - song_extra_info.csv\b\b\b\b\b\b\b\b\b\b\b\b\b\b\b\b\b\b\b\b\b\b\b\b\b\b                          \b\b\b\b\b\b\b\b\b\b\b\b\b\b\b\b\b\b\b\b\b\b\b\b\b\b 50% - song_extra_info.csv\b\b\b\b\b\b\b\b\b\b\b\b\b\b\b\b\b\b\b\b\b\b\b\b\b\b                          \b\b\b\b\b\b\b\b\b\b\b\b\b\b\b\b\b\b\b\b\b\b\b\b\b\b 53% - song_extra_info.csv\b\b\b\b\b\b\b\b\b\b\b\b\b\b\b\b\b\b\b\b\b\b\b\b\b\b                          \b\b\b\b\b\b\b\b\b\b\b\b\b\b\b\b\b\b\b\b\b\b\b\b\b\b 55% - song_extra_info.csv\b\b\b\b\b\b\b\b\b\b\b\b\b\b\b\b\b\b\b\b\b\b\b\b\b\b                          \b\b\b\b\b\b\b\b\b\b\b\b\b\b\b\b\b\b\b\b\b\b\b\b\b\b 58% - song_extra_info.csv\b\b\b\b\b\b\b\b\b\b\b\b\b\b\b\b\b\b\b\b\b\b\b\b\b\b                          \b\b\b\b\b\b\b\b\b\b\b\b\b\b\b\b\b\b\b\b\b\b\b\b\b\b 61% - song_extra_info.csv\b\b\b\b\b\b\b\b\b\b\b\b\b\b\b\b\b\b\b\b\b\b\b\b\b\b                          \b\b\b\b\b\b\b\b\b\b\b\b\b\b\b\b\b\b\b\b\b\b\b\b\b\b 64% - song_extra_info.csv\b\b\b\b\b\b\b\b\b\b\b\b\b\b\b\b\b\b\b\b\b\b\b\b\b\b                          \b\b\b\b\b\b\b\b\b\b\b\b\b\b\b\b\b\b\b\b\b\b\b\b\b\b 67% - song_extra_info.csv\b\b\b\b\b\b\b\b\b\b\b\b\b\b\b\b\b\b\b\b\b\b\b\b\b\b                          \b\b\b\b\b\b\b\b\b\b\b\b\b\b\b\b\b\b\b\b\b\b\b\b\b\b 69% - song_extra_info.csv\b\b\b\b\b\b\b\b\b\b\b\b\b\b\b\b\b\b\b\b\b\b\b\b\b\b                          \b\b\b\b\b\b\b\b\b\b\b\b\b\b\b\b\b\b\b\b\b\b\b\b\b\b 72% - song_extra_info.csv\b\b\b\b\b\b\b\b\b\b\b\b\b\b\b\b\b\b\b\b\b\b\b\b\b\b                          \b\b\b\b\b\b\b\b\b\b\b\b\b\b\b\b\b\b\b\b\b\b\b\b\b\b 75% - song_extra_info.csv\b\b\b\b\b\b\b\b\b\b\b\b\b\b\b\b\b\b\b\b\b\b\b\b\b\b                          \b\b\b\b\b\b\b\b\b\b\b\b\b\b\b\b\b\b\b\b\b\b\b\b\b\b 78% - song_extra_info.csv\b\b\b\b\b\b\b\b\b\b\b\b\b\b\b\b\b\b\b\b\b\b\b\b\b\b                          \b\b\b\b\b\b\b\b\b\b\b\b\b\b\b\b\b\b\b\b\b\b\b\b\b\b 81% - song_extra_info.csv\b\b\b\b\b\b\b\b\b\b\b\b\b\b\b\b\b\b\b\b\b\b\b\b\b\b                          \b\b\b\b\b\b\b\b\b\b\b\b\b\b\b\b\b\b\b\b\b\b\b\b\b\b 83% - song_extra_info.csv\b\b\b\b\b\b\b\b\b\b\b\b\b\b\b\b\b\b\b\b\b\b\b\b\b\b                          \b\b\b\b\b\b\b\b\b\b\b\b\b\b\b\b\b\b\b\b\b\b\b\b\b\b 86% - song_extra_info.csv\b\b\b\b\b\b\b\b\b\b\b\b\b\b\b\b\b\b\b\b\b\b\b\b\b\b                          \b\b\b\b\b\b\b\b\b\b\b\b\b\b\b\b\b\b\b\b\b\b\b\b\b\b 89% - song_extra_info.csv\b\b\b\b\b\b\b\b\b\b\b\b\b\b\b\b\b\b\b\b\b\b\b\b\b\b                          \b\b\b\b\b\b\b\b\b\b\b\b\b\b\b\b\b\b\b\b\b\b\b\b\b\b 92% - song_extra_info.csv\b\b\b\b\b\b\b\b\b\b\b\b\b\b\b\b\b\b\b\b\b\b\b\b\b\b                          \b\b\b\b\b\b\b\b\b\b\b\b\b\b\b\b\b\b\b\b\b\b\b\b\b\b 96% - song_extra_info.csv\b\b\b\b\b\b\b\b\b\b\b\b\b\b\b\b\b\b\b\b\b\b\b\b\b\b                          \b\b\b\b\b\b\b\b\b\b\b\b\b\b\b\b\b\b\b\b\b\b\b\b\b\b 99% - song_extra_info.csv\b\b\b\b\b\b\b\b\b\b\b\b\b\b\b\b\b\b\b\b\b\b\b\b\b\b                          \b\b\b\b\b\b\b\b\b\b\b\b\b\b\b\b\b\b\b\b\b\b\b\b\b\bEverything is Ok\n",
            "\n",
            "Size:       181010294\n",
            "Compressed: 103608205\n",
            "\n",
            "7-Zip (a) [64] 16.02 : Copyright (c) 1999-2016 Igor Pavlov : 2016-05-21\n",
            "p7zip Version 16.02 (locale=en_US.UTF-8,Utf16=on,HugeFiles=on,64 bits,2 CPUs Intel(R) Xeon(R) CPU @ 2.30GHz (306F0),ASM,AES-NI)\n",
            "\n",
            "Scanning the drive for archives:\n",
            "  0M Scan\b\b\b\b\b\b\b\b\b         \b\b\b\b\b\b\b\b\b1 file, 106420688 bytes (102 MiB)\n",
            "\n",
            "Extracting archive: train.csv.7z\n",
            "--\n",
            "Path = train.csv.7z\n",
            "Type = 7z\n",
            "Physical Size = 106420688\n",
            "Headers Size = 122\n",
            "Method = LZMA2:24\n",
            "Solid = -\n",
            "Blocks = 1\n",
            "\n",
            "  0%\b\b\b\b    \b\b\b\b  1% - train.csv\b\b\b\b\b\b\b\b\b\b\b\b\b\b\b\b                \b\b\b\b\b\b\b\b\b\b\b\b\b\b\b\b  3% - train.csv\b\b\b\b\b\b\b\b\b\b\b\b\b\b\b\b                \b\b\b\b\b\b\b\b\b\b\b\b\b\b\b\b  5% - train.csv\b\b\b\b\b\b\b\b\b\b\b\b\b\b\b\b                \b\b\b\b\b\b\b\b\b\b\b\b\b\b\b\b  7% - train.csv\b\b\b\b\b\b\b\b\b\b\b\b\b\b\b\b                \b\b\b\b\b\b\b\b\b\b\b\b\b\b\b\b 10% - train.csv\b\b\b\b\b\b\b\b\b\b\b\b\b\b\b\b                \b\b\b\b\b\b\b\b\b\b\b\b\b\b\b\b 12% - train.csv\b\b\b\b\b\b\b\b\b\b\b\b\b\b\b\b                \b\b\b\b\b\b\b\b\b\b\b\b\b\b\b\b 15% - train.csv\b\b\b\b\b\b\b\b\b\b\b\b\b\b\b\b                \b\b\b\b\b\b\b\b\b\b\b\b\b\b\b\b 17% - train.csv\b\b\b\b\b\b\b\b\b\b\b\b\b\b\b\b                \b\b\b\b\b\b\b\b\b\b\b\b\b\b\b\b 19% - train.csv\b\b\b\b\b\b\b\b\b\b\b\b\b\b\b\b                \b\b\b\b\b\b\b\b\b\b\b\b\b\b\b\b 21% - train.csv\b\b\b\b\b\b\b\b\b\b\b\b\b\b\b\b                \b\b\b\b\b\b\b\b\b\b\b\b\b\b\b\b 23% - train.csv\b\b\b\b\b\b\b\b\b\b\b\b\b\b\b\b                \b\b\b\b\b\b\b\b\b\b\b\b\b\b\b\b 26% - train.csv\b\b\b\b\b\b\b\b\b\b\b\b\b\b\b\b                \b\b\b\b\b\b\b\b\b\b\b\b\b\b\b\b 28% - train.csv\b\b\b\b\b\b\b\b\b\b\b\b\b\b\b\b                \b\b\b\b\b\b\b\b\b\b\b\b\b\b\b\b 30% - train.csv\b\b\b\b\b\b\b\b\b\b\b\b\b\b\b\b                \b\b\b\b\b\b\b\b\b\b\b\b\b\b\b\b 32% - train.csv\b\b\b\b\b\b\b\b\b\b\b\b\b\b\b\b                \b\b\b\b\b\b\b\b\b\b\b\b\b\b\b\b 34% - train.csv\b\b\b\b\b\b\b\b\b\b\b\b\b\b\b\b                \b\b\b\b\b\b\b\b\b\b\b\b\b\b\b\b 36% - train.csv\b\b\b\b\b\b\b\b\b\b\b\b\b\b\b\b                \b\b\b\b\b\b\b\b\b\b\b\b\b\b\b\b 38% - train.csv\b\b\b\b\b\b\b\b\b\b\b\b\b\b\b\b                \b\b\b\b\b\b\b\b\b\b\b\b\b\b\b\b 41% - train.csv\b\b\b\b\b\b\b\b\b\b\b\b\b\b\b\b                \b\b\b\b\b\b\b\b\b\b\b\b\b\b\b\b 42% - train.csv\b\b\b\b\b\b\b\b\b\b\b\b\b\b\b\b                \b\b\b\b\b\b\b\b\b\b\b\b\b\b\b\b 44% - train.csv\b\b\b\b\b\b\b\b\b\b\b\b\b\b\b\b                \b\b\b\b\b\b\b\b\b\b\b\b\b\b\b\b 47% - train.csv\b\b\b\b\b\b\b\b\b\b\b\b\b\b\b\b                \b\b\b\b\b\b\b\b\b\b\b\b\b\b\b\b 48% - train.csv\b\b\b\b\b\b\b\b\b\b\b\b\b\b\b\b                \b\b\b\b\b\b\b\b\b\b\b\b\b\b\b\b 50% - train.csv\b\b\b\b\b\b\b\b\b\b\b\b\b\b\b\b                \b\b\b\b\b\b\b\b\b\b\b\b\b\b\b\b 52% - train.csv\b\b\b\b\b\b\b\b\b\b\b\b\b\b\b\b                \b\b\b\b\b\b\b\b\b\b\b\b\b\b\b\b 54% - train.csv\b\b\b\b\b\b\b\b\b\b\b\b\b\b\b\b                \b\b\b\b\b\b\b\b\b\b\b\b\b\b\b\b 56% - train.csv\b\b\b\b\b\b\b\b\b\b\b\b\b\b\b\b                \b\b\b\b\b\b\b\b\b\b\b\b\b\b\b\b 58% - train.csv\b\b\b\b\b\b\b\b\b\b\b\b\b\b\b\b                \b\b\b\b\b\b\b\b\b\b\b\b\b\b\b\b 60% - train.csv\b\b\b\b\b\b\b\b\b\b\b\b\b\b\b\b                \b\b\b\b\b\b\b\b\b\b\b\b\b\b\b\b 62% - train.csv\b\b\b\b\b\b\b\b\b\b\b\b\b\b\b\b                \b\b\b\b\b\b\b\b\b\b\b\b\b\b\b\b 64% - train.csv\b\b\b\b\b\b\b\b\b\b\b\b\b\b\b\b                \b\b\b\b\b\b\b\b\b\b\b\b\b\b\b\b 66% - train.csv\b\b\b\b\b\b\b\b\b\b\b\b\b\b\b\b                \b\b\b\b\b\b\b\b\b\b\b\b\b\b\b\b 69% - train.csv\b\b\b\b\b\b\b\b\b\b\b\b\b\b\b\b                \b\b\b\b\b\b\b\b\b\b\b\b\b\b\b\b 70% - train.csv\b\b\b\b\b\b\b\b\b\b\b\b\b\b\b\b                \b\b\b\b\b\b\b\b\b\b\b\b\b\b\b\b 72% - train.csv\b\b\b\b\b\b\b\b\b\b\b\b\b\b\b\b                \b\b\b\b\b\b\b\b\b\b\b\b\b\b\b\b 75% - train.csv\b\b\b\b\b\b\b\b\b\b\b\b\b\b\b\b                \b\b\b\b\b\b\b\b\b\b\b\b\b\b\b\b 76% - train.csv\b\b\b\b\b\b\b\b\b\b\b\b\b\b\b\b                \b\b\b\b\b\b\b\b\b\b\b\b\b\b\b\b 78% - train.csv\b\b\b\b\b\b\b\b\b\b\b\b\b\b\b\b                \b\b\b\b\b\b\b\b\b\b\b\b\b\b\b\b 80% - train.csv\b\b\b\b\b\b\b\b\b\b\b\b\b\b\b\b                \b\b\b\b\b\b\b\b\b\b\b\b\b\b\b\b 82% - train.csv\b\b\b\b\b\b\b\b\b\b\b\b\b\b\b\b                \b\b\b\b\b\b\b\b\b\b\b\b\b\b\b\b 84% - train.csv\b\b\b\b\b\b\b\b\b\b\b\b\b\b\b\b                \b\b\b\b\b\b\b\b\b\b\b\b\b\b\b\b 86% - train.csv\b\b\b\b\b\b\b\b\b\b\b\b\b\b\b\b                \b\b\b\b\b\b\b\b\b\b\b\b\b\b\b\b 88% - train.csv\b\b\b\b\b\b\b\b\b\b\b\b\b\b\b\b                \b\b\b\b\b\b\b\b\b\b\b\b\b\b\b\b 90% - train.csv\b\b\b\b\b\b\b\b\b\b\b\b\b\b\b\b                \b\b\b\b\b\b\b\b\b\b\b\b\b\b\b\b 92% - train.csv\b\b\b\b\b\b\b\b\b\b\b\b\b\b\b\b                \b\b\b\b\b\b\b\b\b\b\b\b\b\b\b\b 94% - train.csv\b\b\b\b\b\b\b\b\b\b\b\b\b\b\b\b                \b\b\b\b\b\b\b\b\b\b\b\b\b\b\b\b 96% - train.csv\b\b\b\b\b\b\b\b\b\b\b\b\b\b\b\b                \b\b\b\b\b\b\b\b\b\b\b\b\b\b\b\b 98% - train.csv\b\b\b\b\b\b\b\b\b\b\b\b\b\b\b\b                \b\b\b\b\b\b\b\b\b\b\b\b\b\b\b\bEverything is Ok\n",
            "\n",
            "Size:       971675848\n",
            "Compressed: 106420688\n",
            "\n",
            "7-Zip (a) [64] 16.02 : Copyright (c) 1999-2016 Igor Pavlov : 2016-05-21\n",
            "p7zip Version 16.02 (locale=en_US.UTF-8,Utf16=on,HugeFiles=on,64 bits,2 CPUs Intel(R) Xeon(R) CPU @ 2.30GHz (306F0),ASM,AES-NI)\n",
            "\n",
            "Scanning the drive for archives:\n",
            "  0M Scan\b\b\b\b\b\b\b\b\b         \b\b\b\b\b\b\b\b\b1 file, 463688 bytes (453 KiB)\n",
            "\n",
            "Extracting archive: sample_submission.csv.7z\n",
            "--\n",
            "Path = sample_submission.csv.7z\n",
            "Type = 7z\n",
            "Physical Size = 463688\n",
            "Headers Size = 146\n",
            "Method = LZMA2:24\n",
            "Solid = -\n",
            "Blocks = 1\n",
            "\n",
            "  0%\b\b\b\b    \b\b\b\bEverything is Ok\n",
            "\n",
            "Size:       29570380\n",
            "Compressed: 463688\n",
            "\n",
            "7-Zip (a) [64] 16.02 : Copyright (c) 1999-2016 Igor Pavlov : 2016-05-21\n",
            "p7zip Version 16.02 (locale=en_US.UTF-8,Utf16=on,HugeFiles=on,64 bits,2 CPUs Intel(R) Xeon(R) CPU @ 2.30GHz (306F0),ASM,AES-NI)\n",
            "\n",
            "Scanning the drive for archives:\n",
            "  0M Scan\b\b\b\b\b\b\b\b\b         \b\b\b\b\b\b\b\b\b1 file, 43925208 bytes (42 MiB)\n",
            "\n",
            "Extracting archive: test.csv.7z\n",
            "--\n",
            "Path = test.csv.7z\n",
            "Type = 7z\n",
            "Physical Size = 43925208\n",
            "Headers Size = 122\n",
            "Method = LZMA2:24\n",
            "Solid = -\n",
            "Blocks = 1\n",
            "\n",
            "  0%\b\b\b\b    \b\b\b\b  4% - test.csv\b\b\b\b\b\b\b\b\b\b\b\b\b\b\b               \b\b\b\b\b\b\b\b\b\b\b\b\b\b\b  9% - test.csv\b\b\b\b\b\b\b\b\b\b\b\b\b\b\b               \b\b\b\b\b\b\b\b\b\b\b\b\b\b\b 14% - test.csv\b\b\b\b\b\b\b\b\b\b\b\b\b\b\b               \b\b\b\b\b\b\b\b\b\b\b\b\b\b\b 19% - test.csv\b\b\b\b\b\b\b\b\b\b\b\b\b\b\b               \b\b\b\b\b\b\b\b\b\b\b\b\b\b\b 23% - test.csv\b\b\b\b\b\b\b\b\b\b\b\b\b\b\b               \b\b\b\b\b\b\b\b\b\b\b\b\b\b\b 28% - test.csv\b\b\b\b\b\b\b\b\b\b\b\b\b\b\b               \b\b\b\b\b\b\b\b\b\b\b\b\b\b\b 34% - test.csv\b\b\b\b\b\b\b\b\b\b\b\b\b\b\b               \b\b\b\b\b\b\b\b\b\b\b\b\b\b\b 39% - test.csv\b\b\b\b\b\b\b\b\b\b\b\b\b\b\b               \b\b\b\b\b\b\b\b\b\b\b\b\b\b\b 44% - test.csv\b\b\b\b\b\b\b\b\b\b\b\b\b\b\b               \b\b\b\b\b\b\b\b\b\b\b\b\b\b\b 50% - test.csv\b\b\b\b\b\b\b\b\b\b\b\b\b\b\b               \b\b\b\b\b\b\b\b\b\b\b\b\b\b\b 55% - test.csv\b\b\b\b\b\b\b\b\b\b\b\b\b\b\b               \b\b\b\b\b\b\b\b\b\b\b\b\b\b\b 60% - test.csv\b\b\b\b\b\b\b\b\b\b\b\b\b\b\b               \b\b\b\b\b\b\b\b\b\b\b\b\b\b\b 66% - test.csv\b\b\b\b\b\b\b\b\b\b\b\b\b\b\b               \b\b\b\b\b\b\b\b\b\b\b\b\b\b\b 72% - test.csv\b\b\b\b\b\b\b\b\b\b\b\b\b\b\b               \b\b\b\b\b\b\b\b\b\b\b\b\b\b\b 78% - test.csv\b\b\b\b\b\b\b\b\b\b\b\b\b\b\b               \b\b\b\b\b\b\b\b\b\b\b\b\b\b\b 83% - test.csv\b\b\b\b\b\b\b\b\b\b\b\b\b\b\b               \b\b\b\b\b\b\b\b\b\b\b\b\b\b\b 88% - test.csv\b\b\b\b\b\b\b\b\b\b\b\b\b\b\b               \b\b\b\b\b\b\b\b\b\b\b\b\b\b\b 93% - test.csv\b\b\b\b\b\b\b\b\b\b\b\b\b\b\b               \b\b\b\b\b\b\b\b\b\b\b\b\b\b\b 98% - test.csv\b\b\b\b\b\b\b\b\b\b\b\b\b\b\b               \b\b\b\b\b\b\b\b\b\b\b\b\b\b\bEverything is Ok\n",
            "\n",
            "Size:       347789925\n",
            "Compressed: 43925208\n"
          ],
          "name": "stdout"
        }
      ]
    },
    {
      "cell_type": "code",
      "metadata": {
        "_uuid": "8f2839f25d086af736a60e9eeb907d3b93b6e0e5",
        "_cell_guid": "b1076dfc-b9ad-4769-8c92-a6c4dae69d19",
        "trusted": true,
        "id": "8FS-6zKP2xXB"
      },
      "source": [
        "# This Python 3 environment comes with many helpful analytics libraries installed\n",
        "# It is defined by the kaggle/python Docker image: https://github.com/kaggle/docker-python\n",
        "# For example, here's several helpful packages to load\n",
        "\n",
        "import numpy as np # linear algebra\n",
        "import pandas as pd # data processing, CSV file I/O (e.g. pd.read_csv)\n",
        "\n",
        "# Input data files are available in the read-only \"../input/\" directory\n",
        "# For example, running this (by clicking run or pressing Shift+Enter) will list all files under the input directory\n",
        "\n",
        "import os\n",
        "for dirname, _, filenames in os.walk('./kaggle/input'):\n",
        "    for filename in filenames:\n",
        "        print(os.path.join(dirname, filename))\n",
        "\n",
        "# You can write up to 20GB to the current directory (/kaggle/working/) that gets preserved as output when you create a version using \"Save & Run All\" \n",
        "# You can also write temporary files to /kaggle/temp/, but they won't be saved outside of the current session"
      ],
      "execution_count": 4,
      "outputs": []
    },
    {
      "cell_type": "code",
      "metadata": {
        "id": "r0wWMQEa26fo"
      },
      "source": [
        ""
      ],
      "execution_count": 4,
      "outputs": []
    },
    {
      "cell_type": "code",
      "metadata": {
        "trusted": true,
        "colab": {
          "base_uri": "https://localhost:8080/"
        },
        "id": "EGqx22OE2xXD",
        "outputId": "b22a8dea-e482-4b6e-a161-626ea0c4ecc5"
      },
      "source": [
        "!ls ./kaggle/working/train/data/"
      ],
      "execution_count": 5,
      "outputs": [
        {
          "output_type": "stream",
          "text": [
            "members.csv\t       song_extra_info.csv  test.csv\n",
            "sample_submission.csv  songs.csv\t    train.csv\n"
          ],
          "name": "stdout"
        }
      ]
    },
    {
      "cell_type": "code",
      "metadata": {
        "trusted": true,
        "colab": {
          "base_uri": "https://localhost:8080/"
        },
        "id": "0TwUg2R32xXE",
        "outputId": "c47f75cf-a3f3-4815-b944-945c1c9748ba"
      },
      "source": [
        "!du -h ./kaggle/working/train/data/"
      ],
      "execution_count": 6,
      "outputs": [
        {
          "output_type": "stream",
          "text": [
            "1.7G\t./kaggle/working/train/data/\n"
          ],
          "name": "stdout"
        }
      ]
    },
    {
      "cell_type": "markdown",
      "metadata": {
        "id": "NCFsGYrX2xXF"
      },
      "source": [
        ""
      ]
    },
    {
      "cell_type": "code",
      "metadata": {
        "trusted": true,
        "id": "LndXkxpH2xXF"
      },
      "source": [
        "#import necessary packages here\n",
        "import warnings\n",
        "warnings.filterwarnings('ignore')\n",
        "import numpy as np \n",
        "import pandas as pd\n",
        "import matplotlib.pyplot as plt\n",
        "import seaborn as sns\n",
        "import lightgbm as lgb\n",
        "from subprocess import check_output\n",
        "# print(check_output([\"ls\", \"../input\"]).decode(\"utf8\"))\n",
        "\n",
        "np.random.seed(2020)"
      ],
      "execution_count": 7,
      "outputs": []
    },
    {
      "cell_type": "markdown",
      "metadata": {
        "id": "Nhu8Ctm52xXF"
      },
      "source": [
        "# 1. Exploratory Data Analysis"
      ]
    },
    {
      "cell_type": "code",
      "metadata": {
        "trusted": true,
        "id": "WC0h1i302xXG"
      },
      "source": [
        "root = './kaggle/working/train/data/'\n",
        "# !ls ../input/kkbox-music-recommendation-challenge\n",
        "train_df = pd.read_csv(root+ \"train.csv\")\n",
        "test_df = pd.read_csv(root+ \"test.csv\")\n",
        "song_df = pd.read_csv(root+ \"songs.csv\")\n",
        "song_extra_df = pd.read_csv(root+ \"song_extra_info.csv\")\n",
        "members_df = pd.read_csv(root+ \"members.csv\")\n",
        "# sample_df = pd.read_csv(root+ \"sample_submission.csv\")\n"
      ],
      "execution_count": 8,
      "outputs": []
    },
    {
      "cell_type": "markdown",
      "metadata": {
        "id": "zasbHqm72xXG"
      },
      "source": [
        "## 1.1 Take a look to the info and format of training set and testing set"
      ]
    },
    {
      "cell_type": "markdown",
      "metadata": {
        "id": "TZJyDxRIt8tM"
      },
      "source": [
        "### Information of training set"
      ]
    },
    {
      "cell_type": "code",
      "metadata": {
        "trusted": true,
        "colab": {
          "base_uri": "https://localhost:8080/"
        },
        "id": "ur6qeUiT2xXG",
        "outputId": "d73a8c66-73bb-42c4-a7f8-ce006299f0d3"
      },
      "source": [
        "train_df.info()"
      ],
      "execution_count": null,
      "outputs": [
        {
          "output_type": "stream",
          "text": [
            "<class 'pandas.core.frame.DataFrame'>\n",
            "RangeIndex: 7377418 entries, 0 to 7377417\n",
            "Data columns (total 6 columns):\n",
            " #   Column              Dtype \n",
            "---  ------              ----- \n",
            " 0   msno                object\n",
            " 1   song_id             object\n",
            " 2   source_system_tab   object\n",
            " 3   source_screen_name  object\n",
            " 4   source_type         object\n",
            " 5   target              int64 \n",
            "dtypes: int64(1), object(5)\n",
            "memory usage: 337.7+ MB\n"
          ],
          "name": "stdout"
        }
      ]
    },
    {
      "cell_type": "code",
      "metadata": {
        "trusted": true,
        "colab": {
          "base_uri": "https://localhost:8080/"
        },
        "id": "ElYocwjW2xXG",
        "outputId": "176b50af-e452-4075-a6f9-74bd124b4414"
      },
      "source": [
        "train_df.count()"
      ],
      "execution_count": null,
      "outputs": [
        {
          "output_type": "execute_result",
          "data": {
            "text/plain": [
              "msno                  7377418\n",
              "song_id               7377418\n",
              "source_system_tab     7352569\n",
              "source_screen_name    6962614\n",
              "source_type           7355879\n",
              "target                7377418\n",
              "dtype: int64"
            ]
          },
          "metadata": {
            "tags": []
          },
          "execution_count": 34
        }
      ]
    },
    {
      "cell_type": "markdown",
      "metadata": {
        "id": "Dj0UXGB2m3ng"
      },
      "source": [
        ""
      ]
    },
    {
      "cell_type": "markdown",
      "metadata": {
        "id": "MX0culFf2xXH"
      },
      "source": [
        "We can see that attributes: source_system_tab, source_screen_name, source_type contain missing values above. An example dataframe of training set is as follow:"
      ]
    },
    {
      "cell_type": "code",
      "metadata": {
        "trusted": true,
        "colab": {
          "base_uri": "https://localhost:8080/",
          "height": 196
        },
        "id": "vmF7t91s2xXH",
        "outputId": "4de2843c-b715-4e26-c1c2-760bbbcd060f"
      },
      "source": [
        "train_df.head()"
      ],
      "execution_count": null,
      "outputs": [
        {
          "output_type": "execute_result",
          "data": {
            "text/html": [
              "<div>\n",
              "<style scoped>\n",
              "    .dataframe tbody tr th:only-of-type {\n",
              "        vertical-align: middle;\n",
              "    }\n",
              "\n",
              "    .dataframe tbody tr th {\n",
              "        vertical-align: top;\n",
              "    }\n",
              "\n",
              "    .dataframe thead th {\n",
              "        text-align: right;\n",
              "    }\n",
              "</style>\n",
              "<table border=\"1\" class=\"dataframe\">\n",
              "  <thead>\n",
              "    <tr style=\"text-align: right;\">\n",
              "      <th></th>\n",
              "      <th>msno</th>\n",
              "      <th>song_id</th>\n",
              "      <th>source_system_tab</th>\n",
              "      <th>source_screen_name</th>\n",
              "      <th>source_type</th>\n",
              "      <th>target</th>\n",
              "    </tr>\n",
              "  </thead>\n",
              "  <tbody>\n",
              "    <tr>\n",
              "      <th>0</th>\n",
              "      <td>FGtllVqz18RPiwJj/edr2gV78zirAiY/9SmYvia+kCg=</td>\n",
              "      <td>BBzumQNXUHKdEBOB7mAJuzok+IJA1c2Ryg/yzTF6tik=</td>\n",
              "      <td>explore</td>\n",
              "      <td>Explore</td>\n",
              "      <td>online-playlist</td>\n",
              "      <td>1</td>\n",
              "    </tr>\n",
              "    <tr>\n",
              "      <th>1</th>\n",
              "      <td>Xumu+NIjS6QYVxDS4/t3SawvJ7viT9hPKXmf0RtLNx8=</td>\n",
              "      <td>bhp/MpSNoqoxOIB+/l8WPqu6jldth4DIpCm3ayXnJqM=</td>\n",
              "      <td>my library</td>\n",
              "      <td>Local playlist more</td>\n",
              "      <td>local-playlist</td>\n",
              "      <td>1</td>\n",
              "    </tr>\n",
              "    <tr>\n",
              "      <th>2</th>\n",
              "      <td>Xumu+NIjS6QYVxDS4/t3SawvJ7viT9hPKXmf0RtLNx8=</td>\n",
              "      <td>JNWfrrC7zNN7BdMpsISKa4Mw+xVJYNnxXh3/Epw7QgY=</td>\n",
              "      <td>my library</td>\n",
              "      <td>Local playlist more</td>\n",
              "      <td>local-playlist</td>\n",
              "      <td>1</td>\n",
              "    </tr>\n",
              "    <tr>\n",
              "      <th>3</th>\n",
              "      <td>Xumu+NIjS6QYVxDS4/t3SawvJ7viT9hPKXmf0RtLNx8=</td>\n",
              "      <td>2A87tzfnJTSWqD7gIZHisolhe4DMdzkbd6LzO1KHjNs=</td>\n",
              "      <td>my library</td>\n",
              "      <td>Local playlist more</td>\n",
              "      <td>local-playlist</td>\n",
              "      <td>1</td>\n",
              "    </tr>\n",
              "    <tr>\n",
              "      <th>4</th>\n",
              "      <td>FGtllVqz18RPiwJj/edr2gV78zirAiY/9SmYvia+kCg=</td>\n",
              "      <td>3qm6XTZ6MOCU11x8FIVbAGH5l5uMkT3/ZalWG1oo2Gc=</td>\n",
              "      <td>explore</td>\n",
              "      <td>Explore</td>\n",
              "      <td>online-playlist</td>\n",
              "      <td>1</td>\n",
              "    </tr>\n",
              "  </tbody>\n",
              "</table>\n",
              "</div>"
            ],
            "text/plain": [
              "                                           msno  ... target\n",
              "0  FGtllVqz18RPiwJj/edr2gV78zirAiY/9SmYvia+kCg=  ...      1\n",
              "1  Xumu+NIjS6QYVxDS4/t3SawvJ7viT9hPKXmf0RtLNx8=  ...      1\n",
              "2  Xumu+NIjS6QYVxDS4/t3SawvJ7viT9hPKXmf0RtLNx8=  ...      1\n",
              "3  Xumu+NIjS6QYVxDS4/t3SawvJ7viT9hPKXmf0RtLNx8=  ...      1\n",
              "4  FGtllVqz18RPiwJj/edr2gV78zirAiY/9SmYvia+kCg=  ...      1\n",
              "\n",
              "[5 rows x 6 columns]"
            ]
          },
          "metadata": {
            "tags": []
          },
          "execution_count": 35
        }
      ]
    },
    {
      "cell_type": "markdown",
      "metadata": {
        "id": "57BDBuBmuHR2"
      },
      "source": [
        "### Information of testing set"
      ]
    },
    {
      "cell_type": "code",
      "metadata": {
        "trusted": true,
        "colab": {
          "base_uri": "https://localhost:8080/"
        },
        "id": "unKP5Jio2xXI",
        "outputId": "f0908540-ed3e-49c5-b04b-3329d6214ecb"
      },
      "source": [
        "test_df.info()"
      ],
      "execution_count": null,
      "outputs": [
        {
          "output_type": "stream",
          "text": [
            "<class 'pandas.core.frame.DataFrame'>\n",
            "RangeIndex: 2556790 entries, 0 to 2556789\n",
            "Data columns (total 6 columns):\n",
            " #   Column              Dtype \n",
            "---  ------              ----- \n",
            " 0   id                  int64 \n",
            " 1   msno                object\n",
            " 2   song_id             object\n",
            " 3   source_system_tab   object\n",
            " 4   source_screen_name  object\n",
            " 5   source_type         object\n",
            "dtypes: int64(1), object(5)\n",
            "memory usage: 117.0+ MB\n"
          ],
          "name": "stdout"
        }
      ]
    },
    {
      "cell_type": "code",
      "metadata": {
        "trusted": true,
        "colab": {
          "base_uri": "https://localhost:8080/"
        },
        "id": "1OI17Gq02xXI",
        "outputId": "51f54355-09ee-485c-fa0b-6ae6b1b398a7"
      },
      "source": [
        "test_df.count()"
      ],
      "execution_count": null,
      "outputs": [
        {
          "output_type": "execute_result",
          "data": {
            "text/plain": [
              "id                    2556790\n",
              "msno                  2556790\n",
              "song_id               2556790\n",
              "source_system_tab     2548348\n",
              "source_screen_name    2393907\n",
              "source_type           2549493\n",
              "dtype: int64"
            ]
          },
          "metadata": {
            "tags": []
          },
          "execution_count": 37
        }
      ]
    },
    {
      "cell_type": "markdown",
      "metadata": {
        "id": "JTdIRg0v2xXI"
      },
      "source": [
        "In test dataset,  We can see that attributes that contain missing values: \n",
        "1. source_system_tab\n",
        "2. source_screen_name\n",
        "3. source_type "
      ]
    },
    {
      "cell_type": "code",
      "metadata": {
        "trusted": true,
        "colab": {
          "base_uri": "https://localhost:8080/",
          "height": 196
        },
        "id": "A8KDPA4Z2xXI",
        "outputId": "e0d0196b-bc94-4eab-821e-d80c4fa63844"
      },
      "source": [
        "test_df.head()"
      ],
      "execution_count": null,
      "outputs": [
        {
          "output_type": "execute_result",
          "data": {
            "text/html": [
              "<div>\n",
              "<style scoped>\n",
              "    .dataframe tbody tr th:only-of-type {\n",
              "        vertical-align: middle;\n",
              "    }\n",
              "\n",
              "    .dataframe tbody tr th {\n",
              "        vertical-align: top;\n",
              "    }\n",
              "\n",
              "    .dataframe thead th {\n",
              "        text-align: right;\n",
              "    }\n",
              "</style>\n",
              "<table border=\"1\" class=\"dataframe\">\n",
              "  <thead>\n",
              "    <tr style=\"text-align: right;\">\n",
              "      <th></th>\n",
              "      <th>id</th>\n",
              "      <th>msno</th>\n",
              "      <th>song_id</th>\n",
              "      <th>source_system_tab</th>\n",
              "      <th>source_screen_name</th>\n",
              "      <th>source_type</th>\n",
              "    </tr>\n",
              "  </thead>\n",
              "  <tbody>\n",
              "    <tr>\n",
              "      <th>0</th>\n",
              "      <td>0</td>\n",
              "      <td>V8ruy7SGk7tDm3zA51DPpn6qutt+vmKMBKa21dp54uM=</td>\n",
              "      <td>WmHKgKMlp1lQMecNdNvDMkvIycZYHnFwDT72I5sIssc=</td>\n",
              "      <td>my library</td>\n",
              "      <td>Local playlist more</td>\n",
              "      <td>local-library</td>\n",
              "    </tr>\n",
              "    <tr>\n",
              "      <th>1</th>\n",
              "      <td>1</td>\n",
              "      <td>V8ruy7SGk7tDm3zA51DPpn6qutt+vmKMBKa21dp54uM=</td>\n",
              "      <td>y/rsZ9DC7FwK5F2PK2D5mj+aOBUJAjuu3dZ14NgE0vM=</td>\n",
              "      <td>my library</td>\n",
              "      <td>Local playlist more</td>\n",
              "      <td>local-library</td>\n",
              "    </tr>\n",
              "    <tr>\n",
              "      <th>2</th>\n",
              "      <td>2</td>\n",
              "      <td>/uQAlrAkaczV+nWCd2sPF2ekvXPRipV7q0l+gbLuxjw=</td>\n",
              "      <td>8eZLFOdGVdXBSqoAv5nsLigeH2BvKXzTQYtUM53I0k4=</td>\n",
              "      <td>discover</td>\n",
              "      <td>NaN</td>\n",
              "      <td>song-based-playlist</td>\n",
              "    </tr>\n",
              "    <tr>\n",
              "      <th>3</th>\n",
              "      <td>3</td>\n",
              "      <td>1a6oo/iXKatxQx4eS9zTVD+KlSVaAFbTIqVvwLC1Y0k=</td>\n",
              "      <td>ztCf8thYsS4YN3GcIL/bvoxLm/T5mYBVKOO4C9NiVfQ=</td>\n",
              "      <td>radio</td>\n",
              "      <td>Radio</td>\n",
              "      <td>radio</td>\n",
              "    </tr>\n",
              "    <tr>\n",
              "      <th>4</th>\n",
              "      <td>4</td>\n",
              "      <td>1a6oo/iXKatxQx4eS9zTVD+KlSVaAFbTIqVvwLC1Y0k=</td>\n",
              "      <td>MKVMpslKcQhMaFEgcEQhEfi5+RZhMYlU3eRDpySrH8Y=</td>\n",
              "      <td>radio</td>\n",
              "      <td>Radio</td>\n",
              "      <td>radio</td>\n",
              "    </tr>\n",
              "  </tbody>\n",
              "</table>\n",
              "</div>"
            ],
            "text/plain": [
              "   id  ...          source_type\n",
              "0   0  ...        local-library\n",
              "1   1  ...        local-library\n",
              "2   2  ...  song-based-playlist\n",
              "3   3  ...                radio\n",
              "4   4  ...                radio\n",
              "\n",
              "[5 rows x 6 columns]"
            ]
          },
          "metadata": {
            "tags": []
          },
          "execution_count": 38
        }
      ]
    },
    {
      "cell_type": "markdown",
      "metadata": {
        "id": "upudMYujuTS4"
      },
      "source": [
        "### Information of Song data"
      ]
    },
    {
      "cell_type": "code",
      "metadata": {
        "trusted": true,
        "colab": {
          "base_uri": "https://localhost:8080/"
        },
        "id": "H7fqmJKH2xXJ",
        "outputId": "0cb85040-7b98-467b-f7e5-27bd6ae2e4c6"
      },
      "source": [
        "song_df.info()"
      ],
      "execution_count": null,
      "outputs": [
        {
          "output_type": "stream",
          "text": [
            "<class 'pandas.core.frame.DataFrame'>\n",
            "RangeIndex: 2296320 entries, 0 to 2296319\n",
            "Data columns (total 7 columns):\n",
            " #   Column       Dtype  \n",
            "---  ------       -----  \n",
            " 0   song_id      object \n",
            " 1   song_length  int64  \n",
            " 2   genre_ids    object \n",
            " 3   artist_name  object \n",
            " 4   composer     object \n",
            " 5   lyricist     object \n",
            " 6   language     float64\n",
            "dtypes: float64(1), int64(1), object(5)\n",
            "memory usage: 122.6+ MB\n"
          ],
          "name": "stdout"
        }
      ]
    },
    {
      "cell_type": "code",
      "metadata": {
        "trusted": true,
        "colab": {
          "base_uri": "https://localhost:8080/"
        },
        "id": "JmZSLyc12xXJ",
        "outputId": "3c527ebc-75da-41d6-8aa4-4503fc470cb4"
      },
      "source": [
        "song_df.count()"
      ],
      "execution_count": null,
      "outputs": [
        {
          "output_type": "execute_result",
          "data": {
            "text/plain": [
              "song_id        2296320\n",
              "song_length    2296320\n",
              "genre_ids      2202204\n",
              "artist_name    2296320\n",
              "composer       1224966\n",
              "lyricist        351052\n",
              "language       2296319\n",
              "dtype: int64"
            ]
          },
          "metadata": {
            "tags": []
          },
          "execution_count": 40
        }
      ]
    },
    {
      "cell_type": "markdown",
      "metadata": {
        "id": "f2JLu5tG2xXJ"
      },
      "source": [
        "### Attributes in song data that contain missing values are following:\n",
        "1. composer\n",
        "2. lyricist\n",
        "3. genre_ids\n",
        "4. language"
      ]
    },
    {
      "cell_type": "code",
      "metadata": {
        "trusted": true,
        "id": "h1Y1tWEX2xXJ",
        "colab": {
          "base_uri": "https://localhost:8080/",
          "height": 196
        },
        "outputId": "c45b9747-955c-43e5-cbf5-e58413abb540"
      },
      "source": [
        "song_df.head()"
      ],
      "execution_count": null,
      "outputs": [
        {
          "output_type": "execute_result",
          "data": {
            "text/html": [
              "<div>\n",
              "<style scoped>\n",
              "    .dataframe tbody tr th:only-of-type {\n",
              "        vertical-align: middle;\n",
              "    }\n",
              "\n",
              "    .dataframe tbody tr th {\n",
              "        vertical-align: top;\n",
              "    }\n",
              "\n",
              "    .dataframe thead th {\n",
              "        text-align: right;\n",
              "    }\n",
              "</style>\n",
              "<table border=\"1\" class=\"dataframe\">\n",
              "  <thead>\n",
              "    <tr style=\"text-align: right;\">\n",
              "      <th></th>\n",
              "      <th>song_id</th>\n",
              "      <th>song_length</th>\n",
              "      <th>genre_ids</th>\n",
              "      <th>artist_name</th>\n",
              "      <th>composer</th>\n",
              "      <th>lyricist</th>\n",
              "      <th>language</th>\n",
              "    </tr>\n",
              "  </thead>\n",
              "  <tbody>\n",
              "    <tr>\n",
              "      <th>0</th>\n",
              "      <td>CXoTN1eb7AI+DntdU1vbcwGRV4SCIDxZu+YD8JP8r4E=</td>\n",
              "      <td>247640</td>\n",
              "      <td>465</td>\n",
              "      <td>張信哲 (Jeff Chang)</td>\n",
              "      <td>董貞</td>\n",
              "      <td>何啟弘</td>\n",
              "      <td>3.0</td>\n",
              "    </tr>\n",
              "    <tr>\n",
              "      <th>1</th>\n",
              "      <td>o0kFgae9QtnYgRkVPqLJwa05zIhRlUjfF7O1tDw0ZDU=</td>\n",
              "      <td>197328</td>\n",
              "      <td>444</td>\n",
              "      <td>BLACKPINK</td>\n",
              "      <td>TEDDY|  FUTURE BOUNCE|  Bekuh BOOM</td>\n",
              "      <td>TEDDY</td>\n",
              "      <td>31.0</td>\n",
              "    </tr>\n",
              "    <tr>\n",
              "      <th>2</th>\n",
              "      <td>DwVvVurfpuz+XPuFvucclVQEyPqcpUkHR0ne1RQzPs0=</td>\n",
              "      <td>231781</td>\n",
              "      <td>465</td>\n",
              "      <td>SUPER JUNIOR</td>\n",
              "      <td>NaN</td>\n",
              "      <td>NaN</td>\n",
              "      <td>31.0</td>\n",
              "    </tr>\n",
              "    <tr>\n",
              "      <th>3</th>\n",
              "      <td>dKMBWoZyScdxSkihKG+Vf47nc18N9q4m58+b4e7dSSE=</td>\n",
              "      <td>273554</td>\n",
              "      <td>465</td>\n",
              "      <td>S.H.E</td>\n",
              "      <td>湯小康</td>\n",
              "      <td>徐世珍</td>\n",
              "      <td>3.0</td>\n",
              "    </tr>\n",
              "    <tr>\n",
              "      <th>4</th>\n",
              "      <td>W3bqWd3T+VeHFzHAUfARgW9AvVRaF4N5Yzm4Mr6Eo/o=</td>\n",
              "      <td>140329</td>\n",
              "      <td>726</td>\n",
              "      <td>貴族精選</td>\n",
              "      <td>Traditional</td>\n",
              "      <td>Traditional</td>\n",
              "      <td>52.0</td>\n",
              "    </tr>\n",
              "  </tbody>\n",
              "</table>\n",
              "</div>"
            ],
            "text/plain": [
              "                                        song_id  ...  language\n",
              "0  CXoTN1eb7AI+DntdU1vbcwGRV4SCIDxZu+YD8JP8r4E=  ...       3.0\n",
              "1  o0kFgae9QtnYgRkVPqLJwa05zIhRlUjfF7O1tDw0ZDU=  ...      31.0\n",
              "2  DwVvVurfpuz+XPuFvucclVQEyPqcpUkHR0ne1RQzPs0=  ...      31.0\n",
              "3  dKMBWoZyScdxSkihKG+Vf47nc18N9q4m58+b4e7dSSE=  ...       3.0\n",
              "4  W3bqWd3T+VeHFzHAUfARgW9AvVRaF4N5Yzm4Mr6Eo/o=  ...      52.0\n",
              "\n",
              "[5 rows x 7 columns]"
            ]
          },
          "metadata": {
            "tags": []
          },
          "execution_count": 41
        }
      ]
    },
    {
      "cell_type": "code",
      "metadata": {
        "trusted": true,
        "id": "eJ89YCOr2xXL",
        "colab": {
          "base_uri": "https://localhost:8080/"
        },
        "outputId": "d6796dcc-9329-4682-fc78-586fd1508183"
      },
      "source": [
        "print(\"Unique Song amount in trainset:\",train_df['song_id'].nunique())\n",
        "print(\"Unique Song amount in testset:\", test_df['song_id'].nunique())\n",
        "print(\"Unique Song amount in song list:\",song_df['song_id'].nunique())"
      ],
      "execution_count": null,
      "outputs": [
        {
          "output_type": "stream",
          "text": [
            "Unique Song amount in trainset: 359966\n",
            "Unique Song amount in testset: 224753\n",
            "Unique Song amount in song list: 2296320\n"
          ],
          "name": "stdout"
        }
      ]
    },
    {
      "cell_type": "markdown",
      "metadata": {
        "id": "2LvKay42ugpe"
      },
      "source": [
        "### Information of song extra data"
      ]
    },
    {
      "cell_type": "code",
      "metadata": {
        "trusted": true,
        "id": "OrZO_jZZ2xXJ",
        "colab": {
          "base_uri": "https://localhost:8080/"
        },
        "outputId": "2658b439-592b-440e-ec0f-7ce6d2f4abce"
      },
      "source": [
        "song_extra_df.info()"
      ],
      "execution_count": null,
      "outputs": [
        {
          "output_type": "stream",
          "text": [
            "<class 'pandas.core.frame.DataFrame'>\n",
            "RangeIndex: 2295971 entries, 0 to 2295970\n",
            "Data columns (total 3 columns):\n",
            " #   Column   Dtype \n",
            "---  ------   ----- \n",
            " 0   song_id  object\n",
            " 1   name     object\n",
            " 2   isrc     object\n",
            "dtypes: object(3)\n",
            "memory usage: 52.6+ MB\n"
          ],
          "name": "stdout"
        }
      ]
    },
    {
      "cell_type": "code",
      "metadata": {
        "trusted": true,
        "id": "XP1hJpoT2xXJ",
        "colab": {
          "base_uri": "https://localhost:8080/"
        },
        "outputId": "14deab75-a5b0-48ed-9429-d9ddc63cc955"
      },
      "source": [
        "song_extra_df.count()"
      ],
      "execution_count": null,
      "outputs": [
        {
          "output_type": "execute_result",
          "data": {
            "text/plain": [
              "song_id    2295971\n",
              "name       2295969\n",
              "isrc       2159423\n",
              "dtype: int64"
            ]
          },
          "metadata": {
            "tags": []
          },
          "execution_count": 43
        }
      ]
    },
    {
      "cell_type": "code",
      "metadata": {
        "trusted": true,
        "id": "YcXXRNX32xXK",
        "colab": {
          "base_uri": "https://localhost:8080/",
          "height": 196
        },
        "outputId": "af79c1f5-e122-4153-a749-c724da783e0b"
      },
      "source": [
        "song_extra_df.head()"
      ],
      "execution_count": null,
      "outputs": [
        {
          "output_type": "execute_result",
          "data": {
            "text/html": [
              "<div>\n",
              "<style scoped>\n",
              "    .dataframe tbody tr th:only-of-type {\n",
              "        vertical-align: middle;\n",
              "    }\n",
              "\n",
              "    .dataframe tbody tr th {\n",
              "        vertical-align: top;\n",
              "    }\n",
              "\n",
              "    .dataframe thead th {\n",
              "        text-align: right;\n",
              "    }\n",
              "</style>\n",
              "<table border=\"1\" class=\"dataframe\">\n",
              "  <thead>\n",
              "    <tr style=\"text-align: right;\">\n",
              "      <th></th>\n",
              "      <th>song_id</th>\n",
              "      <th>name</th>\n",
              "      <th>isrc</th>\n",
              "    </tr>\n",
              "  </thead>\n",
              "  <tbody>\n",
              "    <tr>\n",
              "      <th>0</th>\n",
              "      <td>LP7pLJoJFBvyuUwvu+oLzjT+bI+UeBPURCecJsX1jjs=</td>\n",
              "      <td>我們</td>\n",
              "      <td>TWUM71200043</td>\n",
              "    </tr>\n",
              "    <tr>\n",
              "      <th>1</th>\n",
              "      <td>ClazTFnk6r0Bnuie44bocdNMM3rdlrq0bCGAsGUWcHE=</td>\n",
              "      <td>Let Me Love You</td>\n",
              "      <td>QMZSY1600015</td>\n",
              "    </tr>\n",
              "    <tr>\n",
              "      <th>2</th>\n",
              "      <td>u2ja/bZE3zhCGxvbbOB3zOoUjx27u40cf5g09UXMoKQ=</td>\n",
              "      <td>原諒我</td>\n",
              "      <td>TWA530887303</td>\n",
              "    </tr>\n",
              "    <tr>\n",
              "      <th>3</th>\n",
              "      <td>92Fqsy0+p6+RHe2EoLKjHahORHR1Kq1TBJoClW9v+Ts=</td>\n",
              "      <td>Classic</td>\n",
              "      <td>USSM11301446</td>\n",
              "    </tr>\n",
              "    <tr>\n",
              "      <th>4</th>\n",
              "      <td>0QFmz/+rJy1Q56C1DuYqT9hKKqi5TUqx0sN0IwvoHrw=</td>\n",
              "      <td>愛投羅網</td>\n",
              "      <td>TWA471306001</td>\n",
              "    </tr>\n",
              "  </tbody>\n",
              "</table>\n",
              "</div>"
            ],
            "text/plain": [
              "                                        song_id             name          isrc\n",
              "0  LP7pLJoJFBvyuUwvu+oLzjT+bI+UeBPURCecJsX1jjs=               我們  TWUM71200043\n",
              "1  ClazTFnk6r0Bnuie44bocdNMM3rdlrq0bCGAsGUWcHE=  Let Me Love You  QMZSY1600015\n",
              "2  u2ja/bZE3zhCGxvbbOB3zOoUjx27u40cf5g09UXMoKQ=              原諒我  TWA530887303\n",
              "3  92Fqsy0+p6+RHe2EoLKjHahORHR1Kq1TBJoClW9v+Ts=          Classic  USSM11301446\n",
              "4  0QFmz/+rJy1Q56C1DuYqT9hKKqi5TUqx0sN0IwvoHrw=             愛投羅網  TWA471306001"
            ]
          },
          "metadata": {
            "tags": []
          },
          "execution_count": 44
        }
      ]
    },
    {
      "cell_type": "markdown",
      "metadata": {
        "id": "HrGVu-CSunP4"
      },
      "source": [
        "### Information of member data"
      ]
    },
    {
      "cell_type": "code",
      "metadata": {
        "trusted": true,
        "id": "CnHAGXzE2xXK",
        "colab": {
          "base_uri": "https://localhost:8080/"
        },
        "outputId": "e435685f-4019-48a1-b5e1-09059cc4fe61"
      },
      "source": [
        "members_df.info()"
      ],
      "execution_count": null,
      "outputs": [
        {
          "output_type": "stream",
          "text": [
            "<class 'pandas.core.frame.DataFrame'>\n",
            "RangeIndex: 34403 entries, 0 to 34402\n",
            "Data columns (total 7 columns):\n",
            " #   Column                  Non-Null Count  Dtype \n",
            "---  ------                  --------------  ----- \n",
            " 0   msno                    34403 non-null  object\n",
            " 1   city                    34403 non-null  int64 \n",
            " 2   bd                      34403 non-null  int64 \n",
            " 3   gender                  14501 non-null  object\n",
            " 4   registered_via          34403 non-null  int64 \n",
            " 5   registration_init_time  34403 non-null  int64 \n",
            " 6   expiration_date         34403 non-null  int64 \n",
            "dtypes: int64(5), object(2)\n",
            "memory usage: 1.8+ MB\n"
          ],
          "name": "stdout"
        }
      ]
    },
    {
      "cell_type": "markdown",
      "metadata": {
        "id": "noneeax92xXL"
      },
      "source": [
        ""
      ]
    },
    {
      "cell_type": "markdown",
      "metadata": {
        "id": "QDs5mgCv2xXL"
      },
      "source": [
        "## 1.2 Explore Song information"
      ]
    },
    {
      "cell_type": "code",
      "metadata": {
        "trusted": true,
        "id": "V7cmC1qY2xXL",
        "colab": {
          "base_uri": "https://localhost:8080/",
          "height": 484
        },
        "outputId": "0b753652-54c5-47f6-9326-d64201ba4577"
      },
      "source": [
        "# Merge two dataframe based on song_id so that we can analyze the song information together with training data\n",
        "\n",
        "user_music_df = train_df.merge(song_df,on='song_id',how=\"left\", copy =False)\n",
        "user_music_df[\"song_id\"] = user_music_df[\"song_id\"].astype(\"category\")\n",
        "user_music_df.head()"
      ],
      "execution_count": null,
      "outputs": [
        {
          "output_type": "execute_result",
          "data": {
            "text/html": [
              "<div>\n",
              "<style scoped>\n",
              "    .dataframe tbody tr th:only-of-type {\n",
              "        vertical-align: middle;\n",
              "    }\n",
              "\n",
              "    .dataframe tbody tr th {\n",
              "        vertical-align: top;\n",
              "    }\n",
              "\n",
              "    .dataframe thead th {\n",
              "        text-align: right;\n",
              "    }\n",
              "</style>\n",
              "<table border=\"1\" class=\"dataframe\">\n",
              "  <thead>\n",
              "    <tr style=\"text-align: right;\">\n",
              "      <th></th>\n",
              "      <th>msno</th>\n",
              "      <th>song_id</th>\n",
              "      <th>source_system_tab</th>\n",
              "      <th>source_screen_name</th>\n",
              "      <th>source_type</th>\n",
              "      <th>target</th>\n",
              "      <th>song_length</th>\n",
              "      <th>genre_ids</th>\n",
              "      <th>artist_name</th>\n",
              "      <th>composer</th>\n",
              "      <th>lyricist</th>\n",
              "      <th>language</th>\n",
              "    </tr>\n",
              "  </thead>\n",
              "  <tbody>\n",
              "    <tr>\n",
              "      <th>0</th>\n",
              "      <td>FGtllVqz18RPiwJj/edr2gV78zirAiY/9SmYvia+kCg=</td>\n",
              "      <td>BBzumQNXUHKdEBOB7mAJuzok+IJA1c2Ryg/yzTF6tik=</td>\n",
              "      <td>explore</td>\n",
              "      <td>Explore</td>\n",
              "      <td>online-playlist</td>\n",
              "      <td>1</td>\n",
              "      <td>206471.0</td>\n",
              "      <td>359</td>\n",
              "      <td>Bastille</td>\n",
              "      <td>Dan Smith| Mark Crew</td>\n",
              "      <td>NaN</td>\n",
              "      <td>52.0</td>\n",
              "    </tr>\n",
              "    <tr>\n",
              "      <th>1</th>\n",
              "      <td>Xumu+NIjS6QYVxDS4/t3SawvJ7viT9hPKXmf0RtLNx8=</td>\n",
              "      <td>bhp/MpSNoqoxOIB+/l8WPqu6jldth4DIpCm3ayXnJqM=</td>\n",
              "      <td>my library</td>\n",
              "      <td>Local playlist more</td>\n",
              "      <td>local-playlist</td>\n",
              "      <td>1</td>\n",
              "      <td>284584.0</td>\n",
              "      <td>1259</td>\n",
              "      <td>Various Artists</td>\n",
              "      <td>NaN</td>\n",
              "      <td>NaN</td>\n",
              "      <td>52.0</td>\n",
              "    </tr>\n",
              "    <tr>\n",
              "      <th>2</th>\n",
              "      <td>Xumu+NIjS6QYVxDS4/t3SawvJ7viT9hPKXmf0RtLNx8=</td>\n",
              "      <td>JNWfrrC7zNN7BdMpsISKa4Mw+xVJYNnxXh3/Epw7QgY=</td>\n",
              "      <td>my library</td>\n",
              "      <td>Local playlist more</td>\n",
              "      <td>local-playlist</td>\n",
              "      <td>1</td>\n",
              "      <td>225396.0</td>\n",
              "      <td>1259</td>\n",
              "      <td>Nas</td>\n",
              "      <td>N. Jones、W. Adams、J. Lordan、D. Ingle</td>\n",
              "      <td>NaN</td>\n",
              "      <td>52.0</td>\n",
              "    </tr>\n",
              "    <tr>\n",
              "      <th>3</th>\n",
              "      <td>Xumu+NIjS6QYVxDS4/t3SawvJ7viT9hPKXmf0RtLNx8=</td>\n",
              "      <td>2A87tzfnJTSWqD7gIZHisolhe4DMdzkbd6LzO1KHjNs=</td>\n",
              "      <td>my library</td>\n",
              "      <td>Local playlist more</td>\n",
              "      <td>local-playlist</td>\n",
              "      <td>1</td>\n",
              "      <td>255512.0</td>\n",
              "      <td>1019</td>\n",
              "      <td>Soundway</td>\n",
              "      <td>Kwadwo Donkoh</td>\n",
              "      <td>NaN</td>\n",
              "      <td>-1.0</td>\n",
              "    </tr>\n",
              "    <tr>\n",
              "      <th>4</th>\n",
              "      <td>FGtllVqz18RPiwJj/edr2gV78zirAiY/9SmYvia+kCg=</td>\n",
              "      <td>3qm6XTZ6MOCU11x8FIVbAGH5l5uMkT3/ZalWG1oo2Gc=</td>\n",
              "      <td>explore</td>\n",
              "      <td>Explore</td>\n",
              "      <td>online-playlist</td>\n",
              "      <td>1</td>\n",
              "      <td>187802.0</td>\n",
              "      <td>1011</td>\n",
              "      <td>Brett Young</td>\n",
              "      <td>Brett Young| Kelly Archer| Justin Ebach</td>\n",
              "      <td>NaN</td>\n",
              "      <td>52.0</td>\n",
              "    </tr>\n",
              "  </tbody>\n",
              "</table>\n",
              "</div>"
            ],
            "text/plain": [
              "                                           msno  ... language\n",
              "0  FGtllVqz18RPiwJj/edr2gV78zirAiY/9SmYvia+kCg=  ...     52.0\n",
              "1  Xumu+NIjS6QYVxDS4/t3SawvJ7viT9hPKXmf0RtLNx8=  ...     52.0\n",
              "2  Xumu+NIjS6QYVxDS4/t3SawvJ7viT9hPKXmf0RtLNx8=  ...     52.0\n",
              "3  Xumu+NIjS6QYVxDS4/t3SawvJ7viT9hPKXmf0RtLNx8=  ...     -1.0\n",
              "4  FGtllVqz18RPiwJj/edr2gV78zirAiY/9SmYvia+kCg=  ...     52.0\n",
              "\n",
              "[5 rows x 12 columns]"
            ]
          },
          "metadata": {
            "tags": []
          },
          "execution_count": 49
        }
      ]
    },
    {
      "cell_type": "markdown",
      "metadata": {
        "id": "J8ER25N0s5vJ"
      },
      "source": [
        "### Number of unique values in song_id, genre_id"
      ]
    },
    {
      "cell_type": "code",
      "metadata": {
        "trusted": true,
        "id": "JOEK09212xXL",
        "colab": {
          "base_uri": "https://localhost:8080/"
        },
        "outputId": "858be866-335b-485e-fa68-f0fb4dbefb58"
      },
      "source": [
        "user_music_df['song_id'].nunique(), user_music_df['genre_ids'].nunique()"
      ],
      "execution_count": null,
      "outputs": [
        {
          "output_type": "execute_result",
          "data": {
            "text/plain": [
              "(359966, 572)"
            ]
          },
          "metadata": {
            "tags": []
          },
          "execution_count": 50
        }
      ]
    },
    {
      "cell_type": "markdown",
      "metadata": {
        "id": "2fYwPSeitJAM"
      },
      "source": [
        "### Count of not None values in each attribute"
      ]
    },
    {
      "cell_type": "code",
      "metadata": {
        "trusted": true,
        "id": "NfJHXQmf2xXM",
        "colab": {
          "base_uri": "https://localhost:8080/"
        },
        "outputId": "bcca85ea-f49c-47fd-a82e-07619e6c5af6"
      },
      "source": [
        "user_music_df.count()"
      ],
      "execution_count": null,
      "outputs": [
        {
          "output_type": "execute_result",
          "data": {
            "text/plain": [
              "msno                  7377418\n",
              "song_id               7377418\n",
              "source_system_tab     7352569\n",
              "source_screen_name    6962614\n",
              "source_type           7355879\n",
              "target                7377418\n",
              "song_length           7377304\n",
              "genre_ids             7258963\n",
              "artist_name           7377304\n",
              "composer              5701712\n",
              "lyricist              4198620\n",
              "language              7377268\n",
              "dtype: int64"
            ]
          },
          "metadata": {
            "tags": []
          },
          "execution_count": 51
        }
      ]
    },
    {
      "cell_type": "markdown",
      "metadata": {
        "id": "Ny4GojV0stYL"
      },
      "source": [
        "### Visualize the counts of song genres"
      ]
    },
    {
      "cell_type": "code",
      "metadata": {
        "trusted": true,
        "id": "3Ds9jGL_2xXM",
        "colab": {
          "base_uri": "https://localhost:8080/",
          "height": 513
        },
        "outputId": "7ec74312-4398-421b-eacd-51d59e8a7670"
      },
      "source": [
        "# plot the top-20 frequent genre_ids \n",
        "df_genre = user_music_df.sample(n=5000)\n",
        "df_genre = df_genre[\"genre_ids\"].value_counts().sort_values(ascending=False)[:20]\n",
        "df_genre = df_genre.sort_values(ascending=True)\n",
        "ax  = df_genre.plot.barh(figsize=(15,8))\n",
        "ax.set_ylabel(\"song genre ids\")\n",
        "ax.set_xlabel(\"Count\")\n"
      ],
      "execution_count": null,
      "outputs": [
        {
          "output_type": "execute_result",
          "data": {
            "text/plain": [
              "Text(0.5, 0, 'Count')"
            ]
          },
          "metadata": {
            "tags": []
          },
          "execution_count": 52
        },
        {
          "output_type": "display_data",
          "data": {
            "image/png": "[encoded data removed]",
            "text/plain": [
              "<Figure size 1080x576 with 1 Axes>"
            ]
          },
          "metadata": {
            "tags": [],
            "needs_background": "light"
          }
        }
      ]
    },
    {
      "cell_type": "markdown",
      "metadata": {
        "id": "LhR25WBksm2n"
      },
      "source": [
        "### Visualize the count of artists"
      ]
    },
    {
      "cell_type": "code",
      "metadata": {
        "trusted": true,
        "id": "bUYNhuUR2xXM",
        "colab": {
          "base_uri": "https://localhost:8080/",
          "height": 622
        },
        "outputId": "03c131d5-ea7d-4d3e-a894-377c4ef5acd2"
      },
      "source": [
        "\n",
        "#selec the top-20 frequent artist_name\n",
        "df_artist = user_music_df[\"artist_name\"].value_counts().sort_values(ascending=False)[:20]\n",
        "#plot in descending order in horizonal direction\n",
        "df_artist = df_artist.sort_values(ascending=True)\n",
        "ax  = df_artist.plot.barh(figsize=(15,10))\n",
        "ax.set_ylabel(\"song artist_name\")\n",
        "ax.set_xlabel(\"Count\")\n",
        "\n",
        "\n",
        "# artist_name    \n",
        "# composer       \n",
        "# lyricist "
      ],
      "execution_count": null,
      "outputs": [
        {
          "output_type": "execute_result",
          "data": {
            "text/plain": [
              "Text(0.5, 0, 'Count')"
            ]
          },
          "metadata": {
            "tags": []
          },
          "execution_count": 53
        },
        {
          "output_type": "display_data",
          "data": {
            "image/png": "[encoded data removed]",
            "text/plain": [
              "<Figure size 1080x720 with 1 Axes>"
            ]
          },
          "metadata": {
            "tags": [],
            "needs_background": "light"
          }
        }
      ]
    },
    {
      "cell_type": "code",
      "metadata": {
        "trusted": true,
        "id": "IIBf3EeO2xXM",
        "colab": {
          "base_uri": "https://localhost:8080/"
        },
        "outputId": "cc21bd02-695b-46e8-8c68-208cdab11fc8"
      },
      "source": [
        "df_artist.head(10)"
      ],
      "execution_count": null,
      "outputs": [
        {
          "output_type": "execute_result",
          "data": {
            "text/plain": [
              "The Chainsmokers     44215\n",
              "梁靜茹 (Fish Leong)     44290\n",
              "丁噹 (Della)           45762\n",
              "楊丞琳 (Rainie Yang)    46006\n",
              "蘇打綠 (Sodagreen)      47177\n",
              "蔡依林 (Jolin Tsai)     49055\n",
              "Eric 周興哲             49426\n",
              "A-Lin                52913\n",
              "Maroon 5             55151\n",
              "謝和弦 (R-chord)        57040\n",
              "Name: artist_name, dtype: int64"
            ]
          },
          "metadata": {
            "tags": []
          },
          "execution_count": 54
        }
      ]
    },
    {
      "cell_type": "markdown",
      "metadata": {
        "id": "C42Z4UBHseqH"
      },
      "source": [
        "### Visualize the count of song composers"
      ]
    },
    {
      "cell_type": "code",
      "metadata": {
        "trusted": true,
        "id": "FIWYT9oD2xXM",
        "colab": {
          "base_uri": "https://localhost:8080/",
          "height": 513
        },
        "outputId": "f0333ad5-715f-4284-9557-634c6fa8d2f4"
      },
      "source": [
        "\n",
        "fig, ax = plt.subplots(1, figsize=(15,8))\n",
        "df_composer = user_music_df[\"composer\"].value_counts().sort_values(ascending=False)[:20]\n",
        "ax  = sns.barplot([i for i in df_composer.index],df_composer,ax= ax)\n",
        "ax.set_xlabel(\"song composer\")\n",
        "ax.set_ylabel(\"Count\")"
      ],
      "execution_count": null,
      "outputs": [
        {
          "output_type": "execute_result",
          "data": {
            "text/plain": [
              "Text(0, 0.5, 'Count')"
            ]
          },
          "metadata": {
            "tags": []
          },
          "execution_count": 55
        },
        {
          "output_type": "display_data",
          "data": {
            "image/png": "[encoded data removed]",
            "text/plain": [
              "<Figure size 1080x576 with 1 Axes>"
            ]
          },
          "metadata": {
            "tags": [],
            "needs_background": "light"
          }
        }
      ]
    },
    {
      "cell_type": "code",
      "metadata": {
        "trusted": true,
        "id": "B99vAw6P2xXM",
        "colab": {
          "base_uri": "https://localhost:8080/"
        },
        "outputId": "b174ed4d-8d9e-4128-efe2-8663a54576b0"
      },
      "source": [
        "df_composer.head(20).index"
      ],
      "execution_count": null,
      "outputs": [
        {
          "output_type": "execute_result",
          "data": {
            "text/plain": [
              "Index(['周杰倫', '阿信', '林俊傑', '陳皓宇', 'JJ Lin', '張簡君偉', 'Eric Chou', '韋禮安',\n",
              "       '八三夭 阿璞', 'R-chord', '怪獸', '吳青峰', '周湯豪', 'G.E.M. 鄧紫棋', '陳小霞', 'JerryC',\n",
              "       '吳克群', '薛之謙', 'Rocoberry', '李榮浩'],\n",
              "      dtype='object')"
            ]
          },
          "metadata": {
            "tags": []
          },
          "execution_count": 56
        }
      ]
    },
    {
      "cell_type": "markdown",
      "metadata": {
        "id": "vwKN85ytvfEl"
      },
      "source": [
        "**Analysis:** we can see that features: counts of composer, artist, song genres are all long tail distribution. Most of users prefer the songs from particular composers, artists and song genres"
      ]
    },
    {
      "cell_type": "markdown",
      "metadata": {
        "id": "MDnycSeF2xXN"
      },
      "source": [
        "### Analyse the relationship between target and song"
      ]
    },
    {
      "cell_type": "code",
      "metadata": {
        "trusted": true,
        "id": "GzYdwsBv2xXN",
        "colab": {
          "base_uri": "https://localhost:8080/",
          "height": 1000
        },
        "outputId": "30d65cbb-5e1c-415c-f4bc-16f85d2daf5c"
      },
      "source": [
        "fig, ax = plt.subplots(3,1,figsize=(15,18))\n",
        "# df = user_music_df[['source_system_tab','source_screen_name','source_type']]\n",
        "# df['source_system_tab'].value_counts().plot.bar(rot=20,ax=ax[0])\n",
        "# ax[0].set_xlabel(\"source_system_tab\")\n",
        "# ax[0].set_ylabel(\"count\")\n",
        "\n",
        "# df['source_screen_name'].value_counts().plot.bar(rot=30,ax=ax[1])\n",
        "# ax[1].set_xlabel(\"source_screen_name\")\n",
        "# ax[1].set_ylabel(\"count\")\n",
        "\n",
        "\n",
        "# df['source_type'].value_counts().plot.bar(rot=20,ax=ax[2])\n",
        "# ax[2].set_xlabel(\"source_type\")\n",
        "# ax[2].set_ylabel(\"count\")\n",
        "\n",
        "sns.countplot(y= 'source_system_tab',hue='target',\n",
        "              order = user_music_df['source_system_tab'].value_counts().index,\n",
        "              data=user_music_df,dodge=True, ax= ax[0])\n",
        "\n",
        "sns.countplot(y= 'source_screen_name',hue='target',\n",
        "              order = user_music_df['source_screen_name'].value_counts().index,\n",
        "              data=user_music_df,dodge=True, ax= ax[1])\n",
        "\n",
        "\n",
        "sns.countplot(y= 'source_type',hue='target',\n",
        "              order = user_music_df['source_type'].value_counts().index,\n",
        "              data=user_music_df,dodge=True, ax= ax[2])"
      ],
      "execution_count": null,
      "outputs": [
        {
          "output_type": "execute_result",
          "data": {
            "text/plain": [
              "<matplotlib.axes._subplots.AxesSubplot at 0x7f269a90e128>"
            ]
          },
          "metadata": {
            "tags": []
          },
          "execution_count": 57
        },
        {
          "output_type": "display_data",
          "data": {
            "image/png": "[encoded data removed]",
            "text/plain": [
              "<Figure size 1080x1296 with 3 Axes>"
            ]
          },
          "metadata": {
            "tags": [],
            "needs_background": "light"
          }
        }
      ]
    },
    {
      "cell_type": "markdown",
      "metadata": {
        "id": "8wcPu_Uu2xXN"
      },
      "source": [
        "**Analysis:** We can see that local library and local playlist are the main sources that users repeat playing music and Most of users more prefer to play music from local library than to play music online"
      ]
    },
    {
      "cell_type": "markdown",
      "metadata": {
        "id": "TkfI50gk2xXN"
      },
      "source": [
        "### Check the information of member data"
      ]
    },
    {
      "cell_type": "code",
      "metadata": {
        "trusted": true,
        "id": "d8N4fGtl2xXN",
        "colab": {
          "base_uri": "https://localhost:8080/"
        },
        "outputId": "d937d9d4-ac88-495f-ab8f-6ab2ec91b4cf"
      },
      "source": [
        "members_df.info()"
      ],
      "execution_count": null,
      "outputs": [
        {
          "output_type": "stream",
          "text": [
            "<class 'pandas.core.frame.DataFrame'>\n",
            "RangeIndex: 34403 entries, 0 to 34402\n",
            "Data columns (total 7 columns):\n",
            " #   Column                  Non-Null Count  Dtype \n",
            "---  ------                  --------------  ----- \n",
            " 0   msno                    34403 non-null  object\n",
            " 1   city                    34403 non-null  int64 \n",
            " 2   bd                      34403 non-null  int64 \n",
            " 3   gender                  14501 non-null  object\n",
            " 4   registered_via          34403 non-null  int64 \n",
            " 5   registration_init_time  34403 non-null  int64 \n",
            " 6   expiration_date         34403 non-null  int64 \n",
            "dtypes: int64(5), object(2)\n",
            "memory usage: 1.8+ MB\n"
          ],
          "name": "stdout"
        }
      ]
    },
    {
      "cell_type": "code",
      "metadata": {
        "trusted": true,
        "id": "c5gVQlXV2xXN"
      },
      "source": [
        "members_df[\"registration_init_time\"] = pd.to_datetime(members_df[\"registration_init_time\"], format=\"%Y%m%d\")\n",
        "members_df[\"expiration_date\"] = pd.to_datetime(members_df[\"expiration_date\"], format=\"%Y%m%d\")"
      ],
      "execution_count": null,
      "outputs": []
    },
    {
      "cell_type": "markdown",
      "metadata": {
        "id": "9QfCVXwj2xXN"
      },
      "source": [
        "### Parse the datetime data"
      ]
    },
    {
      "cell_type": "code",
      "metadata": {
        "trusted": true,
        "id": "eKOqR7gF2xXN",
        "colab": {
          "base_uri": "https://localhost:8080/"
        },
        "outputId": "b9a983c3-f0a5-4b8b-83eb-bed46b1f52f2"
      },
      "source": [
        "members_df[\"registration_init_day\"] = members_df[\"registration_init_time\"].dt.day\n",
        "members_df[\"registration_init_month\"] = members_df[\"registration_init_time\"].dt.month\n",
        "members_df[\"registration_init_year\"] = members_df[\"registration_init_time\"].dt.year\n",
        "members_df[\"expiration_day\"] = members_df[\"expiration_date\"].dt.day\n",
        "members_df[\"expiration_month\"] = members_df[\"expiration_date\"].dt.month\n",
        "members_df[\"expiration_year\"] = members_df[\"expiration_date\"].dt.year\n",
        "members_df = members_df.drop(columns = [\"registration_init_time\", \"expiration_date\"],axis=1)\n",
        "members_df.info()"
      ],
      "execution_count": null,
      "outputs": [
        {
          "output_type": "stream",
          "text": [
            "<class 'pandas.core.frame.DataFrame'>\n",
            "RangeIndex: 34403 entries, 0 to 34402\n",
            "Data columns (total 11 columns):\n",
            " #   Column                   Non-Null Count  Dtype \n",
            "---  ------                   --------------  ----- \n",
            " 0   msno                     34403 non-null  object\n",
            " 1   city                     34403 non-null  int64 \n",
            " 2   bd                       34403 non-null  int64 \n",
            " 3   gender                   14501 non-null  object\n",
            " 4   registered_via           34403 non-null  int64 \n",
            " 5   registration_init_day    34403 non-null  int64 \n",
            " 6   registration_init_month  34403 non-null  int64 \n",
            " 7   registration_init_year   34403 non-null  int64 \n",
            " 8   expiration_day           34403 non-null  int64 \n",
            " 9   expiration_month         34403 non-null  int64 \n",
            " 10  expiration_year          34403 non-null  int64 \n",
            "dtypes: int64(9), object(2)\n",
            "memory usage: 2.9+ MB\n"
          ],
          "name": "stdout"
        }
      ]
    },
    {
      "cell_type": "markdown",
      "metadata": {
        "id": "TMrTqYh8vHRR"
      },
      "source": [
        "### Merge member data with training data"
      ]
    },
    {
      "cell_type": "code",
      "metadata": {
        "trusted": true,
        "id": "dIx1wVlm2xXN",
        "colab": {
          "base_uri": "https://localhost:8080/",
          "height": 484
        },
        "outputId": "9154cb55-4b50-42ad-d2da-9c9a12291193"
      },
      "source": [
        "member_music_df = user_music_df.merge(members_df,on='msno',how=\"left\", copy=False)\n",
        "\n",
        "#after merging, the axis used to merge becomes object type,so need to convert it back to category type\n",
        "member_music_df[\"msno\"] = member_music_df[\"msno\"].astype(\"category\")\n",
        "member_music_df[\"song_id\"] = member_music_df[\"song_id\"].astype(\"category\")\n",
        "member_music_df.head()\n"
      ],
      "execution_count": null,
      "outputs": [
        {
          "output_type": "execute_result",
          "data": {
            "text/html": [
              "<div>\n",
              "<style scoped>\n",
              "    .dataframe tbody tr th:only-of-type {\n",
              "        vertical-align: middle;\n",
              "    }\n",
              "\n",
              "    .dataframe tbody tr th {\n",
              "        vertical-align: top;\n",
              "    }\n",
              "\n",
              "    .dataframe thead th {\n",
              "        text-align: right;\n",
              "    }\n",
              "</style>\n",
              "<table border=\"1\" class=\"dataframe\">\n",
              "  <thead>\n",
              "    <tr style=\"text-align: right;\">\n",
              "      <th></th>\n",
              "      <th>msno</th>\n",
              "      <th>song_id</th>\n",
              "      <th>source_system_tab</th>\n",
              "      <th>source_screen_name</th>\n",
              "      <th>source_type</th>\n",
              "      <th>target</th>\n",
              "      <th>song_length</th>\n",
              "      <th>genre_ids</th>\n",
              "      <th>artist_name</th>\n",
              "      <th>composer</th>\n",
              "      <th>lyricist</th>\n",
              "      <th>language</th>\n",
              "      <th>city</th>\n",
              "      <th>bd</th>\n",
              "      <th>gender</th>\n",
              "      <th>registered_via</th>\n",
              "      <th>registration_init_day</th>\n",
              "      <th>registration_init_month</th>\n",
              "      <th>registration_init_year</th>\n",
              "      <th>expiration_day</th>\n",
              "      <th>expiration_month</th>\n",
              "      <th>expiration_year</th>\n",
              "    </tr>\n",
              "  </thead>\n",
              "  <tbody>\n",
              "    <tr>\n",
              "      <th>0</th>\n",
              "      <td>FGtllVqz18RPiwJj/edr2gV78zirAiY/9SmYvia+kCg=</td>\n",
              "      <td>BBzumQNXUHKdEBOB7mAJuzok+IJA1c2Ryg/yzTF6tik=</td>\n",
              "      <td>explore</td>\n",
              "      <td>Explore</td>\n",
              "      <td>online-playlist</td>\n",
              "      <td>1</td>\n",
              "      <td>206471.0</td>\n",
              "      <td>359</td>\n",
              "      <td>Bastille</td>\n",
              "      <td>Dan Smith| Mark Crew</td>\n",
              "      <td>NaN</td>\n",
              "      <td>52.0</td>\n",
              "      <td>1</td>\n",
              "      <td>0</td>\n",
              "      <td>NaN</td>\n",
              "      <td>7</td>\n",
              "      <td>2</td>\n",
              "      <td>1</td>\n",
              "      <td>2012</td>\n",
              "      <td>5</td>\n",
              "      <td>10</td>\n",
              "      <td>2017</td>\n",
              "    </tr>\n",
              "    <tr>\n",
              "      <th>1</th>\n",
              "      <td>Xumu+NIjS6QYVxDS4/t3SawvJ7viT9hPKXmf0RtLNx8=</td>\n",
              "      <td>bhp/MpSNoqoxOIB+/l8WPqu6jldth4DIpCm3ayXnJqM=</td>\n",
              "      <td>my library</td>\n",
              "      <td>Local playlist more</td>\n",
              "      <td>local-playlist</td>\n",
              "      <td>1</td>\n",
              "      <td>284584.0</td>\n",
              "      <td>1259</td>\n",
              "      <td>Various Artists</td>\n",
              "      <td>NaN</td>\n",
              "      <td>NaN</td>\n",
              "      <td>52.0</td>\n",
              "      <td>13</td>\n",
              "      <td>24</td>\n",
              "      <td>female</td>\n",
              "      <td>9</td>\n",
              "      <td>25</td>\n",
              "      <td>5</td>\n",
              "      <td>2011</td>\n",
              "      <td>11</td>\n",
              "      <td>9</td>\n",
              "      <td>2017</td>\n",
              "    </tr>\n",
              "    <tr>\n",
              "      <th>2</th>\n",
              "      <td>Xumu+NIjS6QYVxDS4/t3SawvJ7viT9hPKXmf0RtLNx8=</td>\n",
              "      <td>JNWfrrC7zNN7BdMpsISKa4Mw+xVJYNnxXh3/Epw7QgY=</td>\n",
              "      <td>my library</td>\n",
              "      <td>Local playlist more</td>\n",
              "      <td>local-playlist</td>\n",
              "      <td>1</td>\n",
              "      <td>225396.0</td>\n",
              "      <td>1259</td>\n",
              "      <td>Nas</td>\n",
              "      <td>N. Jones、W. Adams、J. Lordan、D. Ingle</td>\n",
              "      <td>NaN</td>\n",
              "      <td>52.0</td>\n",
              "      <td>13</td>\n",
              "      <td>24</td>\n",
              "      <td>female</td>\n",
              "      <td>9</td>\n",
              "      <td>25</td>\n",
              "      <td>5</td>\n",
              "      <td>2011</td>\n",
              "      <td>11</td>\n",
              "      <td>9</td>\n",
              "      <td>2017</td>\n",
              "    </tr>\n",
              "    <tr>\n",
              "      <th>3</th>\n",
              "      <td>Xumu+NIjS6QYVxDS4/t3SawvJ7viT9hPKXmf0RtLNx8=</td>\n",
              "      <td>2A87tzfnJTSWqD7gIZHisolhe4DMdzkbd6LzO1KHjNs=</td>\n",
              "      <td>my library</td>\n",
              "      <td>Local playlist more</td>\n",
              "      <td>local-playlist</td>\n",
              "      <td>1</td>\n",
              "      <td>255512.0</td>\n",
              "      <td>1019</td>\n",
              "      <td>Soundway</td>\n",
              "      <td>Kwadwo Donkoh</td>\n",
              "      <td>NaN</td>\n",
              "      <td>-1.0</td>\n",
              "      <td>13</td>\n",
              "      <td>24</td>\n",
              "      <td>female</td>\n",
              "      <td>9</td>\n",
              "      <td>25</td>\n",
              "      <td>5</td>\n",
              "      <td>2011</td>\n",
              "      <td>11</td>\n",
              "      <td>9</td>\n",
              "      <td>2017</td>\n",
              "    </tr>\n",
              "    <tr>\n",
              "      <th>4</th>\n",
              "      <td>FGtllVqz18RPiwJj/edr2gV78zirAiY/9SmYvia+kCg=</td>\n",
              "      <td>3qm6XTZ6MOCU11x8FIVbAGH5l5uMkT3/ZalWG1oo2Gc=</td>\n",
              "      <td>explore</td>\n",
              "      <td>Explore</td>\n",
              "      <td>online-playlist</td>\n",
              "      <td>1</td>\n",
              "      <td>187802.0</td>\n",
              "      <td>1011</td>\n",
              "      <td>Brett Young</td>\n",
              "      <td>Brett Young| Kelly Archer| Justin Ebach</td>\n",
              "      <td>NaN</td>\n",
              "      <td>52.0</td>\n",
              "      <td>1</td>\n",
              "      <td>0</td>\n",
              "      <td>NaN</td>\n",
              "      <td>7</td>\n",
              "      <td>2</td>\n",
              "      <td>1</td>\n",
              "      <td>2012</td>\n",
              "      <td>5</td>\n",
              "      <td>10</td>\n",
              "      <td>2017</td>\n",
              "    </tr>\n",
              "  </tbody>\n",
              "</table>\n",
              "</div>"
            ],
            "text/plain": [
              "                                           msno  ... expiration_year\n",
              "0  FGtllVqz18RPiwJj/edr2gV78zirAiY/9SmYvia+kCg=  ...            2017\n",
              "1  Xumu+NIjS6QYVxDS4/t3SawvJ7viT9hPKXmf0RtLNx8=  ...            2017\n",
              "2  Xumu+NIjS6QYVxDS4/t3SawvJ7viT9hPKXmf0RtLNx8=  ...            2017\n",
              "3  Xumu+NIjS6QYVxDS4/t3SawvJ7viT9hPKXmf0RtLNx8=  ...            2017\n",
              "4  FGtllVqz18RPiwJj/edr2gV78zirAiY/9SmYvia+kCg=  ...            2017\n",
              "\n",
              "[5 rows x 22 columns]"
            ]
          },
          "metadata": {
            "tags": []
          },
          "execution_count": 61
        }
      ]
    },
    {
      "cell_type": "code",
      "metadata": {
        "trusted": true,
        "id": "09bCkzfB2xXN",
        "colab": {
          "base_uri": "https://localhost:8080/"
        },
        "outputId": "f5d9de54-a81d-4922-f9d6-a3ef327ca40b"
      },
      "source": [
        "member_music_df.info()"
      ],
      "execution_count": null,
      "outputs": [
        {
          "output_type": "stream",
          "text": [
            "<class 'pandas.core.frame.DataFrame'>\n",
            "Int64Index: 7377418 entries, 0 to 7377417\n",
            "Data columns (total 22 columns):\n",
            " #   Column                   Dtype   \n",
            "---  ------                   -----   \n",
            " 0   msno                     category\n",
            " 1   song_id                  category\n",
            " 2   source_system_tab        object  \n",
            " 3   source_screen_name       object  \n",
            " 4   source_type              object  \n",
            " 5   target                   int64   \n",
            " 6   song_length              float64 \n",
            " 7   genre_ids                object  \n",
            " 8   artist_name              object  \n",
            " 9   composer                 object  \n",
            " 10  lyricist                 object  \n",
            " 11  language                 float64 \n",
            " 12  city                     int64   \n",
            " 13  bd                       int64   \n",
            " 14  gender                   object  \n",
            " 15  registered_via           int64   \n",
            " 16  registration_init_day    int64   \n",
            " 17  registration_init_month  int64   \n",
            " 18  registration_init_year   int64   \n",
            " 19  expiration_day           int64   \n",
            " 20  expiration_month         int64   \n",
            " 21  expiration_year          int64   \n",
            "dtypes: category(2), float64(2), int64(10), object(8)\n",
            "memory usage: 1.2+ GB\n"
          ],
          "name": "stdout"
        }
      ]
    },
    {
      "cell_type": "code",
      "metadata": {
        "trusted": true,
        "id": "_uCHkloJ2xXN",
        "colab": {
          "base_uri": "https://localhost:8080/"
        },
        "outputId": "fb8d5c70-3f74-416c-8a0e-be856bae116d"
      },
      "source": [
        "member_music_df.count()"
      ],
      "execution_count": null,
      "outputs": [
        {
          "output_type": "execute_result",
          "data": {
            "text/plain": [
              "msno                       7377418\n",
              "song_id                    7377418\n",
              "source_system_tab          7352569\n",
              "source_screen_name         6962614\n",
              "source_type                7355879\n",
              "target                     7377418\n",
              "song_length                7377304\n",
              "genre_ids                  7258963\n",
              "artist_name                7377304\n",
              "composer                   5701712\n",
              "lyricist                   4198620\n",
              "language                   7377268\n",
              "city                       7377418\n",
              "bd                         7377418\n",
              "gender                     4415939\n",
              "registered_via             7377418\n",
              "registration_init_day      7377418\n",
              "registration_init_month    7377418\n",
              "registration_init_year     7377418\n",
              "expiration_day             7377418\n",
              "expiration_month           7377418\n",
              "expiration_year            7377418\n",
              "dtype: int64"
            ]
          },
          "metadata": {
            "tags": []
          },
          "execution_count": 63
        }
      ]
    },
    {
      "cell_type": "code",
      "metadata": {
        "trusted": true,
        "id": "JqI9q_Vp2xXN",
        "colab": {
          "base_uri": "https://localhost:8080/"
        },
        "outputId": "f88bfa87-7c45-4683-9fac-c3fc64466a39"
      },
      "source": [
        "member_music_df['bd'].describe()"
      ],
      "execution_count": null,
      "outputs": [
        {
          "output_type": "execute_result",
          "data": {
            "text/plain": [
              "count    7.377418e+06\n",
              "mean     1.753927e+01\n",
              "std      2.155447e+01\n",
              "min     -4.300000e+01\n",
              "25%      0.000000e+00\n",
              "50%      2.100000e+01\n",
              "75%      2.900000e+01\n",
              "max      1.051000e+03\n",
              "Name: bd, dtype: float64"
            ]
          },
          "metadata": {
            "tags": []
          },
          "execution_count": 64
        }
      ]
    },
    {
      "cell_type": "markdown",
      "metadata": {
        "id": "1ofOY3Mo2xXN"
      },
      "source": [
        "### Visualize distribution of age: bd attribution\n",
        "Note: Since this attribute has outliers, I use remove the data that lies outside range [0,100] by replacing them with NaN"
      ]
    },
    {
      "cell_type": "code",
      "metadata": {
        "trusted": true,
        "id": "TOfSnNWu2xXN",
        "colab": {
          "base_uri": "https://localhost:8080/",
          "height": 525
        },
        "outputId": "afbbfb5c-37be-4e9e-a560-580331357b05"
      },
      "source": [
        "fig, ax = plt.subplots(2, figsize= (15,8))\n",
        "age_df = member_music_df['bd'].loc[(member_music_df['bd']>0) & (member_music_df['bd']<100)]\n",
        "age_df.hist(ax = ax[0])\n",
        "\n",
        "ax[0].set_ylabel(\"count\")\n",
        "\n",
        "member_music_df['bd'].loc[(member_music_df['bd']<0) | (member_music_df['bd']>100)].hist(ax = ax[1])\n",
        "ax[1].set_xlabel(\"age\")\n",
        "ax[1].set_ylabel(\"count\")"
      ],
      "execution_count": null,
      "outputs": [
        {
          "output_type": "execute_result",
          "data": {
            "text/plain": [
              "Text(0, 0.5, 'count')"
            ]
          },
          "metadata": {
            "tags": []
          },
          "execution_count": 65
        },
        {
          "output_type": "display_data",
          "data": {
            "image/png": "[encoded data removed]",
            "text/plain": [
              "<Figure size 1080x576 with 2 Axes>"
            ]
          },
          "metadata": {
            "tags": [],
            "needs_background": "light"
          }
        }
      ]
    },
    {
      "cell_type": "markdown",
      "metadata": {
        "id": "xF1c1XlU2xXO"
      },
      "source": [
        "**Analysis:** We can see that bd/age column has outliers outside range [0,100], so we want to replace the incorrect bd with NaN"
      ]
    },
    {
      "cell_type": "code",
      "metadata": {
        "trusted": true,
        "id": "sa5VwlUa2xXO"
      },
      "source": [
        "member_music_df['bd'].loc[(member_music_df['bd']<=0) | (member_music_df['bd']>=100)]= np.nan"
      ],
      "execution_count": null,
      "outputs": []
    },
    {
      "cell_type": "markdown",
      "metadata": {
        "id": "QyhCWqQzn6e1"
      },
      "source": [
        "### Check the correlation between attributes using correlation matrix and visualize them wiht heatmap"
      ]
    },
    {
      "cell_type": "code",
      "metadata": {
        "trusted": true,
        "id": "83BU-R4x2xXO",
        "colab": {
          "base_uri": "https://localhost:8080/",
          "height": 306
        },
        "outputId": "c140727c-b66b-44ac-f228-8baae12701d8"
      },
      "source": [
        "member_music_df.describe()"
      ],
      "execution_count": null,
      "outputs": [
        {
          "output_type": "execute_result",
          "data": {
            "text/html": [
              "<div>\n",
              "<style scoped>\n",
              "    .dataframe tbody tr th:only-of-type {\n",
              "        vertical-align: middle;\n",
              "    }\n",
              "\n",
              "    .dataframe tbody tr th {\n",
              "        vertical-align: top;\n",
              "    }\n",
              "\n",
              "    .dataframe thead th {\n",
              "        text-align: right;\n",
              "    }\n",
              "</style>\n",
              "<table border=\"1\" class=\"dataframe\">\n",
              "  <thead>\n",
              "    <tr style=\"text-align: right;\">\n",
              "      <th></th>\n",
              "      <th>target</th>\n",
              "      <th>song_length</th>\n",
              "      <th>language</th>\n",
              "      <th>city</th>\n",
              "      <th>bd</th>\n",
              "      <th>registered_via</th>\n",
              "      <th>registration_init_day</th>\n",
              "      <th>registration_init_month</th>\n",
              "      <th>registration_init_year</th>\n",
              "      <th>expiration_day</th>\n",
              "      <th>expiration_month</th>\n",
              "      <th>expiration_year</th>\n",
              "    </tr>\n",
              "  </thead>\n",
              "  <tbody>\n",
              "    <tr>\n",
              "      <th>count</th>\n",
              "      <td>7.377418e+06</td>\n",
              "      <td>7.377304e+06</td>\n",
              "      <td>7.377268e+06</td>\n",
              "      <td>7.377418e+06</td>\n",
              "      <td>4.430216e+06</td>\n",
              "      <td>7.377418e+06</td>\n",
              "      <td>7.377418e+06</td>\n",
              "      <td>7.377418e+06</td>\n",
              "      <td>7.377418e+06</td>\n",
              "      <td>7.377418e+06</td>\n",
              "      <td>7.377418e+06</td>\n",
              "      <td>7.377418e+06</td>\n",
              "    </tr>\n",
              "    <tr>\n",
              "      <th>mean</th>\n",
              "      <td>5.035171e-01</td>\n",
              "      <td>2.451210e+05</td>\n",
              "      <td>1.860933e+01</td>\n",
              "      <td>7.511399e+00</td>\n",
              "      <td>2.872200e+01</td>\n",
              "      <td>6.794068e+00</td>\n",
              "      <td>1.581532e+01</td>\n",
              "      <td>6.832306e+00</td>\n",
              "      <td>2.012741e+03</td>\n",
              "      <td>1.562338e+01</td>\n",
              "      <td>8.341742e+00</td>\n",
              "      <td>2.017072e+03</td>\n",
              "    </tr>\n",
              "    <tr>\n",
              "      <th>std</th>\n",
              "      <td>4.999877e-01</td>\n",
              "      <td>6.734471e+04</td>\n",
              "      <td>2.117681e+01</td>\n",
              "      <td>6.641625e+00</td>\n",
              "      <td>8.634326e+00</td>\n",
              "      <td>2.275774e+00</td>\n",
              "      <td>8.768549e+00</td>\n",
              "      <td>3.700723e+00</td>\n",
              "      <td>3.018861e+00</td>\n",
              "      <td>9.107235e+00</td>\n",
              "      <td>2.511360e+00</td>\n",
              "      <td>3.982536e-01</td>\n",
              "    </tr>\n",
              "    <tr>\n",
              "      <th>min</th>\n",
              "      <td>0.000000e+00</td>\n",
              "      <td>1.393000e+03</td>\n",
              "      <td>-1.000000e+00</td>\n",
              "      <td>1.000000e+00</td>\n",
              "      <td>2.000000e+00</td>\n",
              "      <td>3.000000e+00</td>\n",
              "      <td>1.000000e+00</td>\n",
              "      <td>1.000000e+00</td>\n",
              "      <td>2.004000e+03</td>\n",
              "      <td>1.000000e+00</td>\n",
              "      <td>1.000000e+00</td>\n",
              "      <td>1.970000e+03</td>\n",
              "    </tr>\n",
              "    <tr>\n",
              "      <th>25%</th>\n",
              "      <td>0.000000e+00</td>\n",
              "      <td>2.147260e+05</td>\n",
              "      <td>3.000000e+00</td>\n",
              "      <td>1.000000e+00</td>\n",
              "      <td>2.300000e+01</td>\n",
              "      <td>4.000000e+00</td>\n",
              "      <td>8.000000e+00</td>\n",
              "      <td>3.000000e+00</td>\n",
              "      <td>2.011000e+03</td>\n",
              "      <td>8.000000e+00</td>\n",
              "      <td>9.000000e+00</td>\n",
              "      <td>2.017000e+03</td>\n",
              "    </tr>\n",
              "    <tr>\n",
              "      <th>50%</th>\n",
              "      <td>1.000000e+00</td>\n",
              "      <td>2.418120e+05</td>\n",
              "      <td>3.000000e+00</td>\n",
              "      <td>5.000000e+00</td>\n",
              "      <td>2.700000e+01</td>\n",
              "      <td>7.000000e+00</td>\n",
              "      <td>1.600000e+01</td>\n",
              "      <td>7.000000e+00</td>\n",
              "      <td>2.013000e+03</td>\n",
              "      <td>1.500000e+01</td>\n",
              "      <td>9.000000e+00</td>\n",
              "      <td>2.017000e+03</td>\n",
              "    </tr>\n",
              "    <tr>\n",
              "      <th>75%</th>\n",
              "      <td>1.000000e+00</td>\n",
              "      <td>2.721600e+05</td>\n",
              "      <td>5.200000e+01</td>\n",
              "      <td>1.300000e+01</td>\n",
              "      <td>3.300000e+01</td>\n",
              "      <td>9.000000e+00</td>\n",
              "      <td>2.300000e+01</td>\n",
              "      <td>1.000000e+01</td>\n",
              "      <td>2.015000e+03</td>\n",
              "      <td>2.300000e+01</td>\n",
              "      <td>1.000000e+01</td>\n",
              "      <td>2.017000e+03</td>\n",
              "    </tr>\n",
              "    <tr>\n",
              "      <th>max</th>\n",
              "      <td>1.000000e+00</td>\n",
              "      <td>1.085171e+07</td>\n",
              "      <td>5.900000e+01</td>\n",
              "      <td>2.200000e+01</td>\n",
              "      <td>9.500000e+01</td>\n",
              "      <td>1.300000e+01</td>\n",
              "      <td>3.100000e+01</td>\n",
              "      <td>1.200000e+01</td>\n",
              "      <td>2.017000e+03</td>\n",
              "      <td>3.100000e+01</td>\n",
              "      <td>1.200000e+01</td>\n",
              "      <td>2.020000e+03</td>\n",
              "    </tr>\n",
              "  </tbody>\n",
              "</table>\n",
              "</div>"
            ],
            "text/plain": [
              "             target   song_length  ...  expiration_month  expiration_year\n",
              "count  7.377418e+06  7.377304e+06  ...      7.377418e+06     7.377418e+06\n",
              "mean   5.035171e-01  2.451210e+05  ...      8.341742e+00     2.017072e+03\n",
              "std    4.999877e-01  6.734471e+04  ...      2.511360e+00     3.982536e-01\n",
              "min    0.000000e+00  1.393000e+03  ...      1.000000e+00     1.970000e+03\n",
              "25%    0.000000e+00  2.147260e+05  ...      9.000000e+00     2.017000e+03\n",
              "50%    1.000000e+00  2.418120e+05  ...      9.000000e+00     2.017000e+03\n",
              "75%    1.000000e+00  2.721600e+05  ...      1.000000e+01     2.017000e+03\n",
              "max    1.000000e+00  1.085171e+07  ...      1.200000e+01     2.020000e+03\n",
              "\n",
              "[8 rows x 12 columns]"
            ]
          },
          "metadata": {
            "tags": []
          },
          "execution_count": 67
        }
      ]
    },
    {
      "cell_type": "code",
      "metadata": {
        "colab": {
          "base_uri": "https://localhost:8080/",
          "height": 375
        },
        "id": "t0nkjXEdQoQO",
        "outputId": "89d182f0-6f94-4027-c710-0c56b8c62167"
      },
      "source": [
        "#dataframe.corr() is used to find the pairwise correlation of all columns in the dataframe. \n",
        "#Any na values are automatically excluded. For any non-numeric data type columns in the data frame it is ignored.\n",
        "corr_matrix = member_music_df.corr()\n",
        "_ = sns.heatmap(corr_matrix)\n"
      ],
      "execution_count": null,
      "outputs": [
        {
          "output_type": "display_data",
          "data": {
            "image/png": "[encoded data removed]",
            "text/plain": [
              "<Figure size 432x288 with 2 Axes>"
            ]
          },
          "metadata": {
            "tags": [],
            "needs_background": "light"
          }
        }
      ]
    },
    {
      "cell_type": "markdown",
      "metadata": {
        "id": "1Vir17x26U75"
      },
      "source": [
        "**Analysis:** From the correlation matrix above, it is hard for us to see which attributes are most related to target as the correlation values of target are very similar.In this case, we choose to use all features to train models later\n",
        "\n",
        "It seems like registration_init_year is negatively correlative to bd/age, city, registered_via. Song_length is also negatively correlative to language.\n"
      ]
    },
    {
      "cell_type": "code",
      "metadata": {
        "colab": {
          "base_uri": "https://localhost:8080/"
        },
        "id": "lQx-VszKQoW1",
        "outputId": "34331bba-8330-4a56-aa4c-327f894f1ccd"
      },
      "source": [
        "#print the top threee attributes that have the strongest correlation with \"Target\" and the corresponding correlation coefficients.\n",
        "corr = corr_matrix['target'].sort_values(ascending= False)\n",
        "for x in corr.index[1:4].to_list():\n",
        "    print(\"{} {}\".format(x, corr[x]))\n",
        "print(\"\")\n",
        "#print the top threee attributes that have the strongest correlation with \"song_length\" and the corresponding correlation coefficients.\n",
        "corr = corr_matrix['song_length'].sort_values(ascending= False)\n",
        "for x in corr.index[1:4].to_list():\n",
        "    print(\"{} {}\".format(x, corr[x]))\n",
        "print(\"\")\n",
        "#print the top threee attributes that have the strongest correlation with \"language\" and the corresponding correlation coefficients.\n",
        "corr = corr_matrix['language'].sort_values(ascending= False)\n",
        "for x in corr.index[1:4].to_list():\n",
        "    print(\"{} {}\".format(x, corr[x]))\n",
        "print(\"\")\n",
        "#print the top threee attributes that have the strongest correlation with \"city\" and the corresponding correlation coefficients.\n",
        "corr = corr_matrix['city'].sort_values(ascending= False)\n",
        "for x in corr.index[1:4].to_list():\n",
        "    print(\"{} {}\".format(x, corr[x]))\n",
        "print(\"\")\n",
        "#print the top threee attributes that have the strongest correlation with \"bd\" and the corresponding correlation coefficients.\n",
        "corr = corr_matrix['bd'].sort_values(ascending= False)\n",
        "for x in corr.index[1:4].to_list():\n",
        "    print(\"{} {}\".format(x, corr[x]))\n",
        "print(\"\")\n",
        "#print the top threee attributes that have the strongest correlation with \"registered_via\" and the corresponding correlation coefficients.\n",
        "corr = corr_matrix['registered_via'].sort_values(ascending= False)\n",
        "for x in corr.index[1:4].to_list():\n",
        "    print(\"{} {}\".format(x, corr[x]))\n",
        "print(\"\")\n",
        "corr = corr_matrix['registration_init_day'].sort_values(ascending= False)\n",
        "for x in corr.index[1:4].to_list():\n",
        "    print(\"{} {}\".format(x, corr[x]))\n",
        "print(\"\")\n",
        "corr = corr_matrix['registration_init_month'].sort_values(ascending= False)\n",
        "for x in corr.index[1:4].to_list():\n",
        "    print(\"{} {}\".format(x, corr[x]))\n",
        "print(\"\")\n",
        "corr = corr_matrix['registration_init_year'].sort_values(ascending= False)\n",
        "for x in corr.index[1:4].to_list():\n",
        "    print(\"{} {}\".format(x, corr[x]))\n",
        "print(\"\")\n",
        "corr = corr_matrix['expiration_day'].sort_values(ascending= False)\n",
        "for x in corr.index[1:4].to_list():\n",
        "    print(\"{} {}\".format(x, corr[x]))\n",
        "print(\"\")\n",
        "corr = corr_matrix['expiration_month'].sort_values(ascending= False)\n",
        "for x in corr.index[1:4].to_list():\n",
        "    print(\"{} {}\".format(x, corr[x]))\n",
        "print(\"\")\n",
        "corr = corr_matrix['expiration_year'].sort_values(ascending= False)\n",
        "for x in corr.index[1:4].to_list():\n",
        "    print(\"{} {}\".format(x, corr[x]))\n",
        "print(\"\")\n",
        "\n"
      ],
      "execution_count": null,
      "outputs": [
        {
          "output_type": "stream",
          "text": [
            "expiration_year 0.042248332355979766\n",
            "city 0.01211438566189457\n",
            "expiration_month 0.011817072086387569\n",
            "\n",
            "bd 0.009861302779254176\n",
            "city 0.005184912771179072\n",
            "expiration_year 0.00457185870016758\n",
            "\n",
            "registration_init_year 0.009070490482763404\n",
            "registration_init_day 0.001510510575428178\n",
            "bd 0.001107978394135987\n",
            "\n",
            "expiration_year 0.15014690465127595\n",
            "registered_via 0.0737556175747622\n",
            "target 0.01211438566189457\n",
            "\n",
            "registered_via 0.1753390015877422\n",
            "expiration_day 0.056335854806629254\n",
            "expiration_month 0.032935904360496926\n",
            "\n",
            "bd 0.1753390015877422\n",
            "expiration_year 0.08413460079453493\n",
            "city 0.0737556175747622\n",
            "\n",
            "expiration_day 0.1493505099924221\n",
            "registration_init_month 0.04443692475737983\n",
            "registered_via 0.02554331305533987\n",
            "\n",
            "expiration_month 0.056911114419175665\n",
            "registration_init_day 0.04443692475737983\n",
            "bd 0.005399463812914416\n",
            "\n",
            "language 0.009070490482763404\n",
            "target -0.00196242388069252\n",
            "song_length -0.007434856516605977\n",
            "\n",
            "registration_init_day 0.1493505099924221\n",
            "registered_via 0.05695618668075027\n",
            "bd 0.056335854806629254\n",
            "\n",
            "registered_via 0.0647318000666518\n",
            "registration_init_month 0.056911114419175665\n",
            "bd 0.032935904360496926\n",
            "\n",
            "city 0.15014690465127595\n",
            "registered_via 0.08413460079453493\n",
            "target 0.042248332355979766\n",
            "\n"
          ],
          "name": "stdout"
        }
      ]
    },
    {
      "cell_type": "markdown",
      "metadata": {
        "id": "7-RDHub7oQya"
      },
      "source": [
        "## Use Bivariate Plot to visualize correlation between pair of attributes"
      ]
    },
    {
      "cell_type": "markdown",
      "metadata": {
        "id": "b9CSLCvrrsuQ"
      },
      "source": [
        "Visualize Relationship between bd/age and city"
      ]
    },
    {
      "cell_type": "code",
      "metadata": {
        "colab": {
          "base_uri": "https://localhost:8080/",
          "height": 497
        },
        "id": "Hh1rnzLAQoEB",
        "outputId": "1575b5b4-95f2-4c7d-d6da-7ab19a1cbc03"
      },
      "source": [
        "#graph\n",
        "fig, ax = plt.subplots(1,1,figsize=(10,8), sharex=False)\n",
        "plt.scatter(x = member_music_df['city'],y = member_music_df['bd'])\n",
        "ax.set_ylabel(\"bd\")\n",
        "ax.set_xlabel(\"city\")\n",
        "plt.show()\n",
        "\n"
      ],
      "execution_count": null,
      "outputs": [
        {
          "output_type": "display_data",
          "data": {
            "image/png": "[encoded data removed]",
            "text/plain": [
              "<Figure size 720x576 with 1 Axes>"
            ]
          },
          "metadata": {
            "tags": [],
            "needs_background": "light"
          }
        }
      ]
    },
    {
      "cell_type": "markdown",
      "metadata": {
        "id": "MahXCrOvr0o1"
      },
      "source": [
        "Visualize Relationship between target and expiration year using bivariate plot to see if expiration date matters\n"
      ]
    },
    {
      "cell_type": "code",
      "metadata": {
        "colab": {
          "base_uri": "https://localhost:8080/",
          "height": 497
        },
        "id": "QweEKVCpRA_6",
        "outputId": "f7816109-7ac6-47c4-a127-1c7124417dcf"
      },
      "source": [
        "#graph\n",
        "fig, ax = plt.subplots(1,1,figsize=(10,8), sharex=False)\n",
        "plt.scatter(x = member_music_df['target'],y = member_music_df['expiration_year'])\n",
        "ax.set_ylabel(\"expiration_year\")\n",
        "ax.set_xlabel(\"target\")\n",
        "plt.show()"
      ],
      "execution_count": null,
      "outputs": [
        {
          "output_type": "display_data",
          "data": {
            "image/png": "[encoded data removed]",
            "text/plain": [
              "<Figure size 720x576 with 1 Axes>"
            ]
          },
          "metadata": {
            "tags": [],
            "needs_background": "light"
          }
        }
      ]
    },
    {
      "cell_type": "markdown",
      "metadata": {
        "id": "eClZotNVwVBP"
      },
      "source": [
        "**Analysis:** it seems like there is no correlation between expiration year and target."
      ]
    },
    {
      "cell_type": "code",
      "metadata": {
        "colab": {
          "base_uri": "https://localhost:8080/"
        },
        "id": "yYt2lXCURiR3",
        "outputId": "04edf324-972f-42ff-a32b-e90c96694819"
      },
      "source": [
        "#user的musiclist里面可能重听的music \n",
        "print(train_df.target.value_counts()*100/train_df.target.value_counts().sum())\n",
        "print('unique songs ',len(train_df.song_id.unique()))\n",
        "#unique() = Return unique values of Series object.\n",
        "#len() to find unqiue sound."
      ],
      "execution_count": null,
      "outputs": [
        {
          "output_type": "stream",
          "text": [
            "1    50.351708\n",
            "0    49.648292\n",
            "Name: target, dtype: float64\n",
            "unique songs  359966\n"
          ],
          "name": "stdout"
        }
      ]
    },
    {
      "cell_type": "markdown",
      "metadata": {
        "id": "GpdcGQVK555X"
      },
      "source": [
        "Count of top 50 songs which users repeat listening to "
      ]
    },
    {
      "cell_type": "code",
      "metadata": {
        "colab": {
          "base_uri": "https://localhost:8080/"
        },
        "id": "O1qRiA32RiO_",
        "outputId": "d0aae1e8-5610-467e-9f42-e18bb7950b32"
      },
      "source": [
        "repeats=train_df[train_df.target==1]\n",
        "song_repeats=repeats.groupby('song_id',as_index=False).msno.count()\n",
        "song_repeats.columns=['song_id','count']\n",
        "##merge together 2 dataframe and create a new dataframe\n",
        "song_repeats=pd.DataFrame(song_repeats).merge(song_df,left_on='song_id',right_on='song_id')\n",
        "print(\"Print top 50 songs repeated\")\n",
        "repeats.song_id.value_counts().head(50)"
      ],
      "execution_count": null,
      "outputs": [
        {
          "output_type": "stream",
          "text": [
            "Print top 50 songs repeated\n"
          ],
          "name": "stdout"
        },
        {
          "output_type": "execute_result",
          "data": {
            "text/plain": [
              "reXuGcEWDDCnL0K3Th//3DFG4S1ACSpJMzA+CFipo1g=    10885\n",
              "T86YHdD4C9JSc274b1IlMkLuNdz4BQRB50fWWE7hx9g=    10556\n",
              "FynUyq0+drmIARmK1JZ/qcjNZ7DKkqTY6/0O0lTzNUI=     9808\n",
              "wBTWuHbjdjxnG1lQcbqnK4FddV24rUhuyrYLd9c/hmk=     9411\n",
              "PgRtmmESVNtWjoZHO5a1r21vIz9sVZmcJJpFCbRa1LI=     9004\n",
              "U9kojfZSKaiWOW94PKh1Riyv/zUWxmBRmv0XInQWLGw=     8787\n",
              "YN4T/yvvXtYrBVN8KTnieiQohHL3T9fnzUkbLWcgLro=     8780\n",
              "M9rAajz4dYuRhZ7jLvf9RRayVA3os61X/XXHEuW4giA=     8403\n",
              "43Qm2YzsP99P5wm37B1JIhezUcQ/1CDjYlQx6rBbz2U=     8112\n",
              "J4qKkLIoW7aYACuTupHLAPZYmRp08en1AEux+GSUzdw=     7903\n",
              "cy10N2j2sdY/X4BDUcMu2Iumfz7pV3tqE5iEaup2yGI=     7725\n",
              "750RprmFfLV0bymtDH88g24pLZGVi5VpBAI300P6UOA=     7608\n",
              "IKMFuL0f5Y8c63Hg9BXkeNJjE0z8yf3gMt/tOxF4QNE=     7224\n",
              "+SstqMwhQPBQFTPBhLKPT642IiBDXzZFwlzsLl4cGXo=     7061\n",
              "DLBDZhOoW7zd7GBV99bi92ZXYUS26lzV+jJKbHshP5c=     6901\n",
              "v/3onppBGoSpGsWb8iaCIO8eX5+iacbH5a4ZUhT7N54=     6879\n",
              "p/yR06j/RQ2J6yGCFL0K+1R06OeG+eXcwxRgOHDo/Tk=     6536\n",
              "Xpjwi8UAE2Vv9PZ6cZnhc58MCtl3cKZEO1sdAkqJ4mo=     6399\n",
              "OaEbZ6TJ1NePtNUeEgWsvFLeopkSln9WQu8PBR5B3+A=     6187\n",
              "BITuBuNyXQydJcjDL2BUnCu4/IXaJg5IPOuycc/4dtY=     6160\n",
              "BgqjNqzsyCpEGvxyUmktvHC8WO5+FQO/pQTaZ4broMU=     6140\n",
              "3VkD5ekIf5duJm1hmYTZlXjyl0zqV8wCzuAh3uocfCg=     6012\n",
              "8Ckw1wek5d6oEsNUoM4P5iag86TaEmyLwdtrckL0Re8=     6003\n",
              "n+pMhj/jpCnpiUcSDl4k3i9FJODDddEXmpE48/HczTI=     5787\n",
              "WL4ipO3Mx9pxd4FMs69ha6o9541+fLeOow67Qkrfnro=     5784\n",
              "/70HjygVDhHsKBoV8mmsBg/WduSgs4+Zg6GfzhUQbdk=     5588\n",
              "L6w2d0w84FjTvFr+BhMfgu7dZAsGiOqUGmvvxIG3gvQ=     5480\n",
              "fEAIgFRWmhXmo6m3ukQeqRksZCcO/7CjkqNckRHiVQo=     5460\n",
              "+Sm75wnBf/sjm/QMUAFx8N+Ae04kWCXGlgH50tTeM6c=     5412\n",
              "VkDBgh89umc9m6uAEfD6LXngetyGhln4vh/ArCGO0nY=     5361\n",
              "fCCmIa0Y5m+MCGbQga31MOLTIqi7ddgXvkjFPmfslGw=     5305\n",
              "+LztcJcPEEwsikk6+K5udm06XJQMzR4+lzavKLUyE0k=     5298\n",
              "o9HWMBZMeIPnYEpSuscGoORKE44sj3BYOdvGuIi0P68=     5233\n",
              "QZBm8SOwnEjNfCpgsKBBGPMGET6y6XaQgnJiirspW7I=     5224\n",
              "ClazTFnk6r0Bnuie44bocdNMM3rdlrq0bCGAsGUWcHE=     5202\n",
              "wp1gSQ4LlMEF6bzvEaJl8VdHlAj/EJMTJ0ASrXeddbo=     5110\n",
              "THqGcrzQyUhBn1NI/+Iptc1vKtxBIEg0uA8iaoJnO1Q=     5086\n",
              "ys+EL8Sok4HC4i7sDY0+slDNGVZ8+uOQi6TQ6g8VSF4=     5012\n",
              "zHqZ07gn+YvF36FWzv9+y8KiCMhYhdAUS+vSIKY3UZY=     5001\n",
              "8f/T4ohROj1wa25YHMItOW2/wJhRXZM0+T5/2p86COc=     4982\n",
              "G/4+VCRLpfjQJ4SAwMDcf+W8PTw0eOBRgFvg4fHUOO8=     4956\n",
              "KZ5hwP74wRO6kRapVIprwodtNdVD2EVD3hkZmmyXFPk=     4888\n",
              "MtFK4NN8Kv1k/xPA3wb8SQaP/jWee52FAaC1s9NFsU4=     4813\n",
              "UQeOwfhcqgEcIwp3cgNiLGW1237Qjpvqzt/asQimVp0=     4778\n",
              "JA6C0GEK1sSCVbHyqtruH/ARD1NKolYrw7HXy6EVNAc=     4766\n",
              "8qWeDv6RTv+hYJxW94e7n6HBzHPGPEZW9FuGhj6pPhQ=     4761\n",
              "35dx60z4m4+Lg+qIS0l2A8vspbthqnpTylWUu51jW+4=     4679\n",
              "r4lUPUkz3tAgIWaEyrSYVCxX1yz8PnlVuQz+To0Pd+c=     4650\n",
              "1PR/lVwL4VeYcZjexwBJ2NOSTfgh8JoVxWCunnbJO/8=     4592\n",
              "7EnDBkQYJpipCyRd9JBsug4iKnfAunUXc14/96cNotg=     4571\n",
              "Name: song_id, dtype: int64"
            ]
          },
          "metadata": {
            "tags": []
          },
          "execution_count": 76
        }
      ]
    },
    {
      "cell_type": "markdown",
      "metadata": {
        "id": "msPJc2bC2xXO"
      },
      "source": [
        ""
      ]
    },
    {
      "cell_type": "markdown",
      "metadata": {
        "id": "npdAtVAo2xXO"
      },
      "source": [
        "# 2. Data Preprocessing\n"
      ]
    },
    {
      "cell_type": "markdown",
      "metadata": {
        "id": "AsqJqlURjhbH"
      },
      "source": [
        "Note: This section is to show how to preprocess data. We can also directly start from Step 3 for data extract, transformation and load using integrated transformation function and skip this step if necessary"
      ]
    },
    {
      "cell_type": "markdown",
      "metadata": {
        "id": "KcGaG_GY2xXO"
      },
      "source": [
        "## 2.1 Filling missing values"
      ]
    },
    {
      "cell_type": "markdown",
      "metadata": {
        "id": "RbGSn60VwxgU"
      },
      "source": [
        "### List of features that contain missing values"
      ]
    },
    {
      "cell_type": "code",
      "metadata": {
        "trusted": true,
        "id": "NxkQi9BC2xXO",
        "colab": {
          "base_uri": "https://localhost:8080/"
        },
        "outputId": "ee17ee3d-8e3f-486e-ceb2-e0f30e82f488"
      },
      "source": [
        "missing_value_cols = [c for c in member_music_df.columns if member_music_df[c].isnull().any()]\n",
        "missing_value_cols"
      ],
      "execution_count": null,
      "outputs": [
        {
          "output_type": "execute_result",
          "data": {
            "text/plain": [
              "['source_system_tab',\n",
              " 'source_screen_name',\n",
              " 'source_type',\n",
              " 'song_length',\n",
              " 'genre_ids',\n",
              " 'artist_name',\n",
              " 'composer',\n",
              " 'lyricist',\n",
              " 'language',\n",
              " 'bd',\n",
              " 'gender']"
            ]
          },
          "metadata": {
            "tags": []
          },
          "execution_count": 77
        }
      ]
    },
    {
      "cell_type": "code",
      "metadata": {
        "trusted": true,
        "id": "aohGZyxm2xXO",
        "colab": {
          "base_uri": "https://localhost:8080/"
        },
        "outputId": "7cd300d6-5bef-4f1e-8ecc-0bf3a0a3c53c"
      },
      "source": [
        "member_music_df.count()"
      ],
      "execution_count": null,
      "outputs": [
        {
          "output_type": "execute_result",
          "data": {
            "text/plain": [
              "msno                       7377418\n",
              "song_id                    7377418\n",
              "source_system_tab          7352569\n",
              "source_screen_name         6962614\n",
              "source_type                7355879\n",
              "target                     7377418\n",
              "song_length                7377304\n",
              "genre_ids                  7258963\n",
              "artist_name                7377304\n",
              "composer                   5701712\n",
              "lyricist                   4198620\n",
              "language                   7377268\n",
              "city                       7377418\n",
              "bd                         4430216\n",
              "gender                     4415939\n",
              "registered_via             7377418\n",
              "registration_init_day      7377418\n",
              "registration_init_month    7377418\n",
              "registration_init_year     7377418\n",
              "expiration_day             7377418\n",
              "expiration_month           7377418\n",
              "expiration_year            7377418\n",
              "dtype: int64"
            ]
          },
          "metadata": {
            "tags": []
          },
          "execution_count": 78
        }
      ]
    },
    {
      "cell_type": "code",
      "metadata": {
        "trusted": true,
        "id": "It0nv15A2xXO"
      },
      "source": [
        "# list of columns with missing values\n",
        "# ['source_system_tab',\n",
        "#  'source_screen_name',\n",
        "#  'source_type',\n",
        "#  'song_length',\n",
        "#  'genre_ids',\n",
        "#  'artist_name',\n",
        "#  'composer',\n",
        "#  'lyricist',\n",
        "#  'language',\n",
        "#  'bd',\n",
        "#  'gender']\n",
        "\n",
        "def fill_missing_value_v1(x):\n",
        "    # fill missing values with the most frequent values\n",
        "    return x.fillna(x.value_counts().sort_values(ascending=False).index[0])\n",
        "    \n",
        "    \n",
        "\n",
        "categorical_ls = ['source_system_tab', 'source_screen_name','source_type','genre_ids','artist_name','composer',\n",
        " 'lyricist','gender']\n",
        "\n",
        "\n",
        "numerical_ls = ['song_length','language','bd']\n",
        "# Fill missing values \n",
        "for index in numerical_ls:\n",
        "    member_music_df[index].fillna(member_music_df[index].median(), inplace=True)\n",
        "for index in categorical_ls:\n",
        "    member_music_df[index].fillna(\"no_data\", inplace=True)\n"
      ],
      "execution_count": null,
      "outputs": []
    },
    {
      "cell_type": "markdown",
      "metadata": {
        "id": "efgXdr6Hw8gY"
      },
      "source": [
        "### Count of features after filling missing values"
      ]
    },
    {
      "cell_type": "code",
      "metadata": {
        "trusted": true,
        "id": "Lbw58wOu2xXO",
        "colab": {
          "base_uri": "https://localhost:8080/"
        },
        "outputId": "04e4b673-b25d-4ba9-ea0c-f03885ec3362"
      },
      "source": [
        "member_music_df.count()"
      ],
      "execution_count": null,
      "outputs": [
        {
          "output_type": "execute_result",
          "data": {
            "text/plain": [
              "msno                       7377418\n",
              "song_id                    7377418\n",
              "source_system_tab          7377418\n",
              "source_screen_name         7377418\n",
              "source_type                7377418\n",
              "target                     7377418\n",
              "song_length                7377418\n",
              "genre_ids                  7377418\n",
              "artist_name                7377418\n",
              "composer                   7377418\n",
              "lyricist                   7377418\n",
              "language                   7377418\n",
              "city                       7377418\n",
              "bd                         7377418\n",
              "gender                     7377418\n",
              "registered_via             7377418\n",
              "registration_init_day      7377418\n",
              "registration_init_month    7377418\n",
              "registration_init_year     7377418\n",
              "expiration_day             7377418\n",
              "expiration_month           7377418\n",
              "expiration_year            7377418\n",
              "dtype: int64"
            ]
          },
          "metadata": {
            "tags": []
          },
          "execution_count": 80
        }
      ]
    },
    {
      "cell_type": "code",
      "metadata": {
        "trusted": true,
        "id": "GaxhdaYD2xXO",
        "colab": {
          "base_uri": "https://localhost:8080/",
          "height": 404
        },
        "outputId": "17dbd2fd-2715-4c38-9d9f-46db7c137a4c"
      },
      "source": [
        "\n",
        "member_music_df[numerical_ls].head(100)"
      ],
      "execution_count": null,
      "outputs": [
        {
          "output_type": "execute_result",
          "data": {
            "text/html": [
              "<div>\n",
              "<style scoped>\n",
              "    .dataframe tbody tr th:only-of-type {\n",
              "        vertical-align: middle;\n",
              "    }\n",
              "\n",
              "    .dataframe tbody tr th {\n",
              "        vertical-align: top;\n",
              "    }\n",
              "\n",
              "    .dataframe thead th {\n",
              "        text-align: right;\n",
              "    }\n",
              "</style>\n",
              "<table border=\"1\" class=\"dataframe\">\n",
              "  <thead>\n",
              "    <tr style=\"text-align: right;\">\n",
              "      <th></th>\n",
              "      <th>song_length</th>\n",
              "      <th>language</th>\n",
              "      <th>bd</th>\n",
              "    </tr>\n",
              "  </thead>\n",
              "  <tbody>\n",
              "    <tr>\n",
              "      <th>0</th>\n",
              "      <td>206471.0</td>\n",
              "      <td>52.0</td>\n",
              "      <td>27.0</td>\n",
              "    </tr>\n",
              "    <tr>\n",
              "      <th>1</th>\n",
              "      <td>284584.0</td>\n",
              "      <td>52.0</td>\n",
              "      <td>24.0</td>\n",
              "    </tr>\n",
              "    <tr>\n",
              "      <th>2</th>\n",
              "      <td>225396.0</td>\n",
              "      <td>52.0</td>\n",
              "      <td>24.0</td>\n",
              "    </tr>\n",
              "    <tr>\n",
              "      <th>3</th>\n",
              "      <td>255512.0</td>\n",
              "      <td>-1.0</td>\n",
              "      <td>24.0</td>\n",
              "    </tr>\n",
              "    <tr>\n",
              "      <th>4</th>\n",
              "      <td>187802.0</td>\n",
              "      <td>52.0</td>\n",
              "      <td>27.0</td>\n",
              "    </tr>\n",
              "    <tr>\n",
              "      <th>...</th>\n",
              "      <td>...</td>\n",
              "      <td>...</td>\n",
              "      <td>...</td>\n",
              "    </tr>\n",
              "    <tr>\n",
              "      <th>95</th>\n",
              "      <td>333024.0</td>\n",
              "      <td>3.0</td>\n",
              "      <td>27.0</td>\n",
              "    </tr>\n",
              "    <tr>\n",
              "      <th>96</th>\n",
              "      <td>288391.0</td>\n",
              "      <td>3.0</td>\n",
              "      <td>46.0</td>\n",
              "    </tr>\n",
              "    <tr>\n",
              "      <th>97</th>\n",
              "      <td>279196.0</td>\n",
              "      <td>3.0</td>\n",
              "      <td>46.0</td>\n",
              "    </tr>\n",
              "    <tr>\n",
              "      <th>98</th>\n",
              "      <td>240744.0</td>\n",
              "      <td>3.0</td>\n",
              "      <td>46.0</td>\n",
              "    </tr>\n",
              "    <tr>\n",
              "      <th>99</th>\n",
              "      <td>221622.0</td>\n",
              "      <td>3.0</td>\n",
              "      <td>46.0</td>\n",
              "    </tr>\n",
              "  </tbody>\n",
              "</table>\n",
              "<p>100 rows × 3 columns</p>\n",
              "</div>"
            ],
            "text/plain": [
              "    song_length  language    bd\n",
              "0      206471.0      52.0  27.0\n",
              "1      284584.0      52.0  24.0\n",
              "2      225396.0      52.0  24.0\n",
              "3      255512.0      -1.0  24.0\n",
              "4      187802.0      52.0  27.0\n",
              "..          ...       ...   ...\n",
              "95     333024.0       3.0  27.0\n",
              "96     288391.0       3.0  46.0\n",
              "97     279196.0       3.0  46.0\n",
              "98     240744.0       3.0  46.0\n",
              "99     221622.0       3.0  46.0\n",
              "\n",
              "[100 rows x 3 columns]"
            ]
          },
          "metadata": {
            "tags": []
          },
          "execution_count": 81
        }
      ]
    },
    {
      "cell_type": "code",
      "metadata": {
        "trusted": true,
        "id": "dqOsCJsy2xXO",
        "colab": {
          "base_uri": "https://localhost:8080/",
          "height": 404
        },
        "outputId": "01825195-208e-499a-fa2f-2c75450c0f2d"
      },
      "source": [
        "\n",
        "member_music_df[categorical_ls].head(100)"
      ],
      "execution_count": null,
      "outputs": [
        {
          "output_type": "execute_result",
          "data": {
            "text/html": [
              "<div>\n",
              "<style scoped>\n",
              "    .dataframe tbody tr th:only-of-type {\n",
              "        vertical-align: middle;\n",
              "    }\n",
              "\n",
              "    .dataframe tbody tr th {\n",
              "        vertical-align: top;\n",
              "    }\n",
              "\n",
              "    .dataframe thead th {\n",
              "        text-align: right;\n",
              "    }\n",
              "</style>\n",
              "<table border=\"1\" class=\"dataframe\">\n",
              "  <thead>\n",
              "    <tr style=\"text-align: right;\">\n",
              "      <th></th>\n",
              "      <th>source_system_tab</th>\n",
              "      <th>source_screen_name</th>\n",
              "      <th>source_type</th>\n",
              "      <th>genre_ids</th>\n",
              "      <th>artist_name</th>\n",
              "      <th>composer</th>\n",
              "      <th>lyricist</th>\n",
              "      <th>gender</th>\n",
              "    </tr>\n",
              "  </thead>\n",
              "  <tbody>\n",
              "    <tr>\n",
              "      <th>0</th>\n",
              "      <td>explore</td>\n",
              "      <td>Explore</td>\n",
              "      <td>online-playlist</td>\n",
              "      <td>359</td>\n",
              "      <td>Bastille</td>\n",
              "      <td>Dan Smith| Mark Crew</td>\n",
              "      <td>no_data</td>\n",
              "      <td>no_data</td>\n",
              "    </tr>\n",
              "    <tr>\n",
              "      <th>1</th>\n",
              "      <td>my library</td>\n",
              "      <td>Local playlist more</td>\n",
              "      <td>local-playlist</td>\n",
              "      <td>1259</td>\n",
              "      <td>Various Artists</td>\n",
              "      <td>no_data</td>\n",
              "      <td>no_data</td>\n",
              "      <td>female</td>\n",
              "    </tr>\n",
              "    <tr>\n",
              "      <th>2</th>\n",
              "      <td>my library</td>\n",
              "      <td>Local playlist more</td>\n",
              "      <td>local-playlist</td>\n",
              "      <td>1259</td>\n",
              "      <td>Nas</td>\n",
              "      <td>N. Jones、W. Adams、J. Lordan、D. Ingle</td>\n",
              "      <td>no_data</td>\n",
              "      <td>female</td>\n",
              "    </tr>\n",
              "    <tr>\n",
              "      <th>3</th>\n",
              "      <td>my library</td>\n",
              "      <td>Local playlist more</td>\n",
              "      <td>local-playlist</td>\n",
              "      <td>1019</td>\n",
              "      <td>Soundway</td>\n",
              "      <td>Kwadwo Donkoh</td>\n",
              "      <td>no_data</td>\n",
              "      <td>female</td>\n",
              "    </tr>\n",
              "    <tr>\n",
              "      <th>4</th>\n",
              "      <td>explore</td>\n",
              "      <td>Explore</td>\n",
              "      <td>online-playlist</td>\n",
              "      <td>1011</td>\n",
              "      <td>Brett Young</td>\n",
              "      <td>Brett Young| Kelly Archer| Justin Ebach</td>\n",
              "      <td>no_data</td>\n",
              "      <td>no_data</td>\n",
              "    </tr>\n",
              "    <tr>\n",
              "      <th>...</th>\n",
              "      <td>...</td>\n",
              "      <td>...</td>\n",
              "      <td>...</td>\n",
              "      <td>...</td>\n",
              "      <td>...</td>\n",
              "      <td>...</td>\n",
              "      <td>...</td>\n",
              "      <td>...</td>\n",
              "    </tr>\n",
              "    <tr>\n",
              "      <th>95</th>\n",
              "      <td>my library</td>\n",
              "      <td>no_data</td>\n",
              "      <td>local-library</td>\n",
              "      <td>458</td>\n",
              "      <td>楊乃文 (Naiwen Yang)</td>\n",
              "      <td>黃建為</td>\n",
              "      <td>葛大為</td>\n",
              "      <td>male</td>\n",
              "    </tr>\n",
              "    <tr>\n",
              "      <th>96</th>\n",
              "      <td>my library</td>\n",
              "      <td>Local playlist more</td>\n",
              "      <td>local-library</td>\n",
              "      <td>458</td>\n",
              "      <td>陳奕迅 (Eason Chan)</td>\n",
              "      <td>Jun Jie Lin</td>\n",
              "      <td>no_data</td>\n",
              "      <td>female</td>\n",
              "    </tr>\n",
              "    <tr>\n",
              "      <th>97</th>\n",
              "      <td>my library</td>\n",
              "      <td>Local playlist more</td>\n",
              "      <td>local-library</td>\n",
              "      <td>458</td>\n",
              "      <td>周杰倫 (Jay Chou)</td>\n",
              "      <td>周杰倫</td>\n",
              "      <td>方文山</td>\n",
              "      <td>female</td>\n",
              "    </tr>\n",
              "    <tr>\n",
              "      <th>98</th>\n",
              "      <td>my library</td>\n",
              "      <td>Local playlist more</td>\n",
              "      <td>local-library</td>\n",
              "      <td>465</td>\n",
              "      <td>范瑋琪 (Christine Fan)</td>\n",
              "      <td>非非</td>\n",
              "      <td>非非</td>\n",
              "      <td>female</td>\n",
              "    </tr>\n",
              "    <tr>\n",
              "      <th>99</th>\n",
              "      <td>my library</td>\n",
              "      <td>Local playlist more</td>\n",
              "      <td>local-library</td>\n",
              "      <td>465|1259</td>\n",
              "      <td>玖壹壹</td>\n",
              "      <td>陳皓宇</td>\n",
              "      <td>廖建至|洪瑜鴻</td>\n",
              "      <td>female</td>\n",
              "    </tr>\n",
              "  </tbody>\n",
              "</table>\n",
              "<p>100 rows × 8 columns</p>\n",
              "</div>"
            ],
            "text/plain": [
              "   source_system_tab   source_screen_name  ... lyricist   gender\n",
              "0            explore              Explore  ...  no_data  no_data\n",
              "1         my library  Local playlist more  ...  no_data   female\n",
              "2         my library  Local playlist more  ...  no_data   female\n",
              "3         my library  Local playlist more  ...  no_data   female\n",
              "4            explore              Explore  ...  no_data  no_data\n",
              "..               ...                  ...  ...      ...      ...\n",
              "95        my library              no_data  ...      葛大為     male\n",
              "96        my library  Local playlist more  ...  no_data   female\n",
              "97        my library  Local playlist more  ...      方文山   female\n",
              "98        my library  Local playlist more  ...       非非   female\n",
              "99        my library  Local playlist more  ...  廖建至|洪瑜鴻   female\n",
              "\n",
              "[100 rows x 8 columns]"
            ]
          },
          "metadata": {
            "tags": []
          },
          "execution_count": 82
        }
      ]
    },
    {
      "cell_type": "markdown",
      "metadata": {
        "id": "bE4_Yst_2xXO"
      },
      "source": [
        "## 2.2 Data Transformation\n",
        "We can see that the columns like genre_ids, composer, lyricist have multiple values in a cell. In this case, the count of genres, composers, lyricist could be useful information as well"
      ]
    },
    {
      "cell_type": "code",
      "metadata": {
        "trusted": true,
        "id": "1uxMnqIz2xXO",
        "colab": {
          "base_uri": "https://localhost:8080/"
        },
        "outputId": "d55bc837-bc32-461e-c34e-4fa606735a62"
      },
      "source": [
        "member_music_df.columns"
      ],
      "execution_count": null,
      "outputs": [
        {
          "output_type": "execute_result",
          "data": {
            "text/plain": [
              "Index(['msno', 'song_id', 'source_system_tab', 'source_screen_name',\n",
              "       'source_type', 'target', 'song_length', 'genre_ids', 'artist_name',\n",
              "       'composer', 'lyricist', 'language', 'city', 'bd', 'gender',\n",
              "       'registered_via', 'registration_init_day', 'registration_init_month',\n",
              "       'registration_init_year', 'expiration_day', 'expiration_month',\n",
              "       'expiration_year'],\n",
              "      dtype='object')"
            ]
          },
          "metadata": {
            "tags": []
          },
          "execution_count": 83
        }
      ]
    },
    {
      "cell_type": "code",
      "metadata": {
        "trusted": true,
        "id": "wM0w1zAd2xXO",
        "colab": {
          "base_uri": "https://localhost:8080/"
        },
        "outputId": "1fac4162-178d-41e2-fef7-bf1024dbc2c6"
      },
      "source": [
        "member_music_df.genre_ids.nunique(), member_music_df.composer.nunique(), member_music_df.lyricist.nunique()"
      ],
      "execution_count": null,
      "outputs": [
        {
          "output_type": "execute_result",
          "data": {
            "text/plain": [
              "(573, 76065, 33889)"
            ]
          },
          "metadata": {
            "tags": []
          },
          "execution_count": 84
        }
      ]
    },
    {
      "cell_type": "code",
      "metadata": {
        "trusted": true,
        "id": "rB0vGJ1G2xXO"
      },
      "source": [
        "\n",
        "def count_items(x):\n",
        "    if x ==\"no_data\":\n",
        "        return 0\n",
        "    return sum(map(x.count, ['|', '/', '\\\\', ';',','])) + 1\n",
        "\n",
        "member_music_df['genre_count']=  member_music_df['genre_ids'].apply(count_items)\n",
        "member_music_df['composer_count']=  member_music_df['composer'].apply(count_items)\n",
        "member_music_df['lyricist_count']=  member_music_df['lyricist'].apply(count_items)"
      ],
      "execution_count": null,
      "outputs": []
    },
    {
      "cell_type": "code",
      "metadata": {
        "trusted": true,
        "id": "ZFvj5DlV2xXO",
        "colab": {
          "base_uri": "https://localhost:8080/",
          "height": 484
        },
        "outputId": "e7f8b38b-d936-434a-aaed-a59089b1c2ab"
      },
      "source": [
        "member_music_df.head()"
      ],
      "execution_count": null,
      "outputs": [
        {
          "output_type": "execute_result",
          "data": {
            "text/html": [
              "<div>\n",
              "<style scoped>\n",
              "    .dataframe tbody tr th:only-of-type {\n",
              "        vertical-align: middle;\n",
              "    }\n",
              "\n",
              "    .dataframe tbody tr th {\n",
              "        vertical-align: top;\n",
              "    }\n",
              "\n",
              "    .dataframe thead th {\n",
              "        text-align: right;\n",
              "    }\n",
              "</style>\n",
              "<table border=\"1\" class=\"dataframe\">\n",
              "  <thead>\n",
              "    <tr style=\"text-align: right;\">\n",
              "      <th></th>\n",
              "      <th>msno</th>\n",
              "      <th>song_id</th>\n",
              "      <th>source_system_tab</th>\n",
              "      <th>source_screen_name</th>\n",
              "      <th>source_type</th>\n",
              "      <th>target</th>\n",
              "      <th>song_length</th>\n",
              "      <th>genre_ids</th>\n",
              "      <th>artist_name</th>\n",
              "      <th>composer</th>\n",
              "      <th>lyricist</th>\n",
              "      <th>language</th>\n",
              "      <th>city</th>\n",
              "      <th>bd</th>\n",
              "      <th>gender</th>\n",
              "      <th>registered_via</th>\n",
              "      <th>registration_init_day</th>\n",
              "      <th>registration_init_month</th>\n",
              "      <th>registration_init_year</th>\n",
              "      <th>expiration_day</th>\n",
              "      <th>expiration_month</th>\n",
              "      <th>expiration_year</th>\n",
              "      <th>genre_count</th>\n",
              "      <th>composer_count</th>\n",
              "      <th>lyricist_count</th>\n",
              "    </tr>\n",
              "  </thead>\n",
              "  <tbody>\n",
              "    <tr>\n",
              "      <th>0</th>\n",
              "      <td>FGtllVqz18RPiwJj/edr2gV78zirAiY/9SmYvia+kCg=</td>\n",
              "      <td>BBzumQNXUHKdEBOB7mAJuzok+IJA1c2Ryg/yzTF6tik=</td>\n",
              "      <td>explore</td>\n",
              "      <td>Explore</td>\n",
              "      <td>online-playlist</td>\n",
              "      <td>1</td>\n",
              "      <td>206471.0</td>\n",
              "      <td>359</td>\n",
              "      <td>Bastille</td>\n",
              "      <td>Dan Smith| Mark Crew</td>\n",
              "      <td>no_data</td>\n",
              "      <td>52.0</td>\n",
              "      <td>1</td>\n",
              "      <td>27.0</td>\n",
              "      <td>no_data</td>\n",
              "      <td>7</td>\n",
              "      <td>2</td>\n",
              "      <td>1</td>\n",
              "      <td>2012</td>\n",
              "      <td>5</td>\n",
              "      <td>10</td>\n",
              "      <td>2017</td>\n",
              "      <td>1</td>\n",
              "      <td>2</td>\n",
              "      <td>0</td>\n",
              "    </tr>\n",
              "    <tr>\n",
              "      <th>1</th>\n",
              "      <td>Xumu+NIjS6QYVxDS4/t3SawvJ7viT9hPKXmf0RtLNx8=</td>\n",
              "      <td>bhp/MpSNoqoxOIB+/l8WPqu6jldth4DIpCm3ayXnJqM=</td>\n",
              "      <td>my library</td>\n",
              "      <td>Local playlist more</td>\n",
              "      <td>local-playlist</td>\n",
              "      <td>1</td>\n",
              "      <td>284584.0</td>\n",
              "      <td>1259</td>\n",
              "      <td>Various Artists</td>\n",
              "      <td>no_data</td>\n",
              "      <td>no_data</td>\n",
              "      <td>52.0</td>\n",
              "      <td>13</td>\n",
              "      <td>24.0</td>\n",
              "      <td>female</td>\n",
              "      <td>9</td>\n",
              "      <td>25</td>\n",
              "      <td>5</td>\n",
              "      <td>2011</td>\n",
              "      <td>11</td>\n",
              "      <td>9</td>\n",
              "      <td>2017</td>\n",
              "      <td>1</td>\n",
              "      <td>0</td>\n",
              "      <td>0</td>\n",
              "    </tr>\n",
              "    <tr>\n",
              "      <th>2</th>\n",
              "      <td>Xumu+NIjS6QYVxDS4/t3SawvJ7viT9hPKXmf0RtLNx8=</td>\n",
              "      <td>JNWfrrC7zNN7BdMpsISKa4Mw+xVJYNnxXh3/Epw7QgY=</td>\n",
              "      <td>my library</td>\n",
              "      <td>Local playlist more</td>\n",
              "      <td>local-playlist</td>\n",
              "      <td>1</td>\n",
              "      <td>225396.0</td>\n",
              "      <td>1259</td>\n",
              "      <td>Nas</td>\n",
              "      <td>N. Jones、W. Adams、J. Lordan、D. Ingle</td>\n",
              "      <td>no_data</td>\n",
              "      <td>52.0</td>\n",
              "      <td>13</td>\n",
              "      <td>24.0</td>\n",
              "      <td>female</td>\n",
              "      <td>9</td>\n",
              "      <td>25</td>\n",
              "      <td>5</td>\n",
              "      <td>2011</td>\n",
              "      <td>11</td>\n",
              "      <td>9</td>\n",
              "      <td>2017</td>\n",
              "      <td>1</td>\n",
              "      <td>1</td>\n",
              "      <td>0</td>\n",
              "    </tr>\n",
              "    <tr>\n",
              "      <th>3</th>\n",
              "      <td>Xumu+NIjS6QYVxDS4/t3SawvJ7viT9hPKXmf0RtLNx8=</td>\n",
              "      <td>2A87tzfnJTSWqD7gIZHisolhe4DMdzkbd6LzO1KHjNs=</td>\n",
              "      <td>my library</td>\n",
              "      <td>Local playlist more</td>\n",
              "      <td>local-playlist</td>\n",
              "      <td>1</td>\n",
              "      <td>255512.0</td>\n",
              "      <td>1019</td>\n",
              "      <td>Soundway</td>\n",
              "      <td>Kwadwo Donkoh</td>\n",
              "      <td>no_data</td>\n",
              "      <td>-1.0</td>\n",
              "      <td>13</td>\n",
              "      <td>24.0</td>\n",
              "      <td>female</td>\n",
              "      <td>9</td>\n",
              "      <td>25</td>\n",
              "      <td>5</td>\n",
              "      <td>2011</td>\n",
              "      <td>11</td>\n",
              "      <td>9</td>\n",
              "      <td>2017</td>\n",
              "      <td>1</td>\n",
              "      <td>1</td>\n",
              "      <td>0</td>\n",
              "    </tr>\n",
              "    <tr>\n",
              "      <th>4</th>\n",
              "      <td>FGtllVqz18RPiwJj/edr2gV78zirAiY/9SmYvia+kCg=</td>\n",
              "      <td>3qm6XTZ6MOCU11x8FIVbAGH5l5uMkT3/ZalWG1oo2Gc=</td>\n",
              "      <td>explore</td>\n",
              "      <td>Explore</td>\n",
              "      <td>online-playlist</td>\n",
              "      <td>1</td>\n",
              "      <td>187802.0</td>\n",
              "      <td>1011</td>\n",
              "      <td>Brett Young</td>\n",
              "      <td>Brett Young| Kelly Archer| Justin Ebach</td>\n",
              "      <td>no_data</td>\n",
              "      <td>52.0</td>\n",
              "      <td>1</td>\n",
              "      <td>27.0</td>\n",
              "      <td>no_data</td>\n",
              "      <td>7</td>\n",
              "      <td>2</td>\n",
              "      <td>1</td>\n",
              "      <td>2012</td>\n",
              "      <td>5</td>\n",
              "      <td>10</td>\n",
              "      <td>2017</td>\n",
              "      <td>1</td>\n",
              "      <td>3</td>\n",
              "      <td>0</td>\n",
              "    </tr>\n",
              "  </tbody>\n",
              "</table>\n",
              "</div>"
            ],
            "text/plain": [
              "                                           msno  ... lyricist_count\n",
              "0  FGtllVqz18RPiwJj/edr2gV78zirAiY/9SmYvia+kCg=  ...              0\n",
              "1  Xumu+NIjS6QYVxDS4/t3SawvJ7viT9hPKXmf0RtLNx8=  ...              0\n",
              "2  Xumu+NIjS6QYVxDS4/t3SawvJ7viT9hPKXmf0RtLNx8=  ...              0\n",
              "3  Xumu+NIjS6QYVxDS4/t3SawvJ7viT9hPKXmf0RtLNx8=  ...              0\n",
              "4  FGtllVqz18RPiwJj/edr2gV78zirAiY/9SmYvia+kCg=  ...              0\n",
              "\n",
              "[5 rows x 25 columns]"
            ]
          },
          "metadata": {
            "tags": []
          },
          "execution_count": 86
        }
      ]
    },
    {
      "cell_type": "code",
      "metadata": {
        "trusted": true,
        "id": "bPLy1YJH2xXO"
      },
      "source": [
        "member_music_df.info()"
      ],
      "execution_count": null,
      "outputs": []
    },
    {
      "cell_type": "markdown",
      "metadata": {
        "id": "v2qeZ-T32xXO"
      },
      "source": [
        "# 3. Data Extract, Transform and Load (ETL)\n",
        "\n",
        "This step build a data pipeline to clean and transform data directly right before training model. We can skip Step 2 if we just want to transform data and tune models directly"
      ]
    },
    {
      "cell_type": "markdown",
      "metadata": {
        "id": "BjLJHqbg2xXO"
      },
      "source": [
        "## 3.1 Transformation Function for Data cleaning"
      ]
    },
    {
      "cell_type": "code",
      "metadata": {
        "id": "cF9c1DYaebHe"
      },
      "source": [
        "#import necessary packages here\n",
        "import warnings\n",
        "warnings.filterwarnings('ignore')\n",
        "import numpy as np \n",
        "import pandas as pd\n",
        "import matplotlib.pyplot as plt\n",
        "import seaborn as sns\n",
        "import lightgbm as lgb\n",
        "from subprocess import check_output\n",
        "# print(check_output([\"ls\", \"../input\"]).decode(\"utf8\"))\n",
        "\n",
        "np.random.seed(2020)"
      ],
      "execution_count": null,
      "outputs": []
    },
    {
      "cell_type": "code",
      "metadata": {
        "trusted": true,
        "id": "HSxBKwFR2xXP"
      },
      "source": [
        "def transform_data(data, song_df, members_df):\n",
        "    # Merge song data with data set\n",
        "    data = data.merge(song_df,on='song_id',how=\"left\", copy =False)\n",
        "    \n",
        "    # preprocess member data\n",
        "    members_df[\"registration_init_time\"] = pd.to_datetime(members_df[\"registration_init_time\"], format=\"%Y%m%d\")\n",
        "    members_df[\"expiration_date\"] = pd.to_datetime(members_df[\"expiration_date\"], format=\"%Y%m%d\")\n",
        "    members_df[\"registration_init_day\"] = members_df[\"registration_init_time\"].dt.day\n",
        "    members_df[\"registration_init_month\"] = members_df[\"registration_init_time\"].dt.month\n",
        "    members_df[\"registration_init_year\"] = members_df[\"registration_init_time\"].dt.year\n",
        "    members_df[\"expiration_day\"] = members_df[\"expiration_date\"].dt.day\n",
        "    members_df[\"expiration_month\"] = members_df[\"expiration_date\"].dt.month\n",
        "    members_df[\"expiration_year\"] = members_df[\"expiration_date\"].dt.year\n",
        "    members_df = members_df.drop(columns = [\"registration_init_time\", \"expiration_date\"],axis=1)    \n",
        "    \n",
        "    # merge member data with dataset\n",
        "    data = data.merge(members_df,on='msno',how=\"left\", copy=False)\n",
        "    \n",
        "    # Remove outliers of bd age \n",
        "    data['bd'].loc[(data['bd']<=0) | (data['bd']>=100)]= np.nan\n",
        "\n",
        "    categorical_ls = ['source_system_tab', 'source_screen_name','source_type','genre_ids','artist_name','composer',\n",
        "     'lyricist','gender']\n",
        "\n",
        "\n",
        "    numerical_ls = ['song_length','language','bd']\n",
        "    # Fill missing values \n",
        "    for index in numerical_ls:\n",
        "        data[index].fillna(data[index].median(), inplace=True)\n",
        "    for index in categorical_ls:\n",
        "        data[index].fillna(\"no_data\", inplace=True)\n",
        "        \n",
        "    \n",
        "    def count_items(x):\n",
        "        if x ==\"no_data\":\n",
        "            return 0\n",
        "        return sum(map(x.count, ['|', '/', '\\\\', ';',','])) + 1\n",
        "\n",
        "    data['genre_count']=  data['genre_ids'].apply(count_items)\n",
        "    data['composer_count']=  data['composer'].apply(count_items)\n",
        "    data['lyricist_count']=  data['lyricist'].apply(count_items)\n",
        "    \n",
        "    # Convert object type to categorical type\n",
        "    for c in data.columns:\n",
        "        if data[c].dtype=='O':\n",
        "            data[c] = data[c].astype(\"category\",copy=False)\n",
        "    if 'id' in data.columns:\n",
        "        ids = data['id']\n",
        "        data.drop(['id'], inplace=True,axis=1)\n",
        "    else:\n",
        "        ids =None\n",
        "    return ids, data"
      ],
      "execution_count": null,
      "outputs": []
    },
    {
      "cell_type": "code",
      "metadata": {
        "id": "gkT5nVIAaPpA"
      },
      "source": [
        "root = './kaggle/working/train/data/'\n",
        "train_df = pd.read_csv(root+ \"train.csv\")\n",
        "test_df = pd.read_csv(root+ \"test.csv\")\n",
        "song_df = pd.read_csv(root+ \"songs.csv\")\n",
        "# song_extra_df = pd.read_csv(root+ \"song_extra_info.csv\")\n",
        "members_df = pd.read_csv(root+ \"members.csv\")"
      ],
      "execution_count": null,
      "outputs": []
    },
    {
      "cell_type": "code",
      "metadata": {
        "trusted": true,
        "id": "qz3pqJIF2xXP"
      },
      "source": [
        "_, train_data = transform_data(train_df, song_df, members_df)"
      ],
      "execution_count": null,
      "outputs": []
    },
    {
      "cell_type": "markdown",
      "metadata": {
        "id": "oThOUJVL-NYE"
      },
      "source": [
        "Visualize the Correlation matrix after transforming data"
      ]
    },
    {
      "cell_type": "code",
      "metadata": {
        "colab": {
          "base_uri": "https://localhost:8080/",
          "height": 375
        },
        "id": "lz1Q1VWW9sgh",
        "outputId": "149cf297-2afa-4d17-90b8-a05d29e304e1"
      },
      "source": [
        "corr_matrix = train_data.corr()\n",
        "_ = sns.heatmap(corr_matrix)"
      ],
      "execution_count": null,
      "outputs": [
        {
          "output_type": "display_data",
          "data": {
            "image/png": "[encoded data removed]",
            "text/plain": [
              "<Figure size 432x288 with 2 Axes>"
            ]
          },
          "metadata": {
            "tags": [],
            "needs_background": "light"
          }
        }
      ]
    },
    {
      "cell_type": "code",
      "metadata": {
        "colab": {
          "base_uri": "https://localhost:8080/",
          "height": 514
        },
        "id": "ehl5z4pw-zjV",
        "outputId": "4b31b6eb-7085-4fc1-9442-43c3b48b5379"
      },
      "source": [
        "corr_matrix"
      ],
      "execution_count": null,
      "outputs": [
        {
          "output_type": "execute_result",
          "data": {
            "text/html": [
              "<div>\n",
              "<style scoped>\n",
              "    .dataframe tbody tr th:only-of-type {\n",
              "        vertical-align: middle;\n",
              "    }\n",
              "\n",
              "    .dataframe tbody tr th {\n",
              "        vertical-align: top;\n",
              "    }\n",
              "\n",
              "    .dataframe thead th {\n",
              "        text-align: right;\n",
              "    }\n",
              "</style>\n",
              "<table border=\"1\" class=\"dataframe\">\n",
              "  <thead>\n",
              "    <tr style=\"text-align: right;\">\n",
              "      <th></th>\n",
              "      <th>target</th>\n",
              "      <th>song_length</th>\n",
              "      <th>language</th>\n",
              "      <th>city</th>\n",
              "      <th>bd</th>\n",
              "      <th>registered_via</th>\n",
              "      <th>registration_init_day</th>\n",
              "      <th>registration_init_month</th>\n",
              "      <th>registration_init_year</th>\n",
              "      <th>expiration_day</th>\n",
              "      <th>expiration_month</th>\n",
              "      <th>expiration_year</th>\n",
              "      <th>genre_count</th>\n",
              "      <th>composer_count</th>\n",
              "      <th>lyricist_count</th>\n",
              "    </tr>\n",
              "  </thead>\n",
              "  <tbody>\n",
              "    <tr>\n",
              "      <th>target</th>\n",
              "      <td>1.000000</td>\n",
              "      <td>-0.001809</td>\n",
              "      <td>-0.027537</td>\n",
              "      <td>0.012114</td>\n",
              "      <td>-0.029062</td>\n",
              "      <td>0.009893</td>\n",
              "      <td>-0.001765</td>\n",
              "      <td>-0.005573</td>\n",
              "      <td>-0.001962</td>\n",
              "      <td>0.001923</td>\n",
              "      <td>0.011817</td>\n",
              "      <td>0.042248</td>\n",
              "      <td>-0.005689</td>\n",
              "      <td>0.027213</td>\n",
              "      <td>0.043528</td>\n",
              "    </tr>\n",
              "    <tr>\n",
              "      <th>song_length</th>\n",
              "      <td>-0.001809</td>\n",
              "      <td>1.000000</td>\n",
              "      <td>-0.210436</td>\n",
              "      <td>0.005185</td>\n",
              "      <td>0.007685</td>\n",
              "      <td>0.002749</td>\n",
              "      <td>-0.000002</td>\n",
              "      <td>0.001518</td>\n",
              "      <td>-0.007435</td>\n",
              "      <td>0.000385</td>\n",
              "      <td>0.001309</td>\n",
              "      <td>0.004572</td>\n",
              "      <td>-0.026094</td>\n",
              "      <td>-0.102079</td>\n",
              "      <td>-0.015731</td>\n",
              "    </tr>\n",
              "    <tr>\n",
              "      <th>language</th>\n",
              "      <td>-0.027537</td>\n",
              "      <td>-0.210436</td>\n",
              "      <td>1.000000</td>\n",
              "      <td>-0.022197</td>\n",
              "      <td>-0.000909</td>\n",
              "      <td>-0.000232</td>\n",
              "      <td>0.001511</td>\n",
              "      <td>-0.006916</td>\n",
              "      <td>0.009072</td>\n",
              "      <td>-0.000452</td>\n",
              "      <td>-0.001253</td>\n",
              "      <td>-0.003990</td>\n",
              "      <td>0.077519</td>\n",
              "      <td>0.362132</td>\n",
              "      <td>-0.021813</td>\n",
              "    </tr>\n",
              "    <tr>\n",
              "      <th>city</th>\n",
              "      <td>0.012114</td>\n",
              "      <td>0.005185</td>\n",
              "      <td>-0.022197</td>\n",
              "      <td>1.000000</td>\n",
              "      <td>0.057512</td>\n",
              "      <td>0.073756</td>\n",
              "      <td>0.007842</td>\n",
              "      <td>-0.033314</td>\n",
              "      <td>-0.280175</td>\n",
              "      <td>0.004892</td>\n",
              "      <td>-0.024833</td>\n",
              "      <td>0.150147</td>\n",
              "      <td>-0.005528</td>\n",
              "      <td>-0.004215</td>\n",
              "      <td>0.004835</td>\n",
              "    </tr>\n",
              "    <tr>\n",
              "      <th>bd</th>\n",
              "      <td>-0.029062</td>\n",
              "      <td>0.007685</td>\n",
              "      <td>-0.000909</td>\n",
              "      <td>0.057512</td>\n",
              "      <td>1.000000</td>\n",
              "      <td>0.162485</td>\n",
              "      <td>0.006868</td>\n",
              "      <td>0.001192</td>\n",
              "      <td>-0.269699</td>\n",
              "      <td>0.047448</td>\n",
              "      <td>0.020474</td>\n",
              "      <td>0.040012</td>\n",
              "      <td>0.005317</td>\n",
              "      <td>-0.035854</td>\n",
              "      <td>-0.035338</td>\n",
              "    </tr>\n",
              "    <tr>\n",
              "      <th>registered_via</th>\n",
              "      <td>0.009893</td>\n",
              "      <td>0.002749</td>\n",
              "      <td>-0.000232</td>\n",
              "      <td>0.073756</td>\n",
              "      <td>0.162485</td>\n",
              "      <td>1.000000</td>\n",
              "      <td>0.025543</td>\n",
              "      <td>-0.017697</td>\n",
              "      <td>-0.442730</td>\n",
              "      <td>0.056956</td>\n",
              "      <td>0.064732</td>\n",
              "      <td>0.084135</td>\n",
              "      <td>-0.001597</td>\n",
              "      <td>-0.010430</td>\n",
              "      <td>-0.012037</td>\n",
              "    </tr>\n",
              "    <tr>\n",
              "      <th>registration_init_day</th>\n",
              "      <td>-0.001765</td>\n",
              "      <td>-0.000002</td>\n",
              "      <td>0.001511</td>\n",
              "      <td>0.007842</td>\n",
              "      <td>0.006868</td>\n",
              "      <td>0.025543</td>\n",
              "      <td>1.000000</td>\n",
              "      <td>0.044437</td>\n",
              "      <td>-0.047175</td>\n",
              "      <td>0.149351</td>\n",
              "      <td>-0.013526</td>\n",
              "      <td>-0.002089</td>\n",
              "      <td>0.000056</td>\n",
              "      <td>0.000031</td>\n",
              "      <td>0.000829</td>\n",
              "    </tr>\n",
              "    <tr>\n",
              "      <th>registration_init_month</th>\n",
              "      <td>-0.005573</td>\n",
              "      <td>0.001518</td>\n",
              "      <td>-0.006916</td>\n",
              "      <td>-0.033314</td>\n",
              "      <td>0.001192</td>\n",
              "      <td>-0.017697</td>\n",
              "      <td>0.044437</td>\n",
              "      <td>1.000000</td>\n",
              "      <td>-0.047701</td>\n",
              "      <td>-0.006693</td>\n",
              "      <td>0.056911</td>\n",
              "      <td>-0.047909</td>\n",
              "      <td>0.000605</td>\n",
              "      <td>-0.004635</td>\n",
              "      <td>-0.000032</td>\n",
              "    </tr>\n",
              "    <tr>\n",
              "      <th>registration_init_year</th>\n",
              "      <td>-0.001962</td>\n",
              "      <td>-0.007435</td>\n",
              "      <td>0.009072</td>\n",
              "      <td>-0.280175</td>\n",
              "      <td>-0.269699</td>\n",
              "      <td>-0.442730</td>\n",
              "      <td>-0.047175</td>\n",
              "      <td>-0.047701</td>\n",
              "      <td>1.000000</td>\n",
              "      <td>-0.078462</td>\n",
              "      <td>-0.057629</td>\n",
              "      <td>-0.092018</td>\n",
              "      <td>0.003892</td>\n",
              "      <td>0.013826</td>\n",
              "      <td>0.013835</td>\n",
              "    </tr>\n",
              "    <tr>\n",
              "      <th>expiration_day</th>\n",
              "      <td>0.001923</td>\n",
              "      <td>0.000385</td>\n",
              "      <td>-0.000452</td>\n",
              "      <td>0.004892</td>\n",
              "      <td>0.047448</td>\n",
              "      <td>0.056956</td>\n",
              "      <td>0.149351</td>\n",
              "      <td>-0.006693</td>\n",
              "      <td>-0.078462</td>\n",
              "      <td>1.000000</td>\n",
              "      <td>-0.029495</td>\n",
              "      <td>-0.030104</td>\n",
              "      <td>0.001198</td>\n",
              "      <td>-0.002181</td>\n",
              "      <td>-0.003404</td>\n",
              "    </tr>\n",
              "    <tr>\n",
              "      <th>expiration_month</th>\n",
              "      <td>0.011817</td>\n",
              "      <td>0.001309</td>\n",
              "      <td>-0.001253</td>\n",
              "      <td>-0.024833</td>\n",
              "      <td>0.020474</td>\n",
              "      <td>0.064732</td>\n",
              "      <td>-0.013526</td>\n",
              "      <td>0.056911</td>\n",
              "      <td>-0.057629</td>\n",
              "      <td>-0.029495</td>\n",
              "      <td>1.000000</td>\n",
              "      <td>-0.472842</td>\n",
              "      <td>0.000675</td>\n",
              "      <td>-0.002876</td>\n",
              "      <td>-0.002433</td>\n",
              "    </tr>\n",
              "    <tr>\n",
              "      <th>expiration_year</th>\n",
              "      <td>0.042248</td>\n",
              "      <td>0.004572</td>\n",
              "      <td>-0.003990</td>\n",
              "      <td>0.150147</td>\n",
              "      <td>0.040012</td>\n",
              "      <td>0.084135</td>\n",
              "      <td>-0.002089</td>\n",
              "      <td>-0.047909</td>\n",
              "      <td>-0.092018</td>\n",
              "      <td>-0.030104</td>\n",
              "      <td>-0.472842</td>\n",
              "      <td>1.000000</td>\n",
              "      <td>-0.004097</td>\n",
              "      <td>-0.007370</td>\n",
              "      <td>-0.008300</td>\n",
              "    </tr>\n",
              "    <tr>\n",
              "      <th>genre_count</th>\n",
              "      <td>-0.005689</td>\n",
              "      <td>-0.026094</td>\n",
              "      <td>0.077519</td>\n",
              "      <td>-0.005528</td>\n",
              "      <td>0.005317</td>\n",
              "      <td>-0.001597</td>\n",
              "      <td>0.000056</td>\n",
              "      <td>0.000605</td>\n",
              "      <td>0.003892</td>\n",
              "      <td>0.001198</td>\n",
              "      <td>0.000675</td>\n",
              "      <td>-0.004097</td>\n",
              "      <td>1.000000</td>\n",
              "      <td>0.033796</td>\n",
              "      <td>0.035215</td>\n",
              "    </tr>\n",
              "    <tr>\n",
              "      <th>composer_count</th>\n",
              "      <td>0.027213</td>\n",
              "      <td>-0.102079</td>\n",
              "      <td>0.362132</td>\n",
              "      <td>-0.004215</td>\n",
              "      <td>-0.035854</td>\n",
              "      <td>-0.010430</td>\n",
              "      <td>0.000031</td>\n",
              "      <td>-0.004635</td>\n",
              "      <td>0.013826</td>\n",
              "      <td>-0.002181</td>\n",
              "      <td>-0.002876</td>\n",
              "      <td>-0.007370</td>\n",
              "      <td>0.033796</td>\n",
              "      <td>1.000000</td>\n",
              "      <td>0.426352</td>\n",
              "    </tr>\n",
              "    <tr>\n",
              "      <th>lyricist_count</th>\n",
              "      <td>0.043528</td>\n",
              "      <td>-0.015731</td>\n",
              "      <td>-0.021813</td>\n",
              "      <td>0.004835</td>\n",
              "      <td>-0.035338</td>\n",
              "      <td>-0.012037</td>\n",
              "      <td>0.000829</td>\n",
              "      <td>-0.000032</td>\n",
              "      <td>0.013835</td>\n",
              "      <td>-0.003404</td>\n",
              "      <td>-0.002433</td>\n",
              "      <td>-0.008300</td>\n",
              "      <td>0.035215</td>\n",
              "      <td>0.426352</td>\n",
              "      <td>1.000000</td>\n",
              "    </tr>\n",
              "  </tbody>\n",
              "</table>\n",
              "</div>"
            ],
            "text/plain": [
              "                           target  song_length  ...  composer_count  lyricist_count\n",
              "target                   1.000000    -0.001809  ...        0.027213        0.043528\n",
              "song_length             -0.001809     1.000000  ...       -0.102079       -0.015731\n",
              "language                -0.027537    -0.210436  ...        0.362132       -0.021813\n",
              "city                     0.012114     0.005185  ...       -0.004215        0.004835\n",
              "bd                      -0.029062     0.007685  ...       -0.035854       -0.035338\n",
              "registered_via           0.009893     0.002749  ...       -0.010430       -0.012037\n",
              "registration_init_day   -0.001765    -0.000002  ...        0.000031        0.000829\n",
              "registration_init_month -0.005573     0.001518  ...       -0.004635       -0.000032\n",
              "registration_init_year  -0.001962    -0.007435  ...        0.013826        0.013835\n",
              "expiration_day           0.001923     0.000385  ...       -0.002181       -0.003404\n",
              "expiration_month         0.011817     0.001309  ...       -0.002876       -0.002433\n",
              "expiration_year          0.042248     0.004572  ...       -0.007370       -0.008300\n",
              "genre_count             -0.005689    -0.026094  ...        0.033796        0.035215\n",
              "composer_count           0.027213    -0.102079  ...        1.000000        0.426352\n",
              "lyricist_count           0.043528    -0.015731  ...        0.426352        1.000000\n",
              "\n",
              "[15 rows x 15 columns]"
            ]
          },
          "metadata": {
            "tags": []
          },
          "execution_count": 14
        }
      ]
    },
    {
      "cell_type": "markdown",
      "metadata": {
        "id": "cDe_RsU_-VZA"
      },
      "source": [
        "**Analysis**: we can see that composer count is highly correlated to language, lyricist_count. The top 3 attributes correlated to target are lyricist_count, expiration year, language"
      ]
    },
    {
      "cell_type": "code",
      "metadata": {
        "trusted": true,
        "id": "CWIk3VHl2xXP"
      },
      "source": [
        "y_train = train_data['target']\n",
        "train_data.drop(['target'], axis=1,inplace=True)\n",
        "X_train = train_data"
      ],
      "execution_count": null,
      "outputs": []
    },
    {
      "cell_type": "code",
      "metadata": {
        "id": "bYGP1qabpKhv"
      },
      "source": [
        "X_train.head()"
      ],
      "execution_count": null,
      "outputs": []
    },
    {
      "cell_type": "markdown",
      "metadata": {
        "id": "94Ev0gHk2xXP"
      },
      "source": [
        "## 3.2 Transform features: composer, artist, lyricist, to create new features, like counts of composer, artist, lyricist, etc"
      ]
    },
    {
      "cell_type": "markdown",
      "metadata": {
        "id": "C0uho-1e2xXP"
      },
      "source": [
        "### 3.2.1 Transform train set"
      ]
    },
    {
      "cell_type": "markdown",
      "metadata": {
        "id": "qmQkKZFt2xXP"
      },
      "source": [
        "Transform the name of  composer, artist, lyricist to new features like counts, number of intersection of names "
      ]
    },
    {
      "cell_type": "code",
      "metadata": {
        "trusted": true,
        "colab": {
          "base_uri": "https://localhost:8080/",
          "height": 484
        },
        "id": "K4SzznWv2xXP",
        "outputId": "6f8bf59e-d19c-481e-9dca-9c793c813e54"
      },
      "source": [
        "def transform_names_intersection(data):\n",
        "    #This function finds the intersection of names in composer, artist, lyricist\n",
        "    def check_name_list(x):\n",
        "        #convert string to name list dataframe\n",
        "        strings = None\n",
        "        strings = x.str.split(r\"//|/|;|、|\\| \")\n",
        "        return strings\n",
        "    \n",
        "    df = data[[\"composer\",\"artist_name\", \"lyricist\"]].apply(check_name_list)\n",
        "    data[\"composer_artist_intersect\"] =[len(set(a) & set(b)) for a, b in zip(df.composer, df.artist_name)] \n",
        "    data[\"composer_lyricist_intersect\"] =[len(set(a) & set(b)) for a, b in zip(df.composer, df.lyricist)] \n",
        "    data[\"artist_lyricist_intersect\"] =[len(set(a) & set(b)) for a, b in zip(df.artist_name, df.lyricist)] \n",
        "    return data\n",
        "    \n",
        "_ = transform_names_intersection(X_train)\n",
        "X_train.head()"
      ],
      "execution_count": null,
      "outputs": [
        {
          "output_type": "execute_result",
          "data": {
            "text/html": [
              "<div>\n",
              "<style scoped>\n",
              "    .dataframe tbody tr th:only-of-type {\n",
              "        vertical-align: middle;\n",
              "    }\n",
              "\n",
              "    .dataframe tbody tr th {\n",
              "        vertical-align: top;\n",
              "    }\n",
              "\n",
              "    .dataframe thead th {\n",
              "        text-align: right;\n",
              "    }\n",
              "</style>\n",
              "<table border=\"1\" class=\"dataframe\">\n",
              "  <thead>\n",
              "    <tr style=\"text-align: right;\">\n",
              "      <th></th>\n",
              "      <th>msno</th>\n",
              "      <th>song_id</th>\n",
              "      <th>source_system_tab</th>\n",
              "      <th>source_screen_name</th>\n",
              "      <th>source_type</th>\n",
              "      <th>song_length</th>\n",
              "      <th>genre_ids</th>\n",
              "      <th>artist_name</th>\n",
              "      <th>composer</th>\n",
              "      <th>lyricist</th>\n",
              "      <th>language</th>\n",
              "      <th>city</th>\n",
              "      <th>bd</th>\n",
              "      <th>gender</th>\n",
              "      <th>registered_via</th>\n",
              "      <th>registration_init_day</th>\n",
              "      <th>registration_init_month</th>\n",
              "      <th>registration_init_year</th>\n",
              "      <th>expiration_day</th>\n",
              "      <th>expiration_month</th>\n",
              "      <th>expiration_year</th>\n",
              "      <th>genre_count</th>\n",
              "      <th>composer_count</th>\n",
              "      <th>lyricist_count</th>\n",
              "      <th>composer_artist_intersect</th>\n",
              "      <th>composer_lyricist_intersect</th>\n",
              "      <th>artist_lyricist_intersect</th>\n",
              "    </tr>\n",
              "  </thead>\n",
              "  <tbody>\n",
              "    <tr>\n",
              "      <th>0</th>\n",
              "      <td>FGtllVqz18RPiwJj/edr2gV78zirAiY/9SmYvia+kCg=</td>\n",
              "      <td>BBzumQNXUHKdEBOB7mAJuzok+IJA1c2Ryg/yzTF6tik=</td>\n",
              "      <td>explore</td>\n",
              "      <td>Explore</td>\n",
              "      <td>online-playlist</td>\n",
              "      <td>206471.0</td>\n",
              "      <td>359</td>\n",
              "      <td>Bastille</td>\n",
              "      <td>Dan Smith| Mark Crew</td>\n",
              "      <td>no_data</td>\n",
              "      <td>52.0</td>\n",
              "      <td>1</td>\n",
              "      <td>27.0</td>\n",
              "      <td>no_data</td>\n",
              "      <td>7</td>\n",
              "      <td>2</td>\n",
              "      <td>1</td>\n",
              "      <td>2012</td>\n",
              "      <td>5</td>\n",
              "      <td>10</td>\n",
              "      <td>2017</td>\n",
              "      <td>1</td>\n",
              "      <td>2</td>\n",
              "      <td>0</td>\n",
              "      <td>0</td>\n",
              "      <td>0</td>\n",
              "      <td>0</td>\n",
              "    </tr>\n",
              "    <tr>\n",
              "      <th>1</th>\n",
              "      <td>Xumu+NIjS6QYVxDS4/t3SawvJ7viT9hPKXmf0RtLNx8=</td>\n",
              "      <td>bhp/MpSNoqoxOIB+/l8WPqu6jldth4DIpCm3ayXnJqM=</td>\n",
              "      <td>my library</td>\n",
              "      <td>Local playlist more</td>\n",
              "      <td>local-playlist</td>\n",
              "      <td>284584.0</td>\n",
              "      <td>1259</td>\n",
              "      <td>Various Artists</td>\n",
              "      <td>no_data</td>\n",
              "      <td>no_data</td>\n",
              "      <td>52.0</td>\n",
              "      <td>13</td>\n",
              "      <td>24.0</td>\n",
              "      <td>female</td>\n",
              "      <td>9</td>\n",
              "      <td>25</td>\n",
              "      <td>5</td>\n",
              "      <td>2011</td>\n",
              "      <td>11</td>\n",
              "      <td>9</td>\n",
              "      <td>2017</td>\n",
              "      <td>1</td>\n",
              "      <td>0</td>\n",
              "      <td>0</td>\n",
              "      <td>0</td>\n",
              "      <td>1</td>\n",
              "      <td>0</td>\n",
              "    </tr>\n",
              "    <tr>\n",
              "      <th>2</th>\n",
              "      <td>Xumu+NIjS6QYVxDS4/t3SawvJ7viT9hPKXmf0RtLNx8=</td>\n",
              "      <td>JNWfrrC7zNN7BdMpsISKa4Mw+xVJYNnxXh3/Epw7QgY=</td>\n",
              "      <td>my library</td>\n",
              "      <td>Local playlist more</td>\n",
              "      <td>local-playlist</td>\n",
              "      <td>225396.0</td>\n",
              "      <td>1259</td>\n",
              "      <td>Nas</td>\n",
              "      <td>N. Jones、W. Adams、J. Lordan、D. Ingle</td>\n",
              "      <td>no_data</td>\n",
              "      <td>52.0</td>\n",
              "      <td>13</td>\n",
              "      <td>24.0</td>\n",
              "      <td>female</td>\n",
              "      <td>9</td>\n",
              "      <td>25</td>\n",
              "      <td>5</td>\n",
              "      <td>2011</td>\n",
              "      <td>11</td>\n",
              "      <td>9</td>\n",
              "      <td>2017</td>\n",
              "      <td>1</td>\n",
              "      <td>1</td>\n",
              "      <td>0</td>\n",
              "      <td>0</td>\n",
              "      <td>0</td>\n",
              "      <td>0</td>\n",
              "    </tr>\n",
              "    <tr>\n",
              "      <th>3</th>\n",
              "      <td>Xumu+NIjS6QYVxDS4/t3SawvJ7viT9hPKXmf0RtLNx8=</td>\n",
              "      <td>2A87tzfnJTSWqD7gIZHisolhe4DMdzkbd6LzO1KHjNs=</td>\n",
              "      <td>my library</td>\n",
              "      <td>Local playlist more</td>\n",
              "      <td>local-playlist</td>\n",
              "      <td>255512.0</td>\n",
              "      <td>1019</td>\n",
              "      <td>Soundway</td>\n",
              "      <td>Kwadwo Donkoh</td>\n",
              "      <td>no_data</td>\n",
              "      <td>-1.0</td>\n",
              "      <td>13</td>\n",
              "      <td>24.0</td>\n",
              "      <td>female</td>\n",
              "      <td>9</td>\n",
              "      <td>25</td>\n",
              "      <td>5</td>\n",
              "      <td>2011</td>\n",
              "      <td>11</td>\n",
              "      <td>9</td>\n",
              "      <td>2017</td>\n",
              "      <td>1</td>\n",
              "      <td>1</td>\n",
              "      <td>0</td>\n",
              "      <td>0</td>\n",
              "      <td>0</td>\n",
              "      <td>0</td>\n",
              "    </tr>\n",
              "    <tr>\n",
              "      <th>4</th>\n",
              "      <td>FGtllVqz18RPiwJj/edr2gV78zirAiY/9SmYvia+kCg=</td>\n",
              "      <td>3qm6XTZ6MOCU11x8FIVbAGH5l5uMkT3/ZalWG1oo2Gc=</td>\n",
              "      <td>explore</td>\n",
              "      <td>Explore</td>\n",
              "      <td>online-playlist</td>\n",
              "      <td>187802.0</td>\n",
              "      <td>1011</td>\n",
              "      <td>Brett Young</td>\n",
              "      <td>Brett Young| Kelly Archer| Justin Ebach</td>\n",
              "      <td>no_data</td>\n",
              "      <td>52.0</td>\n",
              "      <td>1</td>\n",
              "      <td>27.0</td>\n",
              "      <td>no_data</td>\n",
              "      <td>7</td>\n",
              "      <td>2</td>\n",
              "      <td>1</td>\n",
              "      <td>2012</td>\n",
              "      <td>5</td>\n",
              "      <td>10</td>\n",
              "      <td>2017</td>\n",
              "      <td>1</td>\n",
              "      <td>3</td>\n",
              "      <td>0</td>\n",
              "      <td>1</td>\n",
              "      <td>0</td>\n",
              "      <td>0</td>\n",
              "    </tr>\n",
              "  </tbody>\n",
              "</table>\n",
              "</div>"
            ],
            "text/plain": [
              "                                           msno  ... artist_lyricist_intersect\n",
              "0  FGtllVqz18RPiwJj/edr2gV78zirAiY/9SmYvia+kCg=  ...                         0\n",
              "1  Xumu+NIjS6QYVxDS4/t3SawvJ7viT9hPKXmf0RtLNx8=  ...                         0\n",
              "2  Xumu+NIjS6QYVxDS4/t3SawvJ7viT9hPKXmf0RtLNx8=  ...                         0\n",
              "3  Xumu+NIjS6QYVxDS4/t3SawvJ7viT9hPKXmf0RtLNx8=  ...                         0\n",
              "4  FGtllVqz18RPiwJj/edr2gV78zirAiY/9SmYvia+kCg=  ...                         0\n",
              "\n",
              "[5 rows x 27 columns]"
            ]
          },
          "metadata": {
            "tags": []
          },
          "execution_count": 11
        }
      ]
    },
    {
      "cell_type": "markdown",
      "metadata": {
        "id": "bC0-vD2T2xXP"
      },
      "source": [
        "### 3.2.2 Transform Testset"
      ]
    },
    {
      "cell_type": "code",
      "metadata": {
        "trusted": true,
        "colab": {
          "base_uri": "https://localhost:8080/",
          "height": 367
        },
        "id": "LdsBgYtM2xXP",
        "outputId": "fa48a54a-9b4c-4852-d2a0-a3df28d8ae6f"
      },
      "source": [
        "ids, test_data = transform_data(test_df, song_df, members_df)\n",
        "_ = transform_names_intersection(test_data)\n",
        "test_data.head()"
      ],
      "execution_count": null,
      "outputs": [
        {
          "output_type": "execute_result",
          "data": {
            "text/html": [
              "<div>\n",
              "<style scoped>\n",
              "    .dataframe tbody tr th:only-of-type {\n",
              "        vertical-align: middle;\n",
              "    }\n",
              "\n",
              "    .dataframe tbody tr th {\n",
              "        vertical-align: top;\n",
              "    }\n",
              "\n",
              "    .dataframe thead th {\n",
              "        text-align: right;\n",
              "    }\n",
              "</style>\n",
              "<table border=\"1\" class=\"dataframe\">\n",
              "  <thead>\n",
              "    <tr style=\"text-align: right;\">\n",
              "      <th></th>\n",
              "      <th>msno</th>\n",
              "      <th>song_id</th>\n",
              "      <th>source_system_tab</th>\n",
              "      <th>source_screen_name</th>\n",
              "      <th>source_type</th>\n",
              "      <th>song_length</th>\n",
              "      <th>genre_ids</th>\n",
              "      <th>artist_name</th>\n",
              "      <th>composer</th>\n",
              "      <th>lyricist</th>\n",
              "      <th>language</th>\n",
              "      <th>city</th>\n",
              "      <th>bd</th>\n",
              "      <th>gender</th>\n",
              "      <th>registered_via</th>\n",
              "      <th>registration_init_day</th>\n",
              "      <th>registration_init_month</th>\n",
              "      <th>registration_init_year</th>\n",
              "      <th>expiration_day</th>\n",
              "      <th>expiration_month</th>\n",
              "      <th>expiration_year</th>\n",
              "      <th>genre_count</th>\n",
              "      <th>composer_count</th>\n",
              "      <th>lyricist_count</th>\n",
              "      <th>composer_artist_intersect</th>\n",
              "      <th>composer_lyricist_intersect</th>\n",
              "      <th>artist_lyricist_intersect</th>\n",
              "    </tr>\n",
              "  </thead>\n",
              "  <tbody>\n",
              "    <tr>\n",
              "      <th>0</th>\n",
              "      <td>V8ruy7SGk7tDm3zA51DPpn6qutt+vmKMBKa21dp54uM=</td>\n",
              "      <td>WmHKgKMlp1lQMecNdNvDMkvIycZYHnFwDT72I5sIssc=</td>\n",
              "      <td>my library</td>\n",
              "      <td>Local playlist more</td>\n",
              "      <td>local-library</td>\n",
              "      <td>224130.0</td>\n",
              "      <td>458</td>\n",
              "      <td>梁文音 (Rachel Liang)</td>\n",
              "      <td>Qi Zheng Zhang</td>\n",
              "      <td>no_data</td>\n",
              "      <td>3.0</td>\n",
              "      <td>1</td>\n",
              "      <td>27.0</td>\n",
              "      <td>no_data</td>\n",
              "      <td>7</td>\n",
              "      <td>19</td>\n",
              "      <td>2</td>\n",
              "      <td>2016</td>\n",
              "      <td>18</td>\n",
              "      <td>9</td>\n",
              "      <td>2017</td>\n",
              "      <td>1</td>\n",
              "      <td>1</td>\n",
              "      <td>0</td>\n",
              "      <td>0</td>\n",
              "      <td>0</td>\n",
              "      <td>0</td>\n",
              "    </tr>\n",
              "    <tr>\n",
              "      <th>1</th>\n",
              "      <td>V8ruy7SGk7tDm3zA51DPpn6qutt+vmKMBKa21dp54uM=</td>\n",
              "      <td>y/rsZ9DC7FwK5F2PK2D5mj+aOBUJAjuu3dZ14NgE0vM=</td>\n",
              "      <td>my library</td>\n",
              "      <td>Local playlist more</td>\n",
              "      <td>local-library</td>\n",
              "      <td>320470.0</td>\n",
              "      <td>465</td>\n",
              "      <td>林俊傑 (JJ Lin)</td>\n",
              "      <td>林俊傑</td>\n",
              "      <td>孫燕姿/易家揚</td>\n",
              "      <td>3.0</td>\n",
              "      <td>1</td>\n",
              "      <td>27.0</td>\n",
              "      <td>no_data</td>\n",
              "      <td>7</td>\n",
              "      <td>19</td>\n",
              "      <td>2</td>\n",
              "      <td>2016</td>\n",
              "      <td>18</td>\n",
              "      <td>9</td>\n",
              "      <td>2017</td>\n",
              "      <td>1</td>\n",
              "      <td>1</td>\n",
              "      <td>2</td>\n",
              "      <td>0</td>\n",
              "      <td>0</td>\n",
              "      <td>0</td>\n",
              "    </tr>\n",
              "    <tr>\n",
              "      <th>2</th>\n",
              "      <td>/uQAlrAkaczV+nWCd2sPF2ekvXPRipV7q0l+gbLuxjw=</td>\n",
              "      <td>8eZLFOdGVdXBSqoAv5nsLigeH2BvKXzTQYtUM53I0k4=</td>\n",
              "      <td>discover</td>\n",
              "      <td>no_data</td>\n",
              "      <td>song-based-playlist</td>\n",
              "      <td>315899.0</td>\n",
              "      <td>2022</td>\n",
              "      <td>Yu Takahashi (高橋優)</td>\n",
              "      <td>Yu Takahashi</td>\n",
              "      <td>Yu Takahashi</td>\n",
              "      <td>17.0</td>\n",
              "      <td>1</td>\n",
              "      <td>27.0</td>\n",
              "      <td>no_data</td>\n",
              "      <td>4</td>\n",
              "      <td>17</td>\n",
              "      <td>11</td>\n",
              "      <td>2016</td>\n",
              "      <td>24</td>\n",
              "      <td>11</td>\n",
              "      <td>2016</td>\n",
              "      <td>1</td>\n",
              "      <td>1</td>\n",
              "      <td>1</td>\n",
              "      <td>0</td>\n",
              "      <td>1</td>\n",
              "      <td>0</td>\n",
              "    </tr>\n",
              "    <tr>\n",
              "      <th>3</th>\n",
              "      <td>1a6oo/iXKatxQx4eS9zTVD+KlSVaAFbTIqVvwLC1Y0k=</td>\n",
              "      <td>ztCf8thYsS4YN3GcIL/bvoxLm/T5mYBVKOO4C9NiVfQ=</td>\n",
              "      <td>radio</td>\n",
              "      <td>Radio</td>\n",
              "      <td>radio</td>\n",
              "      <td>285210.0</td>\n",
              "      <td>465</td>\n",
              "      <td>U2</td>\n",
              "      <td>The Edge| Adam Clayton| Larry Mullen| Jr.</td>\n",
              "      <td>no_data</td>\n",
              "      <td>52.0</td>\n",
              "      <td>3</td>\n",
              "      <td>30.0</td>\n",
              "      <td>male</td>\n",
              "      <td>9</td>\n",
              "      <td>25</td>\n",
              "      <td>7</td>\n",
              "      <td>2007</td>\n",
              "      <td>30</td>\n",
              "      <td>4</td>\n",
              "      <td>2017</td>\n",
              "      <td>1</td>\n",
              "      <td>4</td>\n",
              "      <td>0</td>\n",
              "      <td>0</td>\n",
              "      <td>0</td>\n",
              "      <td>0</td>\n",
              "    </tr>\n",
              "    <tr>\n",
              "      <th>4</th>\n",
              "      <td>1a6oo/iXKatxQx4eS9zTVD+KlSVaAFbTIqVvwLC1Y0k=</td>\n",
              "      <td>MKVMpslKcQhMaFEgcEQhEfi5+RZhMYlU3eRDpySrH8Y=</td>\n",
              "      <td>radio</td>\n",
              "      <td>Radio</td>\n",
              "      <td>radio</td>\n",
              "      <td>197590.0</td>\n",
              "      <td>873</td>\n",
              "      <td>Yoga Mr Sound</td>\n",
              "      <td>Neuromancer</td>\n",
              "      <td>no_data</td>\n",
              "      <td>-1.0</td>\n",
              "      <td>3</td>\n",
              "      <td>30.0</td>\n",
              "      <td>male</td>\n",
              "      <td>9</td>\n",
              "      <td>25</td>\n",
              "      <td>7</td>\n",
              "      <td>2007</td>\n",
              "      <td>30</td>\n",
              "      <td>4</td>\n",
              "      <td>2017</td>\n",
              "      <td>1</td>\n",
              "      <td>1</td>\n",
              "      <td>0</td>\n",
              "      <td>0</td>\n",
              "      <td>0</td>\n",
              "      <td>0</td>\n",
              "    </tr>\n",
              "  </tbody>\n",
              "</table>\n",
              "</div>"
            ],
            "text/plain": [
              "                                           msno  ... artist_lyricist_intersect\n",
              "0  V8ruy7SGk7tDm3zA51DPpn6qutt+vmKMBKa21dp54uM=  ...                         0\n",
              "1  V8ruy7SGk7tDm3zA51DPpn6qutt+vmKMBKa21dp54uM=  ...                         0\n",
              "2  /uQAlrAkaczV+nWCd2sPF2ekvXPRipV7q0l+gbLuxjw=  ...                         0\n",
              "3  1a6oo/iXKatxQx4eS9zTVD+KlSVaAFbTIqVvwLC1Y0k=  ...                         0\n",
              "4  1a6oo/iXKatxQx4eS9zTVD+KlSVaAFbTIqVvwLC1Y0k=  ...                         0\n",
              "\n",
              "[5 rows x 27 columns]"
            ]
          },
          "metadata": {
            "tags": []
          },
          "execution_count": 12
        }
      ]
    },
    {
      "cell_type": "code",
      "metadata": {
        "trusted": true,
        "id": "IHsnoX8_2xXP"
      },
      "source": [
        ""
      ],
      "execution_count": null,
      "outputs": []
    },
    {
      "cell_type": "code",
      "metadata": {
        "trusted": true,
        "colab": {
          "base_uri": "https://localhost:8080/",
          "height": 367
        },
        "id": "HkhJROuc2xXQ",
        "outputId": "a2a65fa8-d921-48e1-f58b-96c0777d410e"
      },
      "source": [
        "test_data.head()"
      ],
      "execution_count": null,
      "outputs": [
        {
          "output_type": "execute_result",
          "data": {
            "text/html": [
              "<div>\n",
              "<style scoped>\n",
              "    .dataframe tbody tr th:only-of-type {\n",
              "        vertical-align: middle;\n",
              "    }\n",
              "\n",
              "    .dataframe tbody tr th {\n",
              "        vertical-align: top;\n",
              "    }\n",
              "\n",
              "    .dataframe thead th {\n",
              "        text-align: right;\n",
              "    }\n",
              "</style>\n",
              "<table border=\"1\" class=\"dataframe\">\n",
              "  <thead>\n",
              "    <tr style=\"text-align: right;\">\n",
              "      <th></th>\n",
              "      <th>msno</th>\n",
              "      <th>song_id</th>\n",
              "      <th>source_system_tab</th>\n",
              "      <th>source_screen_name</th>\n",
              "      <th>source_type</th>\n",
              "      <th>song_length</th>\n",
              "      <th>genre_ids</th>\n",
              "      <th>artist_name</th>\n",
              "      <th>composer</th>\n",
              "      <th>lyricist</th>\n",
              "      <th>language</th>\n",
              "      <th>city</th>\n",
              "      <th>bd</th>\n",
              "      <th>gender</th>\n",
              "      <th>registered_via</th>\n",
              "      <th>registration_init_day</th>\n",
              "      <th>registration_init_month</th>\n",
              "      <th>registration_init_year</th>\n",
              "      <th>expiration_day</th>\n",
              "      <th>expiration_month</th>\n",
              "      <th>expiration_year</th>\n",
              "      <th>genre_count</th>\n",
              "      <th>composer_count</th>\n",
              "      <th>lyricist_count</th>\n",
              "      <th>composer_artist_intersect</th>\n",
              "      <th>composer_lyricist_intersect</th>\n",
              "      <th>artist_lyricist_intersect</th>\n",
              "    </tr>\n",
              "  </thead>\n",
              "  <tbody>\n",
              "    <tr>\n",
              "      <th>0</th>\n",
              "      <td>V8ruy7SGk7tDm3zA51DPpn6qutt+vmKMBKa21dp54uM=</td>\n",
              "      <td>WmHKgKMlp1lQMecNdNvDMkvIycZYHnFwDT72I5sIssc=</td>\n",
              "      <td>my library</td>\n",
              "      <td>Local playlist more</td>\n",
              "      <td>local-library</td>\n",
              "      <td>224130.0</td>\n",
              "      <td>458</td>\n",
              "      <td>梁文音 (Rachel Liang)</td>\n",
              "      <td>Qi Zheng Zhang</td>\n",
              "      <td>no_data</td>\n",
              "      <td>3.0</td>\n",
              "      <td>1</td>\n",
              "      <td>27.0</td>\n",
              "      <td>no_data</td>\n",
              "      <td>7</td>\n",
              "      <td>19</td>\n",
              "      <td>2</td>\n",
              "      <td>2016</td>\n",
              "      <td>18</td>\n",
              "      <td>9</td>\n",
              "      <td>2017</td>\n",
              "      <td>1</td>\n",
              "      <td>1</td>\n",
              "      <td>0</td>\n",
              "      <td>0</td>\n",
              "      <td>0</td>\n",
              "      <td>0</td>\n",
              "    </tr>\n",
              "    <tr>\n",
              "      <th>1</th>\n",
              "      <td>V8ruy7SGk7tDm3zA51DPpn6qutt+vmKMBKa21dp54uM=</td>\n",
              "      <td>y/rsZ9DC7FwK5F2PK2D5mj+aOBUJAjuu3dZ14NgE0vM=</td>\n",
              "      <td>my library</td>\n",
              "      <td>Local playlist more</td>\n",
              "      <td>local-library</td>\n",
              "      <td>320470.0</td>\n",
              "      <td>465</td>\n",
              "      <td>林俊傑 (JJ Lin)</td>\n",
              "      <td>林俊傑</td>\n",
              "      <td>孫燕姿/易家揚</td>\n",
              "      <td>3.0</td>\n",
              "      <td>1</td>\n",
              "      <td>27.0</td>\n",
              "      <td>no_data</td>\n",
              "      <td>7</td>\n",
              "      <td>19</td>\n",
              "      <td>2</td>\n",
              "      <td>2016</td>\n",
              "      <td>18</td>\n",
              "      <td>9</td>\n",
              "      <td>2017</td>\n",
              "      <td>1</td>\n",
              "      <td>1</td>\n",
              "      <td>2</td>\n",
              "      <td>0</td>\n",
              "      <td>0</td>\n",
              "      <td>0</td>\n",
              "    </tr>\n",
              "    <tr>\n",
              "      <th>2</th>\n",
              "      <td>/uQAlrAkaczV+nWCd2sPF2ekvXPRipV7q0l+gbLuxjw=</td>\n",
              "      <td>8eZLFOdGVdXBSqoAv5nsLigeH2BvKXzTQYtUM53I0k4=</td>\n",
              "      <td>discover</td>\n",
              "      <td>no_data</td>\n",
              "      <td>song-based-playlist</td>\n",
              "      <td>315899.0</td>\n",
              "      <td>2022</td>\n",
              "      <td>Yu Takahashi (高橋優)</td>\n",
              "      <td>Yu Takahashi</td>\n",
              "      <td>Yu Takahashi</td>\n",
              "      <td>17.0</td>\n",
              "      <td>1</td>\n",
              "      <td>27.0</td>\n",
              "      <td>no_data</td>\n",
              "      <td>4</td>\n",
              "      <td>17</td>\n",
              "      <td>11</td>\n",
              "      <td>2016</td>\n",
              "      <td>24</td>\n",
              "      <td>11</td>\n",
              "      <td>2016</td>\n",
              "      <td>1</td>\n",
              "      <td>1</td>\n",
              "      <td>1</td>\n",
              "      <td>0</td>\n",
              "      <td>1</td>\n",
              "      <td>0</td>\n",
              "    </tr>\n",
              "    <tr>\n",
              "      <th>3</th>\n",
              "      <td>1a6oo/iXKatxQx4eS9zTVD+KlSVaAFbTIqVvwLC1Y0k=</td>\n",
              "      <td>ztCf8thYsS4YN3GcIL/bvoxLm/T5mYBVKOO4C9NiVfQ=</td>\n",
              "      <td>radio</td>\n",
              "      <td>Radio</td>\n",
              "      <td>radio</td>\n",
              "      <td>285210.0</td>\n",
              "      <td>465</td>\n",
              "      <td>U2</td>\n",
              "      <td>The Edge| Adam Clayton| Larry Mullen| Jr.</td>\n",
              "      <td>no_data</td>\n",
              "      <td>52.0</td>\n",
              "      <td>3</td>\n",
              "      <td>30.0</td>\n",
              "      <td>male</td>\n",
              "      <td>9</td>\n",
              "      <td>25</td>\n",
              "      <td>7</td>\n",
              "      <td>2007</td>\n",
              "      <td>30</td>\n",
              "      <td>4</td>\n",
              "      <td>2017</td>\n",
              "      <td>1</td>\n",
              "      <td>4</td>\n",
              "      <td>0</td>\n",
              "      <td>0</td>\n",
              "      <td>0</td>\n",
              "      <td>0</td>\n",
              "    </tr>\n",
              "    <tr>\n",
              "      <th>4</th>\n",
              "      <td>1a6oo/iXKatxQx4eS9zTVD+KlSVaAFbTIqVvwLC1Y0k=</td>\n",
              "      <td>MKVMpslKcQhMaFEgcEQhEfi5+RZhMYlU3eRDpySrH8Y=</td>\n",
              "      <td>radio</td>\n",
              "      <td>Radio</td>\n",
              "      <td>radio</td>\n",
              "      <td>197590.0</td>\n",
              "      <td>873</td>\n",
              "      <td>Yoga Mr Sound</td>\n",
              "      <td>Neuromancer</td>\n",
              "      <td>no_data</td>\n",
              "      <td>-1.0</td>\n",
              "      <td>3</td>\n",
              "      <td>30.0</td>\n",
              "      <td>male</td>\n",
              "      <td>9</td>\n",
              "      <td>25</td>\n",
              "      <td>7</td>\n",
              "      <td>2007</td>\n",
              "      <td>30</td>\n",
              "      <td>4</td>\n",
              "      <td>2017</td>\n",
              "      <td>1</td>\n",
              "      <td>1</td>\n",
              "      <td>0</td>\n",
              "      <td>0</td>\n",
              "      <td>0</td>\n",
              "      <td>0</td>\n",
              "    </tr>\n",
              "  </tbody>\n",
              "</table>\n",
              "</div>"
            ],
            "text/plain": [
              "                                           msno  ... artist_lyricist_intersect\n",
              "0  V8ruy7SGk7tDm3zA51DPpn6qutt+vmKMBKa21dp54uM=  ...                         0\n",
              "1  V8ruy7SGk7tDm3zA51DPpn6qutt+vmKMBKa21dp54uM=  ...                         0\n",
              "2  /uQAlrAkaczV+nWCd2sPF2ekvXPRipV7q0l+gbLuxjw=  ...                         0\n",
              "3  1a6oo/iXKatxQx4eS9zTVD+KlSVaAFbTIqVvwLC1Y0k=  ...                         0\n",
              "4  1a6oo/iXKatxQx4eS9zTVD+KlSVaAFbTIqVvwLC1Y0k=  ...                         0\n",
              "\n",
              "[5 rows x 27 columns]"
            ]
          },
          "metadata": {
            "tags": []
          },
          "execution_count": 14
        }
      ]
    },
    {
      "cell_type": "code",
      "metadata": {
        "trusted": true,
        "id": "Y18Li7xN2xXQ"
      },
      "source": [
        ""
      ],
      "execution_count": null,
      "outputs": []
    },
    {
      "cell_type": "markdown",
      "metadata": {
        "id": "FPwDQAka2xXQ"
      },
      "source": [
        "## 3.3 Split validation set and trainset"
      ]
    },
    {
      "cell_type": "code",
      "metadata": {
        "trusted": true,
        "colab": {
          "base_uri": "https://localhost:8080/"
        },
        "id": "54-FNHRk2xXQ",
        "outputId": "d1fe2d23-ec40-458c-f0d5-decf9d2e0d70"
      },
      "source": [
        "from sklearn.model_selection import StratifiedShuffleSplit, StratifiedKFold, train_test_split\n",
        "ss_split = StratifiedShuffleSplit(n_splits=1, test_size=0.2, random_state=2021)\n",
        "\n",
        "# Split training set and testing set\n",
        "train_index, valid_index ,test_index = None, None, None\n",
        "for train_i, test_i in ss_split.split(np.zeros(y_train.shape) ,y_train):\n",
        "    train_index = train_i\n",
        "    test_index = test_i\n",
        "    print(\"Train set size:\",len(train_index), \"Test set size:\",len(test_index))\n",
        "    \n",
        "\n"
      ],
      "execution_count": null,
      "outputs": [
        {
          "output_type": "stream",
          "text": [
            "(5901934,) (1475484,)\n"
          ],
          "name": "stdout"
        }
      ]
    },
    {
      "cell_type": "code",
      "metadata": {
        "trusted": true,
        "id": "qhLDfqGR2xXQ"
      },
      "source": [
        "X_validset = X_train.iloc[test_index]\n",
        "y_validset = y_train.iloc[test_index].values\n",
        "\n",
        "X_trainset = X_train.iloc[train_index]\n",
        "y_trainset = y_train.iloc[train_index].values\n",
        "\n",
        "#delete dataframes to save space\n",
        "del X_train, y_train\n"
      ],
      "execution_count": null,
      "outputs": []
    },
    {
      "cell_type": "markdown",
      "metadata": {
        "id": "oIMCB3iSqBri"
      },
      "source": [
        "Check the information of training set after splitting dataset"
      ]
    },
    {
      "cell_type": "code",
      "metadata": {
        "trusted": true,
        "colab": {
          "base_uri": "https://localhost:8080/"
        },
        "id": "BkayLyw32xXR",
        "outputId": "73671989-6d3c-45be-ad01-c6903ae1ce49"
      },
      "source": [
        "X_trainset.info()"
      ],
      "execution_count": null,
      "outputs": [
        {
          "output_type": "stream",
          "text": [
            "<class 'pandas.core.frame.DataFrame'>\n",
            "Int64Index: 5901934 entries, 7066318 to 5275539\n",
            "Data columns (total 27 columns):\n",
            " #   Column                       Dtype   \n",
            "---  ------                       -----   \n",
            " 0   msno                         category\n",
            " 1   song_id                      category\n",
            " 2   source_system_tab            category\n",
            " 3   source_screen_name           category\n",
            " 4   source_type                  category\n",
            " 5   song_length                  float64 \n",
            " 6   genre_ids                    category\n",
            " 7   artist_name                  category\n",
            " 8   composer                     category\n",
            " 9   lyricist                     category\n",
            " 10  language                     float64 \n",
            " 11  city                         int64   \n",
            " 12  bd                           float64 \n",
            " 13  gender                       category\n",
            " 14  registered_via               int64   \n",
            " 15  registration_init_day        int64   \n",
            " 16  registration_init_month      int64   \n",
            " 17  registration_init_year       int64   \n",
            " 18  expiration_day               int64   \n",
            " 19  expiration_month             int64   \n",
            " 20  expiration_year              int64   \n",
            " 21  genre_count                  int64   \n",
            " 22  composer_count               int64   \n",
            " 23  lyricist_count               int64   \n",
            " 24  composer_artist_intersect    int64   \n",
            " 25  composer_lyricist_intersect  int64   \n",
            " 26  artist_lyricist_intersect    int64   \n",
            "dtypes: category(10), float64(3), int64(14)\n",
            "memory usage: 966.0 MB\n"
          ],
          "name": "stdout"
        }
      ]
    },
    {
      "cell_type": "markdown",
      "metadata": {
        "id": "D4pYR2N92xXR"
      },
      "source": [
        "# 4. LGBM Modeling\n",
        "Light Gradient Boosting Machine (LGBM) model is a tree-based model, which use Boosting ensemble learning method to combine and train multiple decision tree models to do classification or regression task. It can automatically encode categorical data into labels or one-hot encoding vectors and train models.\n",
        "\n",
        "Since it provides a fast way to transform categorical data and train model with good accuracy performance based on the results from leaderboard in kaggle, we try it here and tune its parameters to fit the data. Here is the reference to use LGBM: https://lightgbm.readthedocs.io/en/latest/Quick-Start.html\n",
        "\n",
        "**Input to models:**\n",
        " The input features to LGBM model are the features shown above\n",
        "\n",
        "**Output from models:**\n",
        "The output from LGBM model is the possibility that user may repeat listening to the music\n",
        "\n",
        "**Parameter Settings:**\n",
        "+ Objective loss function: binary cross entropy loss\n",
        "+ metric: area under curve of False Positive Rate vs True Positive Rate (AUC)\n",
        "+ Number of leaves: 110\n",
        "+ max_depth: [10, 15, 20, 25, 30]\n",
        "+ Boosting method: gradient boosting \n",
        "+ Number of rounds: 200\n",
        "+ maximum bin: 256\n",
        "+ bagging fraction: 0.95"
      ]
    },
    {
      "cell_type": "code",
      "metadata": {
        "trusted": true,
        "id": "Gz2RdhDR2xXR"
      },
      "source": [
        "import lightgbm as lgb\n",
        "train_set = lgb.Dataset(X_trainset, y_trainset)\n",
        "valid_set = lgb.Dataset(X_validset, y_validset)"
      ],
      "execution_count": null,
      "outputs": []
    },
    {
      "cell_type": "code",
      "metadata": {
        "id": "vjT0BrQYY7Pl"
      },
      "source": [
        "num_leaves = 110\n",
        "max_depths = [10, 15, 20, 25,30]"
      ],
      "execution_count": null,
      "outputs": []
    },
    {
      "cell_type": "markdown",
      "metadata": {
        "id": "oCP2TFt3mwCG"
      },
      "source": [
        "## 5.Model Training and Validation on LGBM models"
      ]
    },
    {
      "cell_type": "code",
      "metadata": {
        "trusted": true,
        "id": "tIzofQuC2xXR",
        "colab": {
          "base_uri": "https://localhost:8080/"
        },
        "outputId": "2b4d2f0b-ab6a-41ac-b9b3-37dce77911ed"
      },
      "source": [
        "params = {\n",
        "        'objective': 'binary',\n",
        "        'metric': 'binary_logloss',\n",
        "        'boosting': 'gbdt',\n",
        "        'learning_rate': 0.3 ,\n",
        "        'verbose': 0,\n",
        "        'num_leaves': num_leaves,\n",
        "        'bagging_fraction': 0.95,\n",
        "        'bagging_freq': 1,\n",
        "        'bagging_seed': 1,\n",
        "        'feature_fraction': 0.9,\n",
        "        'feature_fraction_seed': 1,\n",
        "        'max_bin': 256,\n",
        "        'max_depth': max_depths[0],\n",
        "        'num_rounds': 200,\n",
        "        'metric' : 'auc'\n",
        "    }\n",
        "\n",
        "%time model_f1 = lgb.train(params, train_set=train_set,  valid_sets=valid_set, verbose_eval=5)"
      ],
      "execution_count": null,
      "outputs": [
        {
          "output_type": "stream",
          "text": [
            "[5]\tvalid_0's auc: 0.710928\n",
            "[10]\tvalid_0's auc: 0.723954\n",
            "[15]\tvalid_0's auc: 0.731661\n",
            "[20]\tvalid_0's auc: 0.736653\n",
            "[25]\tvalid_0's auc: 0.740424\n",
            "[30]\tvalid_0's auc: 0.744678\n",
            "[35]\tvalid_0's auc: 0.749056\n",
            "[40]\tvalid_0's auc: 0.752277\n",
            "[45]\tvalid_0's auc: 0.754501\n",
            "[50]\tvalid_0's auc: 0.756448\n",
            "[55]\tvalid_0's auc: 0.758097\n",
            "[60]\tvalid_0's auc: 0.75991\n",
            "[65]\tvalid_0's auc: 0.761418\n",
            "[70]\tvalid_0's auc: 0.762683\n",
            "[75]\tvalid_0's auc: 0.764243\n",
            "[80]\tvalid_0's auc: 0.765646\n",
            "[85]\tvalid_0's auc: 0.766883\n",
            "[90]\tvalid_0's auc: 0.767921\n",
            "[95]\tvalid_0's auc: 0.769111\n",
            "[100]\tvalid_0's auc: 0.770006\n",
            "[105]\tvalid_0's auc: 0.770934\n",
            "[110]\tvalid_0's auc: 0.772012\n",
            "[115]\tvalid_0's auc: 0.772747\n",
            "[120]\tvalid_0's auc: 0.773835\n",
            "[125]\tvalid_0's auc: 0.774486\n",
            "[130]\tvalid_0's auc: 0.775258\n",
            "[135]\tvalid_0's auc: 0.775887\n",
            "[140]\tvalid_0's auc: 0.776838\n",
            "[145]\tvalid_0's auc: 0.777587\n",
            "[150]\tvalid_0's auc: 0.778113\n",
            "[155]\tvalid_0's auc: 0.778714\n",
            "[160]\tvalid_0's auc: 0.77929\n",
            "[165]\tvalid_0's auc: 0.779884\n",
            "[170]\tvalid_0's auc: 0.780354\n",
            "[175]\tvalid_0's auc: 0.781586\n",
            "[180]\tvalid_0's auc: 0.782002\n",
            "[185]\tvalid_0's auc: 0.782517\n",
            "[190]\tvalid_0's auc: 0.783075\n",
            "[195]\tvalid_0's auc: 0.783496\n",
            "[200]\tvalid_0's auc: 0.784083\n",
            "CPU times: user 8min 20s, sys: 3 s, total: 8min 23s\n",
            "Wall time: 4min 25s\n"
          ],
          "name": "stdout"
        }
      ]
    },
    {
      "cell_type": "code",
      "metadata": {
        "colab": {
          "base_uri": "https://localhost:8080/"
        },
        "id": "A-X4wjFGjrpP",
        "outputId": "adb6c1ec-b887-478a-ec31-98cf753df918"
      },
      "source": [
        "params = {\n",
        "        'objective': 'binary',\n",
        "        'metric': 'binary_logloss',\n",
        "        'boosting': 'gbdt',\n",
        "        'learning_rate': 0.3 ,\n",
        "        'verbose': 0,\n",
        "        'num_leaves': num_leaves,\n",
        "        'bagging_fraction': 0.95,\n",
        "        'bagging_freq': 1,\n",
        "        'bagging_seed': 1,\n",
        "        'feature_fraction': 0.9,\n",
        "        'feature_fraction_seed': 1,\n",
        "        'max_bin': 256,\n",
        "        'max_depth': max_depths[1],\n",
        "        'num_rounds': 200,\n",
        "        'metric' : 'auc'\n",
        "    }\n",
        "\n",
        "%time model_f2 = lgb.train(params, train_set=train_set,  valid_sets=valid_set, verbose_eval=5)"
      ],
      "execution_count": null,
      "outputs": [
        {
          "output_type": "stream",
          "text": [
            "[5]\tvalid_0's auc: 0.727917\n",
            "[10]\tvalid_0's auc: 0.742629\n",
            "[15]\tvalid_0's auc: 0.74811\n",
            "[20]\tvalid_0's auc: 0.754257\n",
            "[25]\tvalid_0's auc: 0.758256\n",
            "[30]\tvalid_0's auc: 0.76119\n",
            "[35]\tvalid_0's auc: 0.763674\n",
            "[40]\tvalid_0's auc: 0.76626\n",
            "[45]\tvalid_0's auc: 0.7681\n",
            "[50]\tvalid_0's auc: 0.769933\n",
            "[55]\tvalid_0's auc: 0.771692\n",
            "[60]\tvalid_0's auc: 0.773121\n",
            "[65]\tvalid_0's auc: 0.774693\n",
            "[70]\tvalid_0's auc: 0.776149\n",
            "[75]\tvalid_0's auc: 0.777157\n",
            "[80]\tvalid_0's auc: 0.778674\n",
            "[85]\tvalid_0's auc: 0.780085\n",
            "[90]\tvalid_0's auc: 0.78098\n",
            "[95]\tvalid_0's auc: 0.782016\n",
            "[100]\tvalid_0's auc: 0.783028\n",
            "[105]\tvalid_0's auc: 0.783782\n",
            "[110]\tvalid_0's auc: 0.784875\n",
            "[115]\tvalid_0's auc: 0.785417\n",
            "[120]\tvalid_0's auc: 0.786042\n",
            "[125]\tvalid_0's auc: 0.78665\n",
            "[130]\tvalid_0's auc: 0.787237\n",
            "[135]\tvalid_0's auc: 0.787897\n",
            "[140]\tvalid_0's auc: 0.788426\n",
            "[145]\tvalid_0's auc: 0.788904\n",
            "[150]\tvalid_0's auc: 0.789517\n",
            "[155]\tvalid_0's auc: 0.78991\n",
            "[160]\tvalid_0's auc: 0.790561\n",
            "[165]\tvalid_0's auc: 0.791319\n",
            "[170]\tvalid_0's auc: 0.791855\n",
            "[175]\tvalid_0's auc: 0.792519\n",
            "[180]\tvalid_0's auc: 0.792922\n",
            "[185]\tvalid_0's auc: 0.793727\n",
            "[190]\tvalid_0's auc: 0.794061\n",
            "[195]\tvalid_0's auc: 0.794584\n",
            "[200]\tvalid_0's auc: 0.794811\n",
            "CPU times: user 9min 27s, sys: 1.28 s, total: 9min 28s\n",
            "Wall time: 4min 51s\n"
          ],
          "name": "stdout"
        }
      ]
    },
    {
      "cell_type": "code",
      "metadata": {
        "colab": {
          "base_uri": "https://localhost:8080/"
        },
        "id": "xnMSA2ahrl_J",
        "outputId": "0e76f819-f26b-4fa8-b811-66193ee33443"
      },
      "source": [
        "params = {\n",
        "        'objective': 'binary',\n",
        "        'metric': 'binary_logloss',\n",
        "        'boosting': 'gbdt',\n",
        "        'learning_rate': 0.3 ,\n",
        "        'verbose': 0,\n",
        "        'num_leaves': num_leaves,\n",
        "        'bagging_fraction': 0.95,\n",
        "        'bagging_freq': 1,\n",
        "        'bagging_seed': 1,\n",
        "        'feature_fraction': 0.9,\n",
        "        'feature_fraction_seed': 1,\n",
        "        'max_bin': 256,\n",
        "        'max_depth': max_depths[2],\n",
        "        'num_rounds': 200,\n",
        "        'metric' : 'auc'\n",
        "    }\n",
        "\n",
        "%time model_f3 = lgb.train(params, train_set=train_set,  valid_sets=valid_set, verbose_eval=5)"
      ],
      "execution_count": null,
      "outputs": [
        {
          "output_type": "stream",
          "text": [
            "[5]\tvalid_0's auc: 0.734133\n",
            "[10]\tvalid_0's auc: 0.749742\n",
            "[15]\tvalid_0's auc: 0.75615\n",
            "[20]\tvalid_0's auc: 0.761276\n",
            "[25]\tvalid_0's auc: 0.766358\n",
            "[30]\tvalid_0's auc: 0.769127\n",
            "[35]\tvalid_0's auc: 0.771531\n",
            "[40]\tvalid_0's auc: 0.773761\n",
            "[45]\tvalid_0's auc: 0.775287\n",
            "[50]\tvalid_0's auc: 0.777329\n",
            "[55]\tvalid_0's auc: 0.779154\n",
            "[60]\tvalid_0's auc: 0.780391\n",
            "[65]\tvalid_0's auc: 0.782072\n",
            "[70]\tvalid_0's auc: 0.783786\n",
            "[75]\tvalid_0's auc: 0.784989\n",
            "[80]\tvalid_0's auc: 0.785685\n",
            "[85]\tvalid_0's auc: 0.786851\n",
            "[90]\tvalid_0's auc: 0.787643\n",
            "[95]\tvalid_0's auc: 0.788312\n",
            "[100]\tvalid_0's auc: 0.789305\n",
            "[105]\tvalid_0's auc: 0.790256\n",
            "[110]\tvalid_0's auc: 0.791037\n",
            "[115]\tvalid_0's auc: 0.79177\n",
            "[120]\tvalid_0's auc: 0.792466\n",
            "[125]\tvalid_0's auc: 0.792988\n",
            "[130]\tvalid_0's auc: 0.793478\n",
            "[135]\tvalid_0's auc: 0.793961\n",
            "[140]\tvalid_0's auc: 0.794871\n",
            "[145]\tvalid_0's auc: 0.795495\n",
            "[150]\tvalid_0's auc: 0.795952\n",
            "[155]\tvalid_0's auc: 0.796269\n",
            "[160]\tvalid_0's auc: 0.796888\n",
            "[165]\tvalid_0's auc: 0.797808\n",
            "[170]\tvalid_0's auc: 0.7982\n",
            "[175]\tvalid_0's auc: 0.798443\n",
            "[180]\tvalid_0's auc: 0.798959\n",
            "[185]\tvalid_0's auc: 0.799395\n",
            "[190]\tvalid_0's auc: 0.799687\n",
            "[195]\tvalid_0's auc: 0.800153\n",
            "[200]\tvalid_0's auc: 0.800409\n",
            "CPU times: user 11min 16s, sys: 1.54 s, total: 11min 17s\n",
            "Wall time: 5min 47s\n"
          ],
          "name": "stdout"
        }
      ]
    },
    {
      "cell_type": "code",
      "metadata": {
        "colab": {
          "base_uri": "https://localhost:8080/"
        },
        "id": "T8H-7YQBwUrf",
        "outputId": "ecc2f653-950c-4337-d9bb-05ddef901936"
      },
      "source": [
        "params = {\n",
        "        'objective': 'binary',\n",
        "        'metric': 'binary_logloss',\n",
        "        'boosting': 'gbdt',\n",
        "        'learning_rate': 0.3 ,\n",
        "        'verbose': 0,\n",
        "        'num_leaves': num_leaves,\n",
        "        'bagging_fraction': 0.95,\n",
        "        'bagging_freq': 1,\n",
        "        'bagging_seed': 1,\n",
        "        'feature_fraction': 0.9,\n",
        "        'feature_fraction_seed': 1,\n",
        "        'max_bin': 256,\n",
        "        'max_depth': max_depths[3],\n",
        "        'num_rounds': 200,\n",
        "        'metric' : 'auc'\n",
        "    }\n",
        "\n",
        "%time model_f4 = lgb.train(params, train_set=train_set,  valid_sets=valid_set, verbose_eval=5)"
      ],
      "execution_count": null,
      "outputs": [
        {
          "output_type": "stream",
          "text": [
            "[5]\tvalid_0's auc: 0.736351\n",
            "[10]\tvalid_0's auc: 0.754592\n",
            "[15]\tvalid_0's auc: 0.76195\n",
            "[20]\tvalid_0's auc: 0.766405\n",
            "[25]\tvalid_0's auc: 0.770538\n",
            "[30]\tvalid_0's auc: 0.772566\n",
            "[35]\tvalid_0's auc: 0.775789\n",
            "[40]\tvalid_0's auc: 0.777994\n",
            "[45]\tvalid_0's auc: 0.779658\n",
            "[50]\tvalid_0's auc: 0.781394\n",
            "[55]\tvalid_0's auc: 0.783194\n",
            "[60]\tvalid_0's auc: 0.784808\n",
            "[65]\tvalid_0's auc: 0.786109\n",
            "[70]\tvalid_0's auc: 0.787265\n",
            "[75]\tvalid_0's auc: 0.788079\n",
            "[80]\tvalid_0's auc: 0.789109\n",
            "[85]\tvalid_0's auc: 0.78986\n",
            "[90]\tvalid_0's auc: 0.790613\n",
            "[95]\tvalid_0's auc: 0.791347\n",
            "[100]\tvalid_0's auc: 0.79209\n",
            "[105]\tvalid_0's auc: 0.793348\n",
            "[110]\tvalid_0's auc: 0.79409\n",
            "[115]\tvalid_0's auc: 0.794754\n",
            "[120]\tvalid_0's auc: 0.795411\n",
            "[125]\tvalid_0's auc: 0.795866\n",
            "[130]\tvalid_0's auc: 0.796604\n",
            "[135]\tvalid_0's auc: 0.79781\n",
            "[140]\tvalid_0's auc: 0.798172\n",
            "[145]\tvalid_0's auc: 0.798723\n",
            "[150]\tvalid_0's auc: 0.799132\n",
            "[155]\tvalid_0's auc: 0.799488\n",
            "[160]\tvalid_0's auc: 0.800115\n",
            "[165]\tvalid_0's auc: 0.800509\n",
            "[170]\tvalid_0's auc: 0.800784\n",
            "[175]\tvalid_0's auc: 0.801118\n",
            "[180]\tvalid_0's auc: 0.801448\n",
            "[185]\tvalid_0's auc: 0.801882\n",
            "[190]\tvalid_0's auc: 0.8022\n",
            "[195]\tvalid_0's auc: 0.802578\n",
            "[200]\tvalid_0's auc: 0.802953\n",
            "CPU times: user 12min 34s, sys: 1.44 s, total: 12min 36s\n",
            "Wall time: 6min 27s\n"
          ],
          "name": "stdout"
        }
      ]
    },
    {
      "cell_type": "code",
      "metadata": {
        "colab": {
          "base_uri": "https://localhost:8080/"
        },
        "id": "eQNWtCsO00B0",
        "outputId": "986a9738-51aa-4662-aa3d-280ca52513ea"
      },
      "source": [
        "params = {\n",
        "        'objective': 'binary',\n",
        "        'metric': 'binary_logloss',\n",
        "        'boosting': 'gbdt',\n",
        "        'learning_rate': 0.3 ,\n",
        "        'verbose': 0,\n",
        "        'num_leaves': num_leaves,\n",
        "        'bagging_fraction': 0.95,\n",
        "        'bagging_freq': 1,\n",
        "        'bagging_seed': 1,\n",
        "        'feature_fraction': 0.9,\n",
        "        'feature_fraction_seed': 1,\n",
        "        'max_bin': 256,\n",
        "        'max_depth': max_depths[4],\n",
        "        'num_rounds': 200,\n",
        "        'metric' : 'auc'\n",
        "    }\n",
        "\n",
        "%time model_f5 = lgb.train(params, train_set=train_set,  valid_sets=valid_set, verbose_eval=5)"
      ],
      "execution_count": null,
      "outputs": [
        {
          "output_type": "stream",
          "text": [
            "[5]\tvalid_0's auc: 0.739442\n",
            "[10]\tvalid_0's auc: 0.757442\n",
            "[15]\tvalid_0's auc: 0.766439\n",
            "[20]\tvalid_0's auc: 0.77132\n",
            "[25]\tvalid_0's auc: 0.774735\n",
            "[30]\tvalid_0's auc: 0.777071\n",
            "[35]\tvalid_0's auc: 0.779247\n",
            "[40]\tvalid_0's auc: 0.781616\n",
            "[45]\tvalid_0's auc: 0.782953\n",
            "[50]\tvalid_0's auc: 0.785154\n",
            "[55]\tvalid_0's auc: 0.786877\n",
            "[60]\tvalid_0's auc: 0.787993\n",
            "[65]\tvalid_0's auc: 0.788839\n",
            "[70]\tvalid_0's auc: 0.790254\n",
            "[75]\tvalid_0's auc: 0.791088\n",
            "[80]\tvalid_0's auc: 0.792455\n",
            "[85]\tvalid_0's auc: 0.79365\n",
            "[90]\tvalid_0's auc: 0.794445\n",
            "[95]\tvalid_0's auc: 0.795072\n",
            "[100]\tvalid_0's auc: 0.796276\n",
            "[105]\tvalid_0's auc: 0.797737\n",
            "[110]\tvalid_0's auc: 0.798265\n",
            "[115]\tvalid_0's auc: 0.799021\n",
            "[120]\tvalid_0's auc: 0.799964\n",
            "[125]\tvalid_0's auc: 0.800469\n",
            "[130]\tvalid_0's auc: 0.801445\n",
            "[135]\tvalid_0's auc: 0.801851\n",
            "[140]\tvalid_0's auc: 0.802299\n",
            "[145]\tvalid_0's auc: 0.802599\n",
            "[150]\tvalid_0's auc: 0.803381\n",
            "[155]\tvalid_0's auc: 0.803696\n",
            "[160]\tvalid_0's auc: 0.803926\n",
            "[165]\tvalid_0's auc: 0.80443\n",
            "[170]\tvalid_0's auc: 0.804694\n",
            "[175]\tvalid_0's auc: 0.804897\n",
            "[180]\tvalid_0's auc: 0.80524\n",
            "[185]\tvalid_0's auc: 0.805486\n",
            "[190]\tvalid_0's auc: 0.805804\n",
            "[195]\tvalid_0's auc: 0.806059\n",
            "[200]\tvalid_0's auc: 0.806525\n",
            "CPU times: user 14min 7s, sys: 1.66 s, total: 14min 9s\n",
            "Wall time: 7min 14s\n"
          ],
          "name": "stdout"
        }
      ]
    },
    {
      "cell_type": "markdown",
      "metadata": {
        "id": "Wub80GmgYc6O"
      },
      "source": [
        "## 6.Model Evaluation on LGBM models"
      ]
    },
    {
      "cell_type": "code",
      "metadata": {
        "trusted": true,
        "id": "4gQp0bre2xXR"
      },
      "source": [
        "from sklearn.metrics import accuracy_score\n",
        "def evaluation_lgbm(model, X =X_validset , y= y_validset):\n",
        "    \n",
        "    out = model.predict(X)\n",
        "    preds = out>=0.5\n",
        "    acc = accuracy_score(preds, y)\n",
        "    print(\"Evaluation acc:\", acc)\n",
        "    return acc\n"
      ],
      "execution_count": null,
      "outputs": []
    },
    {
      "cell_type": "code",
      "metadata": {
        "colab": {
          "base_uri": "https://localhost:8080/"
        },
        "id": "GHxIxV35oaTk",
        "outputId": "7829e9a6-9704-4d0c-a37d-3840728c8984"
      },
      "source": [
        "X_validset.shape\n"
      ],
      "execution_count": null,
      "outputs": [
        {
          "output_type": "execute_result",
          "data": {
            "text/plain": [
              "(1475484, 27)"
            ]
          },
          "metadata": {
            "tags": []
          },
          "execution_count": 32
        }
      ]
    },
    {
      "cell_type": "code",
      "metadata": {
        "colab": {
          "base_uri": "https://localhost:8080/"
        },
        "id": "RYjOzNQ9mn2c",
        "outputId": "f7bc08ea-0152-432e-e9a8-4c8bad4f7c19"
      },
      "source": [
        "acc_1 = evaluation_lgbm(model_f1)\n",
        "acc_2 = evaluation_lgbm(model_f2)\n",
        "acc_3 = evaluation_lgbm(model_f3)\n",
        "acc_4 = evaluation_lgbm(model_f4)\n",
        "acc_5 = evaluation_lgbm(model_f5)"
      ],
      "execution_count": null,
      "outputs": [
        {
          "output_type": "stream",
          "text": [
            "Evaluation acc: 0.709764389176704\n",
            "Evaluation acc: 0.719106408473423\n",
            "Evaluation acc: 0.7236893114395005\n",
            "Evaluation acc: 0.7258221708944319\n",
            "Evaluation acc: 0.728842196865571\n"
          ],
          "name": "stdout"
        }
      ]
    },
    {
      "cell_type": "code",
      "metadata": {
        "colab": {
          "base_uri": "https://localhost:8080/",
          "height": 196
        },
        "id": "t81mBxgjhG39",
        "outputId": "5b26389b-d06b-451e-a368-ba0f9bd6465c"
      },
      "source": [
        "eval_df = pd.DataFrame({\"Lgbm with max_depth\":max_depths,\"Validation Accuracy\":[acc_1,acc_2,acc_3,acc_4,acc_5]})\n",
        "eval_df"
      ],
      "execution_count": null,
      "outputs": [
        {
          "output_type": "execute_result",
          "data": {
            "text/html": [
              "<div>\n",
              "<style scoped>\n",
              "    .dataframe tbody tr th:only-of-type {\n",
              "        vertical-align: middle;\n",
              "    }\n",
              "\n",
              "    .dataframe tbody tr th {\n",
              "        vertical-align: top;\n",
              "    }\n",
              "\n",
              "    .dataframe thead th {\n",
              "        text-align: right;\n",
              "    }\n",
              "</style>\n",
              "<table border=\"1\" class=\"dataframe\">\n",
              "  <thead>\n",
              "    <tr style=\"text-align: right;\">\n",
              "      <th></th>\n",
              "      <th>Lgbm with max_depth</th>\n",
              "      <th>Validation Accuracy</th>\n",
              "    </tr>\n",
              "  </thead>\n",
              "  <tbody>\n",
              "    <tr>\n",
              "      <th>0</th>\n",
              "      <td>10</td>\n",
              "      <td>0.709764</td>\n",
              "    </tr>\n",
              "    <tr>\n",
              "      <th>1</th>\n",
              "      <td>15</td>\n",
              "      <td>0.719106</td>\n",
              "    </tr>\n",
              "    <tr>\n",
              "      <th>2</th>\n",
              "      <td>20</td>\n",
              "      <td>0.723689</td>\n",
              "    </tr>\n",
              "    <tr>\n",
              "      <th>3</th>\n",
              "      <td>25</td>\n",
              "      <td>0.725822</td>\n",
              "    </tr>\n",
              "    <tr>\n",
              "      <th>4</th>\n",
              "      <td>30</td>\n",
              "      <td>0.728842</td>\n",
              "    </tr>\n",
              "  </tbody>\n",
              "</table>\n",
              "</div>"
            ],
            "text/plain": [
              "   Lgbm with max_depth  Validation Accuracy\n",
              "0                   10             0.709764\n",
              "1                   15             0.719106\n",
              "2                   20             0.723689\n",
              "3                   25             0.725822\n",
              "4                   30             0.728842"
            ]
          },
          "metadata": {
            "tags": []
          },
          "execution_count": 36
        }
      ]
    },
    {
      "cell_type": "markdown",
      "metadata": {
        "id": "PrcZLlG1pCWg"
      },
      "source": [
        "## Create Submission Files"
      ]
    },
    {
      "cell_type": "code",
      "metadata": {
        "trusted": true,
        "id": "vob9glqX2xXR",
        "colab": {
          "base_uri": "https://localhost:8080/"
        },
        "outputId": "0dac4b80-7ed4-4e9e-db46-7f8c405c606b"
      },
      "source": [
        "models = [model_f1,model_f2,model_f3,model_f4,model_f5]\n",
        "for i in range(len(models)):\n",
        "  preds_test = models[i].predict(test_data)\n",
        "  submission = pd.DataFrame()\n",
        "  submission['id'] = ids\n",
        "  submission['target'] = preds_test\n",
        "  submission.to_csv(root + 'submission_lgbm_model_'+ str(i)+'.csv.gz', compression = 'gzip', index=False, float_format = '%.5f')\n",
        "  print(\"Predictions from model \",i,\": \",preds_test)"
      ],
      "execution_count": null,
      "outputs": [
        {
          "output_type": "stream",
          "text": [
            "Predictions from model  0 :  [0.47177512 0.48584262 0.19651648 ... 0.39917036 0.30263348 0.36468783]\n",
            "Predictions from model  1 :  [0.45280296 0.55415074 0.17824637 ... 0.41500494 0.30757934 0.34520384]\n",
            "Predictions from model  2 :  [0.39847416 0.48724786 0.15954141 ... 0.38293317 0.27657349 0.28451098]\n",
            "Predictions from model  3 :  [0.3825275  0.39659855 0.15904321 ... 0.3515784  0.21812496 0.28995803]\n",
            "Predictions from model  4 :  [0.3951268  0.45704878 0.14609333 ... 0.35033303 0.23065677 0.2885925 ]\n"
          ],
          "name": "stdout"
        }
      ]
    },
    {
      "cell_type": "markdown",
      "metadata": {
        "id": "SZheNYx1yU4D"
      },
      "source": [
        "## Accuracy Scores from kaggle test set\n",
        "\n",
        "|Model name       | private score  | public score |\n",
        "|- |-| -|\n",
        "| LGBM Boosting Machine Model 4 | 0.67423 | 0.67256\n",
        "| LGBM Boosting Machine Model 3 | 0.67435 | 0.67241\n",
        "| LGBM Boosting Machine Model 2 | 0.67416 | 0.67208\n",
        "| LGBM Boosting Machine Model 1 | 0.67416 | 0.67188\n",
        "| LGBM Boosting Machine Model 0 | 0.67206 | 0.66940"
      ]
    },
    {
      "cell_type": "code",
      "metadata": {
        "id": "qTaF_uJ1yUQQ"
      },
      "source": [
        ""
      ],
      "execution_count": null,
      "outputs": []
    },
    {
      "cell_type": "markdown",
      "metadata": {
        "id": "vp_RmkmrlND-"
      },
      "source": [
        "# 4. Wide & Depth neural network model"
      ]
    },
    {
      "cell_type": "markdown",
      "metadata": {
        "id": "YY44a0DO2xXP"
      },
      "source": [
        "### Label Encoding for categorical data\n",
        "Convert categorical data into numerical labels before using embedding"
      ]
    },
    {
      "cell_type": "code",
      "metadata": {
        "colab": {
          "base_uri": "https://localhost:8080/"
        },
        "id": "-wtfXcVofnmD",
        "outputId": "6d76e09e-e1fc-4491-a00a-c06c171d4e9f"
      },
      "source": [
        "from sklearn.preprocessing import LabelEncoder\n",
        "categorical_ls1 = ['source_system_tab', 'source_screen_name','source_type','genre_ids','gender']\n",
        "categorical_ls2 = ['artist_name','composer', 'lyricist']\n",
        "\n",
        "\n",
        "numerical_ls = ['song_length','language','bd',\"registration_init_year\",\n",
        "                \"expiration_day\",\"expiration_month\",\"expiration_year\",\n",
        "                \"genre_count\",\"composer_count\",\"lyricist_count\",\"composer_artist_intersect\",\n",
        "                \"composer_lyricist_intersect\",\"artist_lyricist_intersect\"]\n",
        "\n",
        "max_values = {}\n",
        "# labelencoders = {}\n",
        "for col in categorical_ls1:\n",
        "    print(col)\n",
        "    lbl = LabelEncoder()\n",
        "    df = pd.concat([X_trainset[col], X_validset[col],test_data[col]],ignore_index=True)\n",
        "    lbl.fit(df)\n",
        "    df = lbl.transform(list(df.values.astype('str',copy=False)))\n",
        "    X_trainset[col] = lbl.transform(list(X_trainset[col].values.astype('str',copy=False)))\n",
        "    X_validset[col] = lbl.transform(list(X_validset[col].values.astype('str',copy=False)))\n",
        "    test_data[col] = lbl.transform(list(test_data[col].values.astype('str',copy=False)))\n",
        "    max_values[col] = df.max() + 2 #set the range of embedding input larger\n",
        "\n",
        "# Compute embedding dimensions\n",
        "emb_dims1 = []\n",
        "emb_dims2 = []\n",
        "for i in categorical_ls1:\n",
        "    emb_dims1.append((max_values[i], min((max_values[i]+1)//2, 50)))"
      ],
      "execution_count": null,
      "outputs": [
        {
          "output_type": "stream",
          "text": [
            "source_system_tab\n",
            "source_screen_name\n",
            "source_type\n",
            "genre_ids\n",
            "gender\n"
          ],
          "name": "stdout"
        }
      ]
    },
    {
      "cell_type": "code",
      "metadata": {
        "trusted": true,
        "id": "Aj98GB3g2xXS",
        "colab": {
          "base_uri": "https://localhost:8080/",
          "height": 283
        },
        "outputId": "5e91a251-2bfe-4904-e1ca-9d9a0864229f"
      },
      "source": [
        "# max_values\n",
        "X_trainset.head()"
      ],
      "execution_count": null,
      "outputs": [
        {
          "output_type": "execute_result",
          "data": {
            "text/html": [
              "<div>\n",
              "<style scoped>\n",
              "    .dataframe tbody tr th:only-of-type {\n",
              "        vertical-align: middle;\n",
              "    }\n",
              "\n",
              "    .dataframe tbody tr th {\n",
              "        vertical-align: top;\n",
              "    }\n",
              "\n",
              "    .dataframe thead th {\n",
              "        text-align: right;\n",
              "    }\n",
              "</style>\n",
              "<table border=\"1\" class=\"dataframe\">\n",
              "  <thead>\n",
              "    <tr style=\"text-align: right;\">\n",
              "      <th></th>\n",
              "      <th>msno</th>\n",
              "      <th>song_id</th>\n",
              "      <th>source_system_tab</th>\n",
              "      <th>source_screen_name</th>\n",
              "      <th>source_type</th>\n",
              "      <th>song_length</th>\n",
              "      <th>genre_ids</th>\n",
              "      <th>artist_name</th>\n",
              "      <th>composer</th>\n",
              "      <th>lyricist</th>\n",
              "      <th>language</th>\n",
              "      <th>city</th>\n",
              "      <th>bd</th>\n",
              "      <th>gender</th>\n",
              "      <th>registered_via</th>\n",
              "      <th>registration_init_day</th>\n",
              "      <th>registration_init_month</th>\n",
              "      <th>registration_init_year</th>\n",
              "      <th>expiration_day</th>\n",
              "      <th>expiration_month</th>\n",
              "      <th>expiration_year</th>\n",
              "      <th>genre_count</th>\n",
              "      <th>composer_count</th>\n",
              "      <th>lyricist_count</th>\n",
              "      <th>composer_artist_intersect</th>\n",
              "      <th>composer_lyricist_intersect</th>\n",
              "      <th>artist_lyricist_intersect</th>\n",
              "    </tr>\n",
              "  </thead>\n",
              "  <tbody>\n",
              "    <tr>\n",
              "      <th>7066318</th>\n",
              "      <td>BQ7nOoOUipsqjOBANK+ilA8F7TVaOHSI8gVPWElXsuI=</td>\n",
              "      <td>FaTUlIiCh/6sEOasPm1vgIk9XqavgSGgRGYuOkzTF0o=</td>\n",
              "      <td>0</td>\n",
              "      <td>3</td>\n",
              "      <td>7</td>\n",
              "      <td>203520.0</td>\n",
              "      <td>364</td>\n",
              "      <td>田馥甄 (Hebe)</td>\n",
              "      <td>倪子岡</td>\n",
              "      <td>李格弟</td>\n",
              "      <td>3.0</td>\n",
              "      <td>5</td>\n",
              "      <td>25.0</td>\n",
              "      <td>0</td>\n",
              "      <td>9</td>\n",
              "      <td>2</td>\n",
              "      <td>9</td>\n",
              "      <td>2006</td>\n",
              "      <td>11</td>\n",
              "      <td>10</td>\n",
              "      <td>2017</td>\n",
              "      <td>1</td>\n",
              "      <td>1</td>\n",
              "      <td>1</td>\n",
              "      <td>0</td>\n",
              "      <td>0</td>\n",
              "      <td>0</td>\n",
              "    </tr>\n",
              "    <tr>\n",
              "      <th>1471565</th>\n",
              "      <td>Ul+UpO5PxuhCn040AK8gzR1A/mE/k3KbL13gO7Uc4Ts=</td>\n",
              "      <td>+SstqMwhQPBQFTPBhLKPT642IiBDXzZFwlzsLl4cGXo=</td>\n",
              "      <td>3</td>\n",
              "      <td>8</td>\n",
              "      <td>3</td>\n",
              "      <td>283846.0</td>\n",
              "      <td>371</td>\n",
              "      <td>陳勢安 (Andrew Tan)</td>\n",
              "      <td>覃嘉健</td>\n",
              "      <td>馬嵩惟</td>\n",
              "      <td>3.0</td>\n",
              "      <td>13</td>\n",
              "      <td>47.0</td>\n",
              "      <td>0</td>\n",
              "      <td>9</td>\n",
              "      <td>1</td>\n",
              "      <td>2</td>\n",
              "      <td>2006</td>\n",
              "      <td>30</td>\n",
              "      <td>9</td>\n",
              "      <td>2017</td>\n",
              "      <td>1</td>\n",
              "      <td>1</td>\n",
              "      <td>1</td>\n",
              "      <td>0</td>\n",
              "      <td>0</td>\n",
              "      <td>0</td>\n",
              "    </tr>\n",
              "    <tr>\n",
              "      <th>6176886</th>\n",
              "      <td>sa6oKy94c62R5Eq0YHkNzZrJSo9j5E7JGjTDHnYRKqs=</td>\n",
              "      <td>K6fBQxiNhgWazjXrZUGlZIm9ltT4o+Vq19sWmZRdAhg=</td>\n",
              "      <td>2</td>\n",
              "      <td>12</td>\n",
              "      <td>2</td>\n",
              "      <td>296960.0</td>\n",
              "      <td>371</td>\n",
              "      <td>蔡依林 (Jolin Tsai)</td>\n",
              "      <td>郭子</td>\n",
              "      <td>鄔裕康</td>\n",
              "      <td>3.0</td>\n",
              "      <td>5</td>\n",
              "      <td>38.0</td>\n",
              "      <td>1</td>\n",
              "      <td>7</td>\n",
              "      <td>27</td>\n",
              "      <td>11</td>\n",
              "      <td>2011</td>\n",
              "      <td>30</td>\n",
              "      <td>12</td>\n",
              "      <td>2017</td>\n",
              "      <td>1</td>\n",
              "      <td>1</td>\n",
              "      <td>1</td>\n",
              "      <td>0</td>\n",
              "      <td>0</td>\n",
              "      <td>0</td>\n",
              "    </tr>\n",
              "    <tr>\n",
              "      <th>3527889</th>\n",
              "      <td>LG/BLgJxw5AvXy0pkgaHYYWeU7jKS+ms/51+7TaBY9Y=</td>\n",
              "      <td>O+/KJ5a5GzbgLZrCOw/t/iDOPTrDcrz5ZnOtaK9blA8=</td>\n",
              "      <td>3</td>\n",
              "      <td>8</td>\n",
              "      <td>0</td>\n",
              "      <td>235403.0</td>\n",
              "      <td>200</td>\n",
              "      <td>ONE OK ROCK</td>\n",
              "      <td>Toru/Taka</td>\n",
              "      <td>Taka</td>\n",
              "      <td>17.0</td>\n",
              "      <td>1</td>\n",
              "      <td>27.0</td>\n",
              "      <td>2</td>\n",
              "      <td>7</td>\n",
              "      <td>1</td>\n",
              "      <td>6</td>\n",
              "      <td>2013</td>\n",
              "      <td>1</td>\n",
              "      <td>10</td>\n",
              "      <td>2017</td>\n",
              "      <td>1</td>\n",
              "      <td>2</td>\n",
              "      <td>1</td>\n",
              "      <td>0</td>\n",
              "      <td>1</td>\n",
              "      <td>0</td>\n",
              "    </tr>\n",
              "    <tr>\n",
              "      <th>6073849</th>\n",
              "      <td>KmAJtsNcrofH6qMoHvET89mQAlC1EN3r3r3rkfW2iT4=</td>\n",
              "      <td>WogFv1yz1n49l4gNSbf76bWxas8nNvzHntrj4FuzC24=</td>\n",
              "      <td>3</td>\n",
              "      <td>22</td>\n",
              "      <td>7</td>\n",
              "      <td>210604.0</td>\n",
              "      <td>371</td>\n",
              "      <td>Twins</td>\n",
              "      <td>no_data</td>\n",
              "      <td>no_data</td>\n",
              "      <td>24.0</td>\n",
              "      <td>13</td>\n",
              "      <td>28.0</td>\n",
              "      <td>1</td>\n",
              "      <td>9</td>\n",
              "      <td>2</td>\n",
              "      <td>11</td>\n",
              "      <td>2016</td>\n",
              "      <td>7</td>\n",
              "      <td>10</td>\n",
              "      <td>2017</td>\n",
              "      <td>1</td>\n",
              "      <td>0</td>\n",
              "      <td>0</td>\n",
              "      <td>0</td>\n",
              "      <td>1</td>\n",
              "      <td>0</td>\n",
              "    </tr>\n",
              "  </tbody>\n",
              "</table>\n",
              "</div>"
            ],
            "text/plain": [
              "                                                 msno  ... artist_lyricist_intersect\n",
              "7066318  BQ7nOoOUipsqjOBANK+ilA8F7TVaOHSI8gVPWElXsuI=  ...                         0\n",
              "1471565  Ul+UpO5PxuhCn040AK8gzR1A/mE/k3KbL13gO7Uc4Ts=  ...                         0\n",
              "6176886  sa6oKy94c62R5Eq0YHkNzZrJSo9j5E7JGjTDHnYRKqs=  ...                         0\n",
              "3527889  LG/BLgJxw5AvXy0pkgaHYYWeU7jKS+ms/51+7TaBY9Y=  ...                         0\n",
              "6073849  KmAJtsNcrofH6qMoHvET89mQAlC1EN3r3r3rkfW2iT4=  ...                         0\n",
              "\n",
              "[5 rows x 27 columns]"
            ]
          },
          "metadata": {
            "tags": []
          },
          "execution_count": 39
        }
      ]
    },
    {
      "cell_type": "code",
      "metadata": {
        "colab": {
          "base_uri": "https://localhost:8080/",
          "height": 367
        },
        "id": "ZZ12cGGbgSAr",
        "outputId": "45bf8b34-71ac-48c5-d10d-1b4f52959fe3"
      },
      "source": [
        "X_validset.head()"
      ],
      "execution_count": null,
      "outputs": [
        {
          "output_type": "execute_result",
          "data": {
            "text/html": [
              "<div>\n",
              "<style scoped>\n",
              "    .dataframe tbody tr th:only-of-type {\n",
              "        vertical-align: middle;\n",
              "    }\n",
              "\n",
              "    .dataframe tbody tr th {\n",
              "        vertical-align: top;\n",
              "    }\n",
              "\n",
              "    .dataframe thead th {\n",
              "        text-align: right;\n",
              "    }\n",
              "</style>\n",
              "<table border=\"1\" class=\"dataframe\">\n",
              "  <thead>\n",
              "    <tr style=\"text-align: right;\">\n",
              "      <th></th>\n",
              "      <th>msno</th>\n",
              "      <th>song_id</th>\n",
              "      <th>source_system_tab</th>\n",
              "      <th>source_screen_name</th>\n",
              "      <th>source_type</th>\n",
              "      <th>song_length</th>\n",
              "      <th>genre_ids</th>\n",
              "      <th>artist_name</th>\n",
              "      <th>composer</th>\n",
              "      <th>lyricist</th>\n",
              "      <th>language</th>\n",
              "      <th>city</th>\n",
              "      <th>bd</th>\n",
              "      <th>gender</th>\n",
              "      <th>registered_via</th>\n",
              "      <th>registration_init_day</th>\n",
              "      <th>registration_init_month</th>\n",
              "      <th>registration_init_year</th>\n",
              "      <th>expiration_day</th>\n",
              "      <th>expiration_month</th>\n",
              "      <th>expiration_year</th>\n",
              "      <th>genre_count</th>\n",
              "      <th>composer_count</th>\n",
              "      <th>lyricist_count</th>\n",
              "      <th>composer_artist_intersect</th>\n",
              "      <th>composer_lyricist_intersect</th>\n",
              "      <th>artist_lyricist_intersect</th>\n",
              "    </tr>\n",
              "  </thead>\n",
              "  <tbody>\n",
              "    <tr>\n",
              "      <th>3400479</th>\n",
              "      <td>RZDFiPWpvwi1RWF5NAPEkvmogqe+7rGys+zoLU9he2M=</td>\n",
              "      <td>MvON55vzjT7QW7GSs/UVLZrE/LJpMAVFUjXwZczdw40=</td>\n",
              "      <td>0</td>\n",
              "      <td>11</td>\n",
              "      <td>7</td>\n",
              "      <td>356379.0</td>\n",
              "      <td>97</td>\n",
              "      <td>Nas</td>\n",
              "      <td>Amy Winehouse| Salaam Remi| Nasir Jones p/k/a NAS</td>\n",
              "      <td>no_data</td>\n",
              "      <td>52.0</td>\n",
              "      <td>1</td>\n",
              "      <td>27.0</td>\n",
              "      <td>2</td>\n",
              "      <td>7</td>\n",
              "      <td>7</td>\n",
              "      <td>12</td>\n",
              "      <td>2010</td>\n",
              "      <td>20</td>\n",
              "      <td>9</td>\n",
              "      <td>2017</td>\n",
              "      <td>1</td>\n",
              "      <td>5</td>\n",
              "      <td>0</td>\n",
              "      <td>0</td>\n",
              "      <td>0</td>\n",
              "      <td>0</td>\n",
              "    </tr>\n",
              "    <tr>\n",
              "      <th>2481022</th>\n",
              "      <td>C3EZ5oh7XDt5fP9OY20RPlD8MA+rBknmvmDhA1tHGMU=</td>\n",
              "      <td>5PvPCUIB7vVuCNpQRKXIOcWvh9EerujDAbrjV7G6ZE0=</td>\n",
              "      <td>3</td>\n",
              "      <td>8</td>\n",
              "      <td>3</td>\n",
              "      <td>216920.0</td>\n",
              "      <td>349</td>\n",
              "      <td>貴族精選</td>\n",
              "      <td>no_data</td>\n",
              "      <td>Super Market| Microdot</td>\n",
              "      <td>31.0</td>\n",
              "      <td>5</td>\n",
              "      <td>27.0</td>\n",
              "      <td>2</td>\n",
              "      <td>3</td>\n",
              "      <td>11</td>\n",
              "      <td>12</td>\n",
              "      <td>2012</td>\n",
              "      <td>5</td>\n",
              "      <td>1</td>\n",
              "      <td>2018</td>\n",
              "      <td>1</td>\n",
              "      <td>0</td>\n",
              "      <td>2</td>\n",
              "      <td>0</td>\n",
              "      <td>0</td>\n",
              "      <td>0</td>\n",
              "    </tr>\n",
              "    <tr>\n",
              "      <th>5808216</th>\n",
              "      <td>O1pwjdTED6P3lKm52VBxVUtaSVc31S9PmIw+07WBNw4=</td>\n",
              "      <td>va3+1L2wraJkzDbHjvdo+e+0TTJcLko0k0pqBn09nJE=</td>\n",
              "      <td>3</td>\n",
              "      <td>8</td>\n",
              "      <td>3</td>\n",
              "      <td>268225.0</td>\n",
              "      <td>548</td>\n",
              "      <td>Various Artists</td>\n",
              "      <td>no_data</td>\n",
              "      <td>no_data</td>\n",
              "      <td>3.0</td>\n",
              "      <td>13</td>\n",
              "      <td>82.0</td>\n",
              "      <td>0</td>\n",
              "      <td>9</td>\n",
              "      <td>29</td>\n",
              "      <td>4</td>\n",
              "      <td>2007</td>\n",
              "      <td>23</td>\n",
              "      <td>1</td>\n",
              "      <td>2018</td>\n",
              "      <td>1</td>\n",
              "      <td>0</td>\n",
              "      <td>0</td>\n",
              "      <td>0</td>\n",
              "      <td>1</td>\n",
              "      <td>0</td>\n",
              "    </tr>\n",
              "    <tr>\n",
              "      <th>42686</th>\n",
              "      <td>WFCCMzA4hADGBduTS6X8mXlutyiC0P33QkTG6zr5yCg=</td>\n",
              "      <td>U9kojfZSKaiWOW94PKh1Riyv/zUWxmBRmv0XInQWLGw=</td>\n",
              "      <td>7</td>\n",
              "      <td>11</td>\n",
              "      <td>7</td>\n",
              "      <td>290063.0</td>\n",
              "      <td>364</td>\n",
              "      <td>周杰倫 (Jay Chou)</td>\n",
              "      <td>周杰倫</td>\n",
              "      <td>方文山</td>\n",
              "      <td>3.0</td>\n",
              "      <td>13</td>\n",
              "      <td>32.0</td>\n",
              "      <td>0</td>\n",
              "      <td>7</td>\n",
              "      <td>12</td>\n",
              "      <td>12</td>\n",
              "      <td>2010</td>\n",
              "      <td>9</td>\n",
              "      <td>9</td>\n",
              "      <td>2017</td>\n",
              "      <td>1</td>\n",
              "      <td>1</td>\n",
              "      <td>1</td>\n",
              "      <td>0</td>\n",
              "      <td>0</td>\n",
              "      <td>0</td>\n",
              "    </tr>\n",
              "    <tr>\n",
              "      <th>1850837</th>\n",
              "      <td>h0fTru8nYMv9bR0j6kBh8kiXDaybzWBYaSHbUIVzeBs=</td>\n",
              "      <td>J1sgBEFbcXSK6eiN7CK1WNxsso0/sY6t0BMX+c+iPNw=</td>\n",
              "      <td>0</td>\n",
              "      <td>11</td>\n",
              "      <td>7</td>\n",
              "      <td>220450.0</td>\n",
              "      <td>111</td>\n",
              "      <td>Usher</td>\n",
              "      <td>no_data</td>\n",
              "      <td>no_data</td>\n",
              "      <td>52.0</td>\n",
              "      <td>22</td>\n",
              "      <td>28.0</td>\n",
              "      <td>0</td>\n",
              "      <td>9</td>\n",
              "      <td>2</td>\n",
              "      <td>1</td>\n",
              "      <td>2008</td>\n",
              "      <td>28</td>\n",
              "      <td>9</td>\n",
              "      <td>2017</td>\n",
              "      <td>3</td>\n",
              "      <td>0</td>\n",
              "      <td>0</td>\n",
              "      <td>0</td>\n",
              "      <td>1</td>\n",
              "      <td>0</td>\n",
              "    </tr>\n",
              "  </tbody>\n",
              "</table>\n",
              "</div>"
            ],
            "text/plain": [
              "                                                 msno  ... artist_lyricist_intersect\n",
              "3400479  RZDFiPWpvwi1RWF5NAPEkvmogqe+7rGys+zoLU9he2M=  ...                         0\n",
              "2481022  C3EZ5oh7XDt5fP9OY20RPlD8MA+rBknmvmDhA1tHGMU=  ...                         0\n",
              "5808216  O1pwjdTED6P3lKm52VBxVUtaSVc31S9PmIw+07WBNw4=  ...                         0\n",
              "42686    WFCCMzA4hADGBduTS6X8mXlutyiC0P33QkTG6zr5yCg=  ...                         0\n",
              "1850837  h0fTru8nYMv9bR0j6kBh8kiXDaybzWBYaSHbUIVzeBs=  ...                         0\n",
              "\n",
              "[5 rows x 27 columns]"
            ]
          },
          "metadata": {
            "tags": []
          },
          "execution_count": 40
        }
      ]
    },
    {
      "cell_type": "markdown",
      "metadata": {
        "id": "w9KKFIdB1DR2"
      },
      "source": [
        ""
      ]
    },
    {
      "cell_type": "markdown",
      "metadata": {
        "id": "2n77iQaC2xXR"
      },
      "source": [
        "### **Wide and Deep Neural network model（2 branches-->merge two branches-->main branch）**\n",
        "![网络图](https://github.com/LianxinGao/kaggle/blob/master/pics/net.jpg?raw=true)\n",
        "\n",
        "This model transform categorical attributes into dense vectors using embedding network in neural network, which enable us to reduce the dimension of categorical data and extract main features like PCA.\n",
        "\n",
        "Then it combines dense embedded vectors with numerical data for features selection and classifcation in the main branch. The main branch is a traditional Neural network using linear layers, activation functions (relu, softmax, sigmoid),which works as a classfication function\n",
        "\n",
        "The output is possibility that user may repeat listening to the music.\n",
        "\n",
        "#### **Network Architecture**\n",
        "The architecture of neural network is as follow:\n",
        "+ Block 1:\n",
        "  + Linear\n",
        "  + Relu\n",
        "  + Dropout\n",
        "  + Batch Normalization\n",
        "\n",
        "+ Branch of categorical data:\n",
        "  + categorical input data\n",
        "  + Embedding\n",
        "  + Block1\n",
        "  + Block1\n",
        "\n",
        "+ Main Branch:\n",
        "  + Concatenate output from Branch of categorical data and Numerical data\n",
        "  + Block1 \n",
        "  + Block1\n",
        "  + Linear\n",
        "  + Softmax\n",
        "\n",
        "\n",
        "The architecture of Wide and Deep Model is referred to https://github.com/zenwan/Wide-and-Deep-PyTorch\n",
        "\n",
        "We also modify the output layer of the model to predict possibility value in range [0,1] using sigmoid function and use one branch of categorical data only.\n",
        "\n",
        "#### **Input Features to network**\n",
        "The input features to category embedding branch are: \n",
        "  + source_system_tab , source_screen_name ,source_type ,genre_ids ,gender\n",
        "\n",
        "The input features to numerical branch are:\n",
        " + song_length, language , bd/age, registration_init_year, expiration_day, expiration_month,expiration_year, genre_count,composer_count,lyricist_count,composer_artist_intersect, composer_lyricist_intersect,artist_lyricist_intersect\n",
        "\n",
        "  "
      ]
    },
    {
      "cell_type": "code",
      "metadata": {
        "trusted": true,
        "id": "E7-Rv_AI2xXS"
      },
      "source": [
        "import torch\n",
        "from torch import nn\n",
        "import torch.nn.functional as F\n",
        "from torch.utils.data import Dataset, DataLoader\n",
        "class TabularDataset(Dataset):\n",
        "    def __init__(self, x_data, y_data, cat_cols1, cat_cols2, num_cols):\n",
        "        \n",
        "        \"\"\"\n",
        "        data: pandas data frame;\n",
        "        cat_cols: list of string, the names of the categorical columns in the data, will be passed through the embedding layers;\n",
        "        num_cols: list of string\n",
        "        y_data: the target\n",
        "        \"\"\"\n",
        "        self.n = x_data.shape[0]\n",
        "        self.y = y_data.astype(np.float32).reshape(-1, 1)#.values.reshape(-1, 1)\n",
        "       \n",
        "        self.cat_cols1 = cat_cols1\n",
        "        self.cat_cols2 = cat_cols2\n",
        "        self.num_cols = num_cols\n",
        "        \n",
        "        self.num_X = x_data[self.num_cols].astype(np.float32).values\n",
        "        self.cat_X1 = x_data[self.cat_cols1].astype(np.int64).values\n",
        "        self.cat_X2 = x_data[self.cat_cols2].astype(np.int64).values\n",
        "        \n",
        "    \n",
        "    def print_data(self):\n",
        "        return self.num_X, self.cat_X1, self.cat_X2, self.y\n",
        "    \n",
        "    def __len__(self):\n",
        "        \"\"\"\n",
        "        total number of samples\n",
        "        \"\"\"\n",
        "        return self.n\n",
        "    \n",
        "    def __getitem__(self, idx):\n",
        "        \"\"\"\n",
        "        Generates one sample of data.\n",
        "        \"\"\"\n",
        "        return [self.y[idx], self.num_X[idx], self.cat_X1[idx], self.cat_X2[idx]]\n",
        "\n"
      ],
      "execution_count": null,
      "outputs": []
    },
    {
      "cell_type": "code",
      "metadata": {
        "id": "iOenj135FqJx"
      },
      "source": [
        "train_dataset = TabularDataset(x_data=X_trainset, y_data=y_trainset, cat_cols1=categorical_ls1, \n",
        "                               cat_cols2=[], num_cols=numerical_ls)\n",
        "\n",
        "val_dataset = TabularDataset(x_data=X_validset, y_data=y_validset, cat_cols1=categorical_ls1,\n",
        "                             cat_cols2=[], num_cols=numerical_ls)\n",
        "\n"
      ],
      "execution_count": null,
      "outputs": []
    },
    {
      "cell_type": "code",
      "metadata": {
        "trusted": true,
        "id": "MyqYv2or2xXT"
      },
      "source": [
        "class FeedForwardNN(nn.Module):\n",
        "    def __init__(self, emb_dims1, emb_dims2, no_of_num, lin_layer_sizes, output_size, emb_dropout, lin_layer_dropouts, branch2_enable=0):\n",
        "        \"\"\"\n",
        "        emb_dims:           List of two element tuples;\n",
        "        no_of_num:          Integer, the number of continuous features in the data;\n",
        "        lin_layer_sizes:    List of integers. The size of each linear layer;\n",
        "        output_size:        Integer, the size of the final output;\n",
        "        emb_dropout:        Float, the dropout to be used after the embedding layers.\n",
        "        lin_layer_dropouts: List of floats, the dropouts to be used after each linear layer.\n",
        "        \"\"\"\n",
        "        super().__init__()\n",
        "        self.branch2_enable = branch2_enable\n",
        "        # embedding layers\n",
        "        self.emb_layers1 = nn.ModuleList([nn.Embedding(x, y) for x, y in emb_dims1])\n",
        "        self.emb_layers2 = nn.ModuleList([nn.Embedding(x, y) for x, y in emb_dims2])\n",
        "        \n",
        "        # 计算各个emb参数数量，为后续Linear layer的输入做准备\n",
        "        self.no_of_embs1 = sum([y for x, y in emb_dims1])\n",
        "        self.no_of_embs2 = sum([y for x, y in emb_dims2])\n",
        "        self.no_of_num = no_of_num\n",
        "        \n",
        "        # 分支1\n",
        "        self.branch1 = nn.Linear(self.no_of_embs1, lin_layer_sizes[0])\n",
        "        self.branch1_2 = nn.Linear(lin_layer_sizes[0], lin_layer_sizes[1])\n",
        "        nn.init.kaiming_normal_(self.branch1.weight.data)\n",
        "        nn.init.kaiming_normal_(self.branch1_2.weight.data)\n",
        "        \n",
        "        # 分支2\n",
        "        if branch2_enable:\n",
        "            self.branch2 = nn.Linear(self.no_of_embs2, lin_layer_sizes[0] * 2)\n",
        "            self.branch2_2 = nn.Linear(lin_layer_sizes[0] * 2, lin_layer_sizes[1] * 2)\n",
        "            nn.init.kaiming_normal_(self.branch2.weight.data)\n",
        "            nn.init.kaiming_normal_(self.branch2_2.weight.data)\n",
        "\n",
        "        # 主分支\n",
        "#         self.main_layer1 = nn.Linear(lin_layer_sizes[1] * 3 + self.no_of_num, lin_layer_sizes[2])\n",
        "        self.main_layer1 = nn.Linear(77, lin_layer_sizes[2])\n",
        "        self.main_layer2 = nn.Linear(lin_layer_sizes[2], lin_layer_sizes[3])\n",
        "        \n",
        "        # batch normal\n",
        "        self.branch_bn_layers1 = nn.BatchNorm1d(lin_layer_sizes[0])\n",
        "        self.branch_bn_layers2 = nn.BatchNorm1d(lin_layer_sizes[0] * 2)\n",
        "        self.main_bn_layer = nn.BatchNorm1d(lin_layer_sizes[2])\n",
        "        \n",
        "        # Dropout Layers\n",
        "        self.emb_dropout_layer = nn.Dropout(emb_dropout)\n",
        "        self.dropout_layers = nn.ModuleList([nn.Dropout(size) for size in lin_layer_dropouts])\n",
        "        \n",
        "        # Output layer\n",
        "        self.output_layer = nn.Linear(lin_layer_sizes[-1], output_size)\n",
        "        nn.init.kaiming_normal_(self.output_layer.weight.data)\n",
        "        self.sigmoid = nn.Sigmoid()\n",
        "        \n",
        "    def forward(self, num_data, cat_data1, cat_data2):\n",
        "        # embedding categorical feature and cat them together\n",
        "        x1 = [emb_layer(torch.tensor(cat_data1[:, i])) for i, emb_layer in enumerate(self.emb_layers1)]\n",
        "        x1 = torch.cat(x1, 1)\n",
        "        \n",
        "        x1 = self.emb_dropout_layer(F.relu(self.branch1(x1)))\n",
        "        x1 = self.branch_bn_layers1(x1)\n",
        "        x1 = self.dropout_layers[0](F.relu(self.branch1_2(x1)))\n",
        "        if self.branch2_enable:\n",
        "            x2 = [emb_layer(torch.tensor(cat_data2[:, i])) for i, emb_layer in enumerate(self.emb_layers2)]\n",
        "            x2 = torch.cat(x2, 1)\n",
        "\n",
        "            x2 = self.emb_dropout_layer(F.relu(self.branch2(x2)))\n",
        "            x2 = self.branch_bn_layers2(x2)\n",
        "            x2 = self.dropout_layers[0](F.relu(self.branch2_2(x2)))\n",
        "\n",
        "            main = torch.cat([x1, x2, num_data], 1)\n",
        "        else:\n",
        "            main = torch.cat([x1, num_data], 1)\n",
        "#         print(\"Main Shape: \", main.shape)\n",
        "        main = self.dropout_layers[1](F.relu(self.main_layer1(main)))\n",
        "        main = self.main_bn_layer(main)\n",
        "        main = self.dropout_layers[2](F.relu(self.main_layer2(main)))\n",
        "\n",
        "        out = self.output_layer(main)\n",
        "        out = self.sigmoid(out)\n",
        "        return out"
      ],
      "execution_count": null,
      "outputs": []
    },
    {
      "cell_type": "code",
      "metadata": {
        "trusted": true,
        "id": "pb3fmu6k2xXT"
      },
      "source": [
        "batchsize = 64\n",
        "train_dataloader = DataLoader(train_dataset, batchsize, shuffle=True, num_workers=2)\n",
        "val_dataloader = DataLoader(val_dataset, 64, shuffle=True, num_workers=2)"
      ],
      "execution_count": null,
      "outputs": []
    },
    {
      "cell_type": "code",
      "metadata": {
        "trusted": true,
        "id": "eHCS9v3D2xXT"
      },
      "source": [
        "# next(iter(train_dataloader))[3]"
      ],
      "execution_count": null,
      "outputs": []
    },
    {
      "cell_type": "code",
      "metadata": {
        "trusted": true,
        "id": "AJV7y2qF2xXT"
      },
      "source": [
        "np.random.seed(2020)\n",
        "device = torch.device(\"cuda\" if torch.cuda.is_available() else \"cpu\")\n",
        "model = FeedForwardNN(emb_dims1=emb_dims1,\n",
        "                      emb_dims2=emb_dims2, \n",
        "                      no_of_num=len(numerical_ls),\n",
        "                      lin_layer_sizes=[128,64,32,16],\n",
        "                      output_size=1,\n",
        "                      lin_layer_dropouts=[0.1, 0.1, 0.05],\n",
        "                      emb_dropout=0.05).to(device)"
      ],
      "execution_count": null,
      "outputs": []
    },
    {
      "cell_type": "code",
      "metadata": {
        "id": "Ce2A14jk0ruy"
      },
      "source": [
        ""
      ],
      "execution_count": null,
      "outputs": []
    },
    {
      "cell_type": "code",
      "metadata": {
        "trusted": true,
        "colab": {
          "base_uri": "https://localhost:8080/"
        },
        "id": "pkLG0AKD2xXT",
        "outputId": "90627423-56ff-4738-858d-d20f17e083f0"
      },
      "source": [
        "device,len(train_dataloader)"
      ],
      "execution_count": null,
      "outputs": [
        {
          "output_type": "execute_result",
          "data": {
            "text/plain": [
              "(device(type='cpu'), 92218)"
            ]
          },
          "metadata": {
            "tags": []
          },
          "execution_count": 96
        }
      ]
    },
    {
      "cell_type": "markdown",
      "metadata": {
        "id": "rDlVtgq3i3xZ"
      },
      "source": [
        "## 5.Model Training and Validation on Wide and Deep model"
      ]
    },
    {
      "cell_type": "code",
      "metadata": {
        "colab": {
          "base_uri": "https://localhost:8080/"
        },
        "id": "YQSncEShCBes",
        "outputId": "f3b11e0b-5979-4a81-ca62-3d8283541a5c"
      },
      "source": [
        "no_of_epochs = 2\n",
        "batch_num = 4000\n",
        "# criterion = torch.nn.MSELoss()\n",
        "criterion = torch.nn.BCELoss()\n",
        "optimizer = torch.optim.Adam(model.parameters(), lr=0.001)\n",
        "lrscheduler = torch.optim.lr_scheduler.ReduceLROnPlateau(optimizer, mode='max', factor=0.1, patience=2, threshold=0.9 )\n",
        "total_data = train_dataset.__len__()\n",
        "best_val_score = 0.0\n",
        "best_model =None\n",
        "\n",
        "print_every = 500\n",
        "steps = 0\n",
        "running_loss = 0\n",
        "\n",
        "for epoch in range(no_of_epochs):\n",
        "    model.train()\n",
        "    batch_cnt = 0\n",
        "    for index, datas in enumerate(train_dataloader):\n",
        "        if batch_cnt == batch_num:\n",
        "            break\n",
        "        steps += 1\n",
        "        batch_cnt += 1\n",
        "        y, num_x, cat_x1, cat_x2 = datas\n",
        "        cat_x1 = cat_x1.to(device)\n",
        "        cat_x2 = cat_x2.to(device)\n",
        "        num_x = num_x.to(device)\n",
        "        y  = y.to(device)\n",
        "        \n",
        "        # Forward Pass\n",
        "        optimizer.zero_grad()\n",
        "        preds = model.forward(num_x, cat_x1, cat_x2)\n",
        "        loss = criterion(preds, y)\n",
        "        loss.backward()\n",
        "        optimizer.step()\n",
        "        running_loss += loss.item()\n",
        "        \n",
        "        if steps % print_every == 0:\n",
        "            val_loss = 0\n",
        "            model.eval()\n",
        "            val_acc = 0.\n",
        "            total_len = 0.\n",
        "            with torch.no_grad():\n",
        "                for val_index, val_datas in enumerate(val_dataloader):\n",
        "                    y, num_x, cat_x1, cat_x2 = val_datas\n",
        "                    cat_x1 = cat_x1.to(device)\n",
        "                    cat_x2 = cat_x2.to(device)\n",
        "                    num_x = num_x.to(device)\n",
        "                    y  = y.to(device)\n",
        "                    \n",
        "                    out = model.forward(num_x, cat_x1, cat_x2)\n",
        "                    batch_loss = criterion(out, y)\n",
        "                    val_acc += ((out>0.5)==y ).sum().detach().to('cpu').numpy()\n",
        "                    total_len += len(out)\n",
        "                    \n",
        "                    val_loss += batch_loss.item()\n",
        "\n",
        "            val_acc /= total_len\n",
        "            if val_acc> best_val_score:\n",
        "                  best_val_score = val_acc\n",
        "                  torch.save(model,\"checkpoint.pt\")\n",
        "                      \n",
        "                      # print(\"Checkpoint saved.\")\n",
        "            # update scheduler\n",
        "            lrscheduler.step(val_loss)\n",
        "            print(f\"Epoch {epoch+1}/{no_of_epochs}..\"\n",
        "                     f\"Train loss:{running_loss/print_every:.4f}..\"\n",
        "                     f\"Validation loss:{val_loss/len(val_dataloader):.4f}..\"\n",
        "                 f\"Validation Acc:{val_acc:.4f}..\"\n",
        "                 f\"Best Validation Acc:{best_val_score:.4f}..\")\n",
        "            running_loss = 0\n",
        "            model.train()\n",
        "print(\"Training Completed\")\n",
        "best_model = torch.load(\"checkpoint.pt\")"
      ],
      "execution_count": null,
      "outputs": [
        {
          "output_type": "stream",
          "text": [
            "Epoch 1/2..Train loss:0.6945..Validation loss:0.6925..Validation Acc:0.5302..Best Validation Acc:0.5302..\n",
            "Epoch 1/2..Train loss:0.6742..Validation loss:0.6663..Validation Acc:0.6229..Best Validation Acc:0.6229..\n",
            "Epoch 1/2..Train loss:0.6640..Validation loss:0.6618..Validation Acc:0.6245..Best Validation Acc:0.6245..\n",
            "Epoch 1/2..Train loss:0.6623..Validation loss:0.6768..Validation Acc:0.6252..Best Validation Acc:0.6252..\n",
            "Epoch 1/2..Train loss:0.6628..Validation loss:0.6648..Validation Acc:0.6249..Best Validation Acc:0.6252..\n",
            "Epoch 1/2..Train loss:0.6636..Validation loss:0.6656..Validation Acc:0.6253..Best Validation Acc:0.6253..\n",
            "Epoch 1/2..Train loss:0.6623..Validation loss:0.6674..Validation Acc:0.6254..Best Validation Acc:0.6254..\n",
            "Epoch 1/2..Train loss:0.6640..Validation loss:0.6649..Validation Acc:0.6255..Best Validation Acc:0.6255..\n",
            "Epoch 2/2..Train loss:0.6597..Validation loss:0.6638..Validation Acc:0.6256..Best Validation Acc:0.6256..\n",
            "Epoch 2/2..Train loss:0.6605..Validation loss:0.6584..Validation Acc:0.6259..Best Validation Acc:0.6259..\n",
            "Epoch 2/2..Train loss:0.6609..Validation loss:0.6636..Validation Acc:0.6263..Best Validation Acc:0.6263..\n",
            "Epoch 2/2..Train loss:0.6602..Validation loss:0.6620..Validation Acc:0.6263..Best Validation Acc:0.6263..\n",
            "Epoch 2/2..Train loss:0.6647..Validation loss:0.6658..Validation Acc:0.6264..Best Validation Acc:0.6264..\n",
            "Epoch 2/2..Train loss:0.6615..Validation loss:0.6644..Validation Acc:0.6262..Best Validation Acc:0.6264..\n",
            "Epoch 2/2..Train loss:0.6641..Validation loss:0.6764..Validation Acc:0.6254..Best Validation Acc:0.6264..\n",
            "Epoch 2/2..Train loss:0.6600..Validation loss:0.6926..Validation Acc:0.6263..Best Validation Acc:0.6264..\n",
            "Training Completed\n"
          ],
          "name": "stdout"
        }
      ]
    },
    {
      "cell_type": "code",
      "metadata": {
        "colab": {
          "base_uri": "https://localhost:8080/"
        },
        "id": "uWli2rSz2BjV",
        "outputId": "9a5e9fb2-be06-4ee1-c039-649ba712dd80"
      },
      "source": [
        "print(f\"Best Validation Acc:{best_val_score:.4f}..\")"
      ],
      "execution_count": null,
      "outputs": [
        {
          "output_type": "stream",
          "text": [
            "Best Validation Acc:0.6264..\n"
          ],
          "name": "stdout"
        }
      ]
    },
    {
      "cell_type": "code",
      "metadata": {
        "id": "5eb0aYK-dfx-"
      },
      "source": [
        "model = torch.load(\"checkpoint.pt\")"
      ],
      "execution_count": null,
      "outputs": []
    },
    {
      "cell_type": "code",
      "metadata": {
        "id": "eC11dVl9GqWc"
      },
      "source": [
        "test_dataset = TabularDataset(x_data=test_data, y_data=np.zeros(len(test_data)), cat_cols1=categorical_ls1,\n",
        "                             cat_cols2=[], num_cols=numerical_ls)"
      ],
      "execution_count": null,
      "outputs": []
    },
    {
      "cell_type": "code",
      "metadata": {
        "trusted": true,
        "id": "_EjpgOTK2xXU"
      },
      "source": [
        "def evaluation(test_dataloder):\n",
        "    \n",
        "    model.eval()\n",
        "    total_cnt = 0.\n",
        "    correct_cnt = 0.\n",
        "    acc = None\n",
        "    with torch.no_grad():\n",
        "        for test_index, test_datas in enumerate(test_dataloder):\n",
        "                        y, num_x, cat_x1, cat_x2 = test_datas\n",
        "                        cat_x1 = cat_x1.to(device)\n",
        "                        cat_x2 = cat_x2.to(device)\n",
        "                        num_x = num_x.to(device)\n",
        "                        y  = y.to(device)            \n",
        "                        out = model.forward(num_x, cat_x1, cat_x2)\n",
        "                        correct_cnt += ((out>0.5)==y ).sum().detach().to('cpu').numpy()\n",
        "                        total_cnt += len(out)\n",
        "#                         out = out.squeeze().to(\"cpu\").numpy().tolist()\n",
        "                        \n",
        "        acc = 100* correct_cnt / total_cnt\n",
        "        print(\"Evaluation Acc: %.4f %%\"%(acc))\n",
        "    return acc\n"
      ],
      "execution_count": null,
      "outputs": []
    },
    {
      "cell_type": "markdown",
      "metadata": {
        "id": "BZysOG0vibQt"
      },
      "source": [
        "## 6.Model Evaluation on Wide and Deep model using validation set"
      ]
    },
    {
      "cell_type": "code",
      "metadata": {
        "colab": {
          "base_uri": "https://localhost:8080/"
        },
        "id": "L-DZUYRgeZ_F",
        "outputId": "44d3a1b1-3b07-470e-d463-ae5c9b2ffc50"
      },
      "source": [
        "acc = evaluation(val_dataloader)"
      ],
      "execution_count": null,
      "outputs": [
        {
          "output_type": "stream",
          "text": [
            "Evaluation Acc: 62.6432 %\n"
          ],
          "name": "stdout"
        }
      ]
    },
    {
      "cell_type": "code",
      "metadata": {
        "trusted": true,
        "id": "fmr-DhnE2xXU"
      },
      "source": [
        "def predict_test(test_dataset):\n",
        "    preds = []\n",
        "    model.eval()\n",
        "    test_dataloder = DataLoader(test_dataset, 200, shuffle=False, num_workers=4)\n",
        "    with torch.no_grad():\n",
        "        for test_index, test_datas in enumerate(test_dataloder):\n",
        "                        y, num_x, cat_x1, cat_x2 = test_datas\n",
        "                        cat_x1 = cat_x1.to(device)\n",
        "                        cat_x2 = cat_x2.to(device)\n",
        "                        num_x = num_x.to(device)\n",
        "                        y  = y.to(device)            \n",
        "                        out = model.forward(num_x, cat_x1, cat_x2)\n",
        "                        out = out.squeeze().to(\"cpu\").numpy().tolist()\n",
        "#                         print(out)\n",
        "                        preds.extend(out)\n",
        "                        \n",
        "    return np.array(preds)\n",
        "        "
      ],
      "execution_count": null,
      "outputs": []
    },
    {
      "cell_type": "markdown",
      "metadata": {
        "id": "CeIvFotP1oTu"
      },
      "source": [
        "## Make Predictions and submission"
      ]
    },
    {
      "cell_type": "code",
      "metadata": {
        "trusted": true,
        "id": "PvygQniy2xXV",
        "colab": {
          "base_uri": "https://localhost:8080/"
        },
        "outputId": "53c9221f-229a-40be-b0fe-1b3b75a52d2d"
      },
      "source": [
        "preds = predict_test(test_dataset)\n",
        "submission = pd.DataFrame()\n",
        "submission['id'] = ids\n",
        "submission['target'] = preds\n",
        "submission.to_csv(root + 'submission_WideAndDeep_model.csv.gz', compression = 'gzip', index=False, float_format = '%.5f')\n",
        "print(\"Model Predictions: \",preds)\n",
        "# !kaggle competitions submit -c ./train/data -f submission_lgbm_model.csv.gz -m \"Message\"\n"
      ],
      "execution_count": null,
      "outputs": [
        {
          "output_type": "stream",
          "text": [
            "Model Predictions:  [0.60901934 0.60901934 0.35112065 ... 0.54463851 0.48204085 0.54300648]\n"
          ],
          "name": "stdout"
        }
      ]
    },
    {
      "cell_type": "markdown",
      "metadata": {
        "id": "8dlbMb1gbaYJ"
      },
      "source": [
        "submission_WideAndDeep_model.csv.gz\n",
        "WideAndDeep_model\n",
        "0.61628\n",
        "0.61117"
      ]
    },
    {
      "cell_type": "code",
      "metadata": {
        "colab": {
          "base_uri": "https://localhost:8080/",
          "height": 77
        },
        "id": "oLv8XyADbZXd",
        "outputId": "afc3e677-e684-4551-b5cc-baddb1c09d71"
      },
      "source": [
        "perf_df = pd.DataFrame({\"model name\":['Wide and Deep model'],\"private_score\":[0.61628], \"public score\": [0.61117]})\n",
        "perf_df"
      ],
      "execution_count": null,
      "outputs": [
        {
          "output_type": "execute_result",
          "data": {
            "text/html": [
              "<div>\n",
              "<style scoped>\n",
              "    .dataframe tbody tr th:only-of-type {\n",
              "        vertical-align: middle;\n",
              "    }\n",
              "\n",
              "    .dataframe tbody tr th {\n",
              "        vertical-align: top;\n",
              "    }\n",
              "\n",
              "    .dataframe thead th {\n",
              "        text-align: right;\n",
              "    }\n",
              "</style>\n",
              "<table border=\"1\" class=\"dataframe\">\n",
              "  <thead>\n",
              "    <tr style=\"text-align: right;\">\n",
              "      <th></th>\n",
              "      <th>model name</th>\n",
              "      <th>private_score</th>\n",
              "      <th>public score</th>\n",
              "    </tr>\n",
              "  </thead>\n",
              "  <tbody>\n",
              "    <tr>\n",
              "      <th>0</th>\n",
              "      <td>Wide and Deep model</td>\n",
              "      <td>0.61628</td>\n",
              "      <td>0.61117</td>\n",
              "    </tr>\n",
              "  </tbody>\n",
              "</table>\n",
              "</div>"
            ],
            "text/plain": [
              "            model name  private_score  public score\n",
              "0  Wide and Deep model        0.61628       0.61117"
            ]
          },
          "metadata": {
            "tags": []
          },
          "execution_count": 108
        }
      ]
    },
    {
      "cell_type": "code",
      "metadata": {
        "colab": {
          "base_uri": "https://localhost:8080/",
          "height": 196
        },
        "id": "ACKm7ymWb-uH",
        "outputId": "e1c036e0-ee20-4c54-83e6-78094257a8a4"
      },
      "source": [
        "model_names = [\"lgbm model 0\",\"lgbm model 1\",\"lgbm model 2\",\"lgbm model 3\",\"lgbm model 4\"]\n",
        "private_score = [0.67206,0.67416,0.67416,0.67435,0.67423]\n",
        "public_score = [0.66940,0.67188,0.67208,0.67241,0.67256]\n",
        "perf_df = pd.DataFrame({\"model name\":model_names,\"max_depth:\":max_depths,\"private_score\":private_score, \"public score\": public_score})\n",
        "perf_df"
      ],
      "execution_count": null,
      "outputs": [
        {
          "output_type": "execute_result",
          "data": {
            "text/html": [
              "<div>\n",
              "<style scoped>\n",
              "    .dataframe tbody tr th:only-of-type {\n",
              "        vertical-align: middle;\n",
              "    }\n",
              "\n",
              "    .dataframe tbody tr th {\n",
              "        vertical-align: top;\n",
              "    }\n",
              "\n",
              "    .dataframe thead th {\n",
              "        text-align: right;\n",
              "    }\n",
              "</style>\n",
              "<table border=\"1\" class=\"dataframe\">\n",
              "  <thead>\n",
              "    <tr style=\"text-align: right;\">\n",
              "      <th></th>\n",
              "      <th>model name</th>\n",
              "      <th>max_depth:</th>\n",
              "      <th>private_score</th>\n",
              "      <th>public score</th>\n",
              "    </tr>\n",
              "  </thead>\n",
              "  <tbody>\n",
              "    <tr>\n",
              "      <th>0</th>\n",
              "      <td>lgbm model 0</td>\n",
              "      <td>10</td>\n",
              "      <td>0.67206</td>\n",
              "      <td>0.66940</td>\n",
              "    </tr>\n",
              "    <tr>\n",
              "      <th>1</th>\n",
              "      <td>lgbm model 1</td>\n",
              "      <td>15</td>\n",
              "      <td>0.67416</td>\n",
              "      <td>0.67188</td>\n",
              "    </tr>\n",
              "    <tr>\n",
              "      <th>2</th>\n",
              "      <td>lgbm model 2</td>\n",
              "      <td>20</td>\n",
              "      <td>0.67416</td>\n",
              "      <td>0.67208</td>\n",
              "    </tr>\n",
              "    <tr>\n",
              "      <th>3</th>\n",
              "      <td>lgbm model 3</td>\n",
              "      <td>25</td>\n",
              "      <td>0.67435</td>\n",
              "      <td>0.67241</td>\n",
              "    </tr>\n",
              "    <tr>\n",
              "      <th>4</th>\n",
              "      <td>lgbm model 4</td>\n",
              "      <td>30</td>\n",
              "      <td>0.67423</td>\n",
              "      <td>0.67256</td>\n",
              "    </tr>\n",
              "  </tbody>\n",
              "</table>\n",
              "</div>"
            ],
            "text/plain": [
              "     model name  max_depth:  private_score  public score\n",
              "0  lgbm model 0          10        0.67206       0.66940\n",
              "1  lgbm model 1          15        0.67416       0.67188\n",
              "2  lgbm model 2          20        0.67416       0.67208\n",
              "3  lgbm model 3          25        0.67435       0.67241\n",
              "4  lgbm model 4          30        0.67423       0.67256"
            ]
          },
          "metadata": {
            "tags": []
          },
          "execution_count": 109
        }
      ]
    },
    {
      "cell_type": "markdown",
      "metadata": {
        "id": "eX2nAnRuDJMD"
      },
      "source": [
        "From the result above, we can see the best accuracy score on testset from kaggle is 67.256%. Note that in Kaggle leaderboard, the best score is 74% only. The preprocessing and transformation of dataset is still one of the keys to improve the performance. Good data transformation and creating new features  could be a way to improve the accuracy."
      ]
    },
    {
      "cell_type": "code",
      "metadata": {
        "id": "AxsmXfvgrefZ"
      },
      "source": [
        ""
      ],
      "execution_count": null,
      "outputs": []
    },
    {
      "cell_type": "code",
      "metadata": {
        "id": "mguwkFj2rebs"
      },
      "source": [
        ""
      ],
      "execution_count": null,
      "outputs": []
    },
    {
      "cell_type": "markdown",
      "metadata": {
        "id": "o8HOkfCm2xXF"
      },
      "source": [
        "# 7. KKBox-Music Recommendation System Project Report\n",
        "\n",
        "## Motivation\n",
        "A recommendation system is a subclass of an information filtering system that seeks to predict the \"rating\" or \"preference\" a user would give to an item.\n",
        "In Music Recommendation System, due to the fact that there are millions of musics, composers, artist and other information, it is hard for users to pick the musics they like from millions of songs. Hence it is necessary to build a music recommendation system to recommend musics, which users prefer and are likely to repeat listening to.\n",
        "\n",
        "## Goal of this project\n",
        "In this project, we are going to build a recommendation system to predict the chances of a user listening to a song repetitively after the first observable listening event within a time window was triggered. If there are recurring listening event(s) triggered within a month after the user’s very first observable listening event, its target is marked 1, and 0 otherwise in the training set. The same rule applies to the testing set.\n",
        "\n",
        "## Data Collection and Description\n",
        "In data collection, we introduce two ways to download the large dataset 1.7GB (which can not be stored in github so we put it in google drive): One is use Google Drive Link, the other one is to download it from kaggle website.\n",
        "And the KKBox dataset is composed of following files:\n",
        "\n",
        "1. train.csv\n",
        "    + msno: user id\n",
        "    + song_id: song id\n",
        "    + source_system_tab: the name of the tab where the event was triggered. System tabs are used to categorize KKBOX mobile apps functions. For example, tab my library contains functions to manipulate the local storage, and tab search contains functions relating to search.\n",
        "    + source_screen_name: name of the layout a user sees.\n",
        "    + source_type: an entry point a user first plays music on mobile apps. An entry point could be album, online-playlist, song .. etc.\n",
        "    + target: this is the target variable. target=1 means there are recurring listening event(s) triggered within a month after the user’s very first observable listening event, target=0 otherwise .\n",
        "    \n",
        " \n",
        "2. test.csv\n",
        "    + id: row id (will be used for submission)\n",
        "    + msno: user id\n",
        "    + song_id: song id\n",
        "    + source_system_tab: the name of the tab where the event was triggered. System tabs are used to categorize KKBOX mobile apps functions. For example, tab my library contains functions to manipulate the local storage, and tab search contains functions relating to search.\n",
        "    + source_screen_name: name of the layout a user sees.\n",
        "    + source_type: an entry point a user first plays music on mobile apps. An entry point could be album, online-playlist, song .. etc.\n",
        "\n",
        "3. sample_submission.csv\n",
        "    + sample submission file in the format that we expect you to submit\n",
        "    + id: same as id in test.csv\n",
        "    + target: this is the target variable. target=1 means there are recurring listening event(s) triggered within a month after the user’s very first observable listening event, target=0 otherwise .\n",
        "    \n",
        "    \n",
        "4. songs.csv\n",
        "    The songs. Note that data is in unicode.\n",
        "\n",
        "    + song_id\n",
        "    + song_length: in ms\n",
        "    + genre_ids: genre category. Some songs have multiple genres and they are separated by |\n",
        "    + artist_name\n",
        "    + composer\n",
        "    + lyricist\n",
        "    + language\n",
        "    \n",
        "    \n",
        "5. members.csv\n",
        "    user information.\n",
        "    + msno\n",
        "    + city\n",
        "    + bd: age. Note: this column has outlier values, please use your judgement.\n",
        "    + gender\n",
        "    + registered_via: registration method\n",
        "    + registration_init_time: format %Y%m%d\n",
        "    + expiration_date: format %Y%m%d\n",
        "\n",
        "6. song_extra_info.csv\n",
        "    + song_id\n",
        "    + song name - the name of the song.\n",
        "    + isrc - International Standard Recording Code, theoretically can be used as an identity of a song. However, what worth to note is, ISRCs generated from providers have not been officially verified; therefore the information in ISRC, such as country code and reference year, can be misleading/incorrect. Multiple songs could share one ISRC since a single recording could be re-published several times.\n",
        "\n",
        "## Exploratory Data Analysis (EDA)\n",
        "In data exploratory data analysis, we do the following visualization and analysis to explore the relationship between different pairs of attributes:\n",
        "\n",
        "+ Find the Description and summary of each CSV file and determine Null object, categorical attributes, numerical attributes\n",
        "+ Analyze Song information\n",
        "  - Plot and visualize the count of song genres, composers, artists\n",
        "  From the plots of genres, composers, artists, we find that such kinds of features are long-tailed distribution, with most of users focusing on listening to some specific genres of songs, or songs from specific composers and artists.\n",
        "\n",
        "  - Plot and visualize the count of source types, source screen names, system tabs with target as hue axis. From the bar plot of source, screen names, system tabs, we find that most of users prefer repeating listening to music from their local library or local resources. Hence it is good to keep these kinds of features to train model later\n",
        "\n",
        "\n",
        "+ Analyze Member information\n",
        "  - visualize the count of bd/age attribute\n",
        "  - visualize correlation between different attributes using heatmap plot\n",
        "\n",
        "+ Plot bivariate plots to visualize and analyze relationship between attributes, like city and age/bd, expiration date and target. In this part of analysis, we can see the ages of most of users who repeat listening to songs are around 20~30.\n",
        "\n",
        "\n",
        "## Data Preprocessing \n",
        "**Note that** This section is to preprocess data like filling missing values and removing outliers. \n",
        "\n",
        "**In order to train models, you should start from step 3 ETL to extract and transform data directly using integrated functions**\n",
        "\n",
        "In Data Preprocessing step, we do the following to clean the data\n",
        "+ Convert String datetime data to datetime format and separate year, month, day as new features\n",
        "+ Remove the outlier in bd/age features and replace them with NaN.\n",
        "\n",
        "+ Filling missing values for categorical data using \"no_data\" label and numerical data using median values\n",
        "\n",
        "+ Adding new features, like the counts of composers, artists, lyricist, the counts of intersection names among composers, artists and lyricists.\n",
        "\n",
        "+ Convert features from object type into categorical type.\n",
        "\n",
        "## Data Pipeline: Extract, Transformation, Load (ETL) \n",
        "In this step, we integrate the data cleaning steps into transformation functions to clean and transform the data so that we can easily clean the data. Then we split the dataset into training set (80%) and validation set (20%) to train the models later. \n",
        "\n",
        "As the training set is used to train the models, the validation set is used to test and keep track of the accuracy performance of models on unseen data during training. Two dataset should be separated from each other.\n",
        "\n",
        "\n",
        "## Machine Learning Modeling\n",
        "+ **Task**\n",
        "  Since this project is to predict the chances of a user listening to a song repetitively after the first observable listening event within a time window was triggered, the output from machine learning model is the possibility that a user will repeat listening to a song after the first listening event.\n",
        "  Hence, this problem can be modeled as a binary classification problem\n",
        "\n",
        "+ **Loss Function**\n",
        "  Since this task is a binary classification problem, we simply select binary cross entropy loss as the loss function used to train parametric machine learning model, like deep learning model, logistic regression, etc.\n",
        "\n",
        "+ **Evaluation Metric**\n",
        "  The evaluation metric to measure the performance of machine learning model is selected to be accuracy and AUC (area under curve), since we care about how accurate the models could be..\n",
        "\n",
        "+ **Light Gradient Boosting machines (LGBM) model**\n",
        "  In the modeling part, we use LGBM model first, which is a light gradient boosting machine model using tree-based basic models for boosting. LGBM is one of ensemble learning methods, which uses multiple decision tree models for boosting to better fit the data and improve the accuracy performance.\n",
        "\n",
        "  Since the dataset is large, 1.7 GB and the number of attributes can increase during data transformation and LGBM provides a very fast way to train a machine model and also achieve good accuracy performances based on previous works from other kaggle users,  we try LGBM models here.\n",
        "\n",
        "  In this part, we train LGBM models with different max_depths of tree: [10, 15,20, 25, 30] to see how max_depth affects the accuracy on prediction\n",
        "\n",
        "+ **Wide and Deep Neural network model**\n",
        "\n",
        "  In addition to LGBM model, we are also interested in trying the Wide and Deep Neural network model since it is one of the popular neural network models in recommendation system and we want to see if this can help us improve the accuracy. The reference to Wide and Deep model is as follow: https://github.com/zenwan/Wide-and-Deep-PyTorch/blob/master/wide_deep/torch_model.py\n",
        "\n",
        "  In wide and deep model, It first uses a technique called embedding, which projects the sparse categorical features into dense features vectors with smaller dimension and extract the main features. Then it concatenates the embedded vectors with the numerical features together to train a traditional neural network classifier.\n",
        "  Before we train the Wide and Deep model, we use label encoder from sklearn to transform categorical data into numerical data. Then we use those numerical labels to train our network.\n",
        "\n",
        "## Model Training and validation\n",
        "+ In model training and validation step, we split the data set into training set(80% of dataset) and validation set (20% of dataset) and then use them to train and keep track of the performance of models. While the training set is used to train models, the validation set which is invisible to models is used to test the performance of models on unseen data, so that we can know if the model is overfitting or not. If training accuracy is increasing, but validation accuracy is decreasing, then the model is actually overfitting on training set\n",
        "\n",
        "Another way to estimate the performance of models is Cross-Validation. However, since this method requires us to repeat training different models using different folds of dataset and the dataset is 1.7GB, it will be time-consuming to use Cross-validation on a large dataset. Hence, in this case, we simply use a hold-out dataset as validation dataset to validate model during training\n",
        "\n",
        "## Model Evaluation and Results\n",
        "In Model evaluation step, we simply use the validation dataset to validate the final trained models and then let models make predictions on testset from kaggle and submit predictions to kaggle to see the final evaluation scores.\n",
        "\n",
        "In the final results on test data from kaggle, we can see that light gradient boosting machines have the accuracy performance better than Wide and Deep Neural Network model. The best score in LGBM models is 67.256% while the Wide and Deep model has accuracy of 61.11%. \n",
        "\n",
        "Moreover, we can observe that as the value of max_depth of decision tree in Boosting machine increases, both validation accuracy and teset accuracy increase gradually. It implies that the performance of our LGBM models may be improved by increasing the max_depth. As increasing max_depth can improve the learning/fitting ability of LGBM model, it is possible that tuning other parameters like number of leaves, number of training epoches may also help improve the accuracy and let models better fit the dataset.\n",
        "\n",
        "Although the Wide and Deep model performance is not so well, we may improve its performance by tunning the parameters like dropout rate in neural network, learning rate, training epoches in the future. In addition, in our experiments we  try two epoches only, this is because we run the program in Google Colab and also try it in Kaggle platform, but the hardware is not powerful enough to train the model quickly and there is time limit in using GPU. Therefore, we can try better hardware to boost the training process in the future.\n",
        "\n",
        "\n",
        "## Future Work\n",
        "In this project, there are several things we can improve in the future:\n",
        "+ We can use better hardware for training models, rather than using Google Colab or Kaggle platform, so that we can better train the deep learning model\n",
        "+ Tune the LGBM models using grid search and choose larger max_depth values or tune other parameters\n",
        "+ Try to create more new features from text attributes like composer, lyricist, artist and use feature importance methods to pick features that most contribute to prediction\n",
        "+ Try a better neural network architecture to fit the data as we can see the network model here doesn't fit the dataset very well\n",
        "\n",
        "## Summary \n",
        "In conclusion, we collect 1.7GB KKBOX music dataset from kaggle and do exploratory data analysis (EDA) on the data by visualizing the attributes and compute the correlations among features. Then we clean the dataset by removing outliers from age/bd attributes, filling missing categorical data with new label and missing numerical data with median value. We also transform the text data and create new features. After that we use 80% dataset as training set and 20% dataset as validation set.\n",
        "\n",
        "In Modeling and Evaluation, we use LGBM models and Wide & Deep Neural network model to fit the dataset and also tune the max_depth parameter in LGBM to do binary classification task. The best accuracy performance of our models is 67.25% while the best accuracy from kaggle leaderboard is about 74%.\n",
        "\n",
        "Lesson we learn from this project is that data analysis and transformation is one of the key parts to improve the performance of machine learning model, since it tells us the correlation between features and target and see which features contribute to the important information used to train models. In this section, we can either use visualization method, like count plot, distribution plot, etc to analyze the relationship between features and target, or use quantitaive measurement like correlation matrix, feature importance from decision tree, hypothesis testing, etc to determine the most important features.\n",
        "\n",
        "In modeling parts, we can choose different models based on the task we do and properties of dataset. For example, in this music dataset, the features are not linear separated, in this case, we use LGBM model gradient boosting machine based on decision tree models (non-linear model) to fit the data. In addition, since the dataset contains many categorical data, we can use embedding method in deep learning to convert sparse categorical data into dense numerical data to reduce data dimension and train model. Since the prediction task is binary classification and we only care accuracy, we only use accuracy as metric  to evaluate performance of models.\n",
        "\n",
        "At the end, we also summarize the future works to improve the project, like using better hardware resources, tunning other parameters of models and explore more useful features for training.\n",
        "\n",
        "\n",
        "\n",
        "## Reference\n",
        "[1] https://github.com/zenwan/Wide-and-Deep-PyTorch/blob/master/wide_deep/torch_model.py\n",
        "\n",
        "[2] https://www.kaggle.com/c/kkbox-music-recommendation-challenge/submit\n",
        "\n",
        "[3] https://www.kaggle.com/asmitavikas/feature-engineered-0-68310\n",
        "\n",
        "[4] https://blog.statsbot.co/recommendation-system-algorithms-ba67f39ac9a3\n",
        "\n",
        "[5] https://medium.com/@pushkarmandot/https-medium-com-pushkarmandot-what-is-lightgbm-how-to-implement-it-how-to-fine-tune-the-parameters-60347819b7fc\n",
        "\n",
        "[6] https://towardsdatascience.com/how-to-build-a-wide-and-deep-model-using-keras-in-tensorflow-2-0-2f7a236b5a4b\n",
        "\n",
        "[7] https://lightgbm.readthedocs.io/en/latest/pythonapi/lightgbm.Dataset.html#lightgbm.Dataset\n"
      ]
    },
    {
      "cell_type": "code",
      "metadata": {
        "trusted": true,
        "id": "rLqAVUJR2xXV"
      },
      "source": [
        ""
      ],
      "execution_count": 4,
      "outputs": []
    },
    {
      "cell_type": "code",
      "metadata": {
        "trusted": true,
        "id": "-5A2q7nr2xXV"
      },
      "source": [
        ""
      ],
      "execution_count": null,
      "outputs": []
    },
    {
      "cell_type": "code",
      "metadata": {
        "trusted": true,
        "id": "WMnsjeEG2xXV"
      },
      "source": [
        ""
      ],
      "execution_count": null,
      "outputs": []
    }
  ]
}